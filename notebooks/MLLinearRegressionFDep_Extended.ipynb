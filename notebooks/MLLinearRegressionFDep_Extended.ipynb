{
 "cells": [
  {
   "cell_type": "code",
   "execution_count": 1,
   "metadata": {
    "slideshow": {
     "slide_type": "skip"
    }
   },
   "outputs": [
    {
     "name": "stdout",
     "output_type": "stream",
     "text": [
      "Populating the interactive namespace from numpy and matplotlib\n"
     ]
    }
   ],
   "source": [
    "%pylab inline"
   ]
  },
  {
   "cell_type": "markdown",
   "metadata": {
    "slideshow": {
     "slide_type": "slide"
    }
   },
   "source": [
    "<h3><font color='blue'>=================================================</font></h3>\n",
    "<font color='olive'>\n",
    "<h1>What is machine learnng</h1><br>\n",
    "<font color='darkgreen'>\n",
    "<ul>\n",
    "<li>Very simply - learning from existing, past data to predict outcomes – continuous or discrete, to group – for new, future data</li><br>\n",
    "<li>Tom Mitchell(1998) – A computer program is said to learn from experience E with respect to some task T and some performance measure P, if its performance on T, as measured by P, improves with experience E</li><br>\n",
    "<li>Two main categories of machine learning – supervised and unsupervised learning.</li><br>\n",
    "<ul>\n",
    "<li>Supervised learning – dependent/result variable is present in the data – given volume of trades,  delivery ratios, futures and options open interest positions, put call ratios, 50 day moving average differential, predict the closing price<br><br>\n",
    "<li>\n",
    "Given the pattern of last x days predict whether the closing price will be higher or lower or same – one of three discrete values – this is an example of a supervised learning classification problem</li><br><br>\n",
    "<li>Unsupervised learning – the outcome/result variable is not in the data – for a marketing campaign classify audiences into different groups basis their attributes and purchasing patterns</li><br>\n",
    "</ul>\n",
    "</ul>\n",
    "</font>\n",
    "<h3><font color='blue'>=================================================</font></h3>"
   ]
  },
  {
   "cell_type": "markdown",
   "metadata": {
    "slideshow": {
     "slide_type": "slide"
    }
   },
   "source": [
    "<h3><font color='blue'>=================================================</font></h3>\n",
    "<font color='olive'>\n",
    "<h1>How does machine learning work</h1>\n",
    "<font color='darkgreen'>\n",
    "\n",
    "<h3>How do we structure and what terminology do we use</h3>\n",
    "<ul>\n",
    "<li>We represent attributes of the data as features - its useful to think in terms of n features - we could say they are akin to columns in a reactangular matrix structure</li><br>\n",
    "<li>We consider each row to be an example - we will consider our example space to be made up of m examples. We could imagine them as rows. So we have m examples, n features</li><br>\n",
    "<li>We represent an example as $x_1^{(0)}\\;x_2^{(0)}\\;x_3^{(0)} \\dots \\; x_n^{(0)}\\;$ This would be a first row in a zero based system. The subscript represents the feature. And the superscirpt in the parentheses the example number</li><br>\n",
    "<li>The $m^{th}$ example would be represented as $x_1^{(m)}\\;x_2^{(m)}\\;x_3^{(m)} \\dots \\; x_n^{(m)}\\;$</li><br>\n",
    "<li>Each of these features represents individual variables and the labels denoted as y are a column of length - we can think of it as the result, dependent variable, a vector of length m - $\\begin{bmatrix}y^{(0)} \\newline y^{(1)} \\newline \\vdots \\newline y^{(m)} \\end{bmatrix}$</li><br>\n",
    "<li>In regression we will be adding a column of ones as the first column to represent the y intercept</li><br>\n",
    "</ul>\n",
    "</font>\n",
    "<h3><font color='blue'>=================================================</font></h3>"
   ]
  },
  {
   "cell_type": "markdown",
   "metadata": {
    "slideshow": {
     "slide_type": "slide"
    }
   },
   "source": [
    "<h3><font color='blue'>=================================================</font></h3>\n",
    "<font color='olive'>\n",
    "<h1>How does machine learning work</h1>\n",
    "\n",
    "<font color='darkgreen'>\n",
    "<h3>There are two approaches for linear regression:</h3><br>\n",
    "<ul>\n",
    "<b><u>Gradient descent:</u></b><br><br>\n",
    "<li>Initialize the parameters to be learned to a small value</li><br>\n",
    "<li>Differentiate the cost function and adjust it applying a small learning rate</li><br>\n",
    "<li>Stop when the cost reduction on successive iterations becomes smaller than a very small quantity</li><br>\n",
    "<b><u>Normal equation – for linear regression</u></b><br><br>\n",
    "<li>Applying matrix notation – equate the derivative of the cost function to zero</li><br>\n",
    "<li>We will get the parameters to be equal to:</li><br>\n",
    "$ ( X^T   X )^{-1} * X^ Ty$\n",
    "</ul>\n",
    "</font>\n",
    "\n",
    "</font>\n",
    "<h3><font color='blue'>=================================================</font></h3>"
   ]
  },
  {
   "cell_type": "code",
   "execution_count": 2,
   "metadata": {
    "slideshow": {
     "slide_type": "slide"
    }
   },
   "outputs": [
    {
     "data": {
      "text/plain": [
       "<matplotlib.collections.PathCollection at 0x15833782710>"
      ]
     },
     "execution_count": 2,
     "metadata": {},
     "output_type": "execute_result"
    },
    {
     "data": {
      "image/png": "[encoded data removed]",
      "text/plain": [
       "<matplotlib.figure.Figure at 0x158334e0e80>"
      ]
     },
     "metadata": {},
     "output_type": "display_data"
    }
   ],
   "source": [
    "# Why do we need the intercept\n",
    "np.random.seed(100)\n",
    "# Lets model the height weight relationship for middle school\n",
    "# children where ideal weight \n",
    "# is equal to -114.3 + 106.5 * height in metres\n",
    "x = np.random.uniform(1.5,2,100)\n",
    "# print(x)\n",
    "# Here -114.3 is the point where the best fit line will meet the x axis\n",
    "# It is not the weight for height = 0. It is meaningless to make regression predictins\n",
    "# outside your data range\n",
    "y = -114.3 + np.random.uniform(95,115,100) * x\n",
    "# print(y)\n",
    "# Lets check the scatter plot for x and y\n",
    "plt.scatter(x,y,color='r',marker='x')\n",
    "# Lets fit a line to our data by plotting the min and max points\n",
    "x1 = np.array([np.min(x),np.max(x)])\n",
    "y1 = np.array([np.min(y),np.max(y)])\n",
    "plt.plot(x1,y1)\n",
    "# Now lets do away with the intercept value of -114.3\n",
    "y2 = np.random.uniform(95,115,100) * x\n",
    "# Create the array for the new series without the intercept\n",
    "y3 = np.array([np.min(y2),np.max(y2)])\n",
    "# Lets run a line through the first and last points with the new series\n",
    "plt.plot(np.array( [0,np.min(x)] ), np.array ( [0,np.max(y2)] ) )\n",
    "plt.scatter(x,y2,color='b',marker='+')\n",
    "# We can see it has no relation to the data\n",
    "# Very simply when we want to run a line through our data tha will minimize the\n",
    "# dsitance between it and the points in the data we will need the intercept"
   ]
  },
  {
   "cell_type": "markdown",
   "metadata": {},
   "source": [
    "#### To center multiple variables data in matrices we will need to prepend a column of ones to the data"
   ]
  },
  {
   "cell_type": "markdown",
   "metadata": {
    "slideshow": {
     "slide_type": "slide"
    }
   },
   "source": [
    "<h3><font color='blue'>=================================================</font></h3>\n",
    "<font color='olive'>\n",
    "<h1>How does machine learning work</h1><br>\n",
    "\n",
    "<font color='darkgreen'>\n",
    "<ul>\n",
    "<li>Lets consider a two parameter setup</li><br>\n",
    "<li>We can define our hypothesis as <br>$h_\\theta(x)\\;=\\theta_0x_0\\;+\\theta_1x_1$</li><br>\n",
    "<li>The machine learning task is to find values of $\\theta_0\\;\\theta_1$ so that there is if possible zero difference between the labeled data we have and the computations we come to</li><br>\n",
    "<li>The squared distance is often taken as a metric to evaluate the proximity, overlapping of one vector with other - we ideally want the y vector and the forecast $h_\\theta(x)$ vectors to be indistinguishable</li><br>\n",
    "<li>We can formulate our cost function as:<br>\n",
    "$J(\\theta_0, \\theta_1) = \\dfrac {1}{2m} \\displaystyle \\sum _{i=1}^m \\left (h_\\theta (x^{(i)}) - y^{(i)} \\right)^2$<br></li>\n",
    "<li>Gradient descent seeks the global minimum by differentiating the cost function with respect to each of the parameters while multiplying the differential by a small learning rate - alpha</li><br>\n",
    "<li>Lets find out the gradient descent formula</li><br>\n",
    "<li>We can rewrite the cost function as</li><br>\n",
    "<li>$ =\\dfrac {1} {2m} \\left ( \\theta_0x_0\\; + \\theta_1x_1 - y \\right )^2$</li><br>\n",
    "<li>$ =\\dfrac {1}{2m} \\left( \\theta_0^2x_0^2 \\;+ \\theta_1x_1^2  + 2\\theta_0x_0\\theta_1x_1  \\; + y^2 \\;\n",
    "-2\\theta_0x_0y -2\\theta_1x_1y \\right)$</li><br>\n",
    "<li>For gradient descent:<br>\n",
    "$\\theta_0 = \\theta_0 - \\dfrac {\\partial J} {\\partial \\theta_0}$<br>\n",
    "$\\theta_0 \\; := \\theta_0 \\; - \\alpha \\dfrac{1}{2m} \\left ( 2\\theta_0x_0^2 \\; + 2\\theta_1x_0x_1 - 2x_0y \\right )$\n",
    "<br><br>\n",
    "$\\theta_0 \\; := \\theta_0 \\; - \\alpha \\dfrac{1}{m} \\left ( \\theta_0x_0 \\; + \\theta_1x_1 - y \\right )x_0$<br>\n",
    "$\\theta_0 \\; := \\theta_0 \\; - \\alpha \\dfrac{1}{m} \\left ( h_\\theta(x) - y \\right )x_0$<br><br>\n",
    "Similarly, $\\theta_1 \\; := \\theta_1 \\; - \\alpha \\dfrac{1}{m} \\left ( h_\\theta(x) - y \\right )x_1$<br>\n",
    "</ul>\n",
    "</font>\n",
    "\n",
    "</font>\n",
    "<h3><font color='blue'>=================================================</font></h3>"
   ]
  },
  {
   "cell_type": "markdown",
   "metadata": {
    "slideshow": {
     "slide_type": "slide"
    }
   },
   "source": [
    "<h3><font color='blue'>=================================================</font></h3>\n",
    "<h1><font color='olive'>Normal equation derviation</font><h1>\n",
    "<h5>\n",
    "<font color='darkgreen'>\n",
    "<ul>\n",
    "<li>The inner product of two vectors is a scalar product</li><br>\n",
    "<li>The norm of a vector v written as || v || is the magnitude of the vector and it is equal to the square root of the sum of the squares of the vector elements.</li><br>\n",
    "<li>Thus if we take the point (3,0) on the x axis its norm is 3  that is $\\sqrt{3^2 + 0^2}$  - and of (3,4) is $\\sqrt{3^2 + 4^2} = 5$</li><br>\n",
    "<li>The dot product of the two vectors, also known as the inner product is equal to  3 x 3 + 4 x 0 = 9. For two vectors, u and v  - the dot product written as u.v  = v.u = $u^T$ x v = $v^T$ x u  as we can see</li><br>\n",
    "<li>$u^T$  = [ 3 0] v = [ 3 ; 4 ] and $u^T$ x v = 3 x 3 + 0 x 4 = 9 and $v^T$  = [3 4] and u = [3 ;  0 ] and $v^T$  x u = 3 x 3  + 4 x 0 = 9.Thus $u^T$ x v = $v^T$  x u are equal for vectors of same length</li><br>\n",
    "<li>Thus we can write $X^2$ as the dot product of X with itself I.e $X^2$ = X.X</li><br>\n",
    "<li>We can look at  our hypothesis function as the dot product of two vectors – with the features vector having  n + 1 columns – thus each element in the feature vector is itself a vector of  dimension n + 1 – and the parameters itself are a vector of dimension n + 1</li><br>\n",
    "<li>So we have the stage set for efficient  matrix computations</li><br>\n",
    "</ul>\n",
    "</font>\n",
    "</h5>\n",
    "<h3><font color='blue'>=================================================</font></h3>"
   ]
  },
  {
   "cell_type": "markdown",
   "metadata": {},
   "source": [
    "<h3><font color='blue'>=================================================</font></h3>\n",
    "<h1><font color='olive'>Normal equation derviation</font><h1>\n",
    "<h5><font color='darkgreen'>\n",
    "<ul>\n",
    "<li>Cost = $\\dfrac {1}{2m} \\displaystyle \\sum _{i=1}^m \\left (h_\\theta (x^{(i)}) - y^{(i)} \\right)^2$</li><br>\n",
    "\n",
    "<li>Using inner product, we will write the cost as :<br>\n",
    "J = $\\dfrac {1}{2m}  \\displaystyle \\sum_{1=1}^m  {\\left(X \\theta  \\; - y \\right)}^T\\left(X \\theta  \\; - y \\right)$</li><br>\n",
    "<li>For differentiation we can throw the $\\dfrac {1}{2m}$ part away and we can write this as $J(\\theta)=((X\\theta)^T - y^T)(X\\theta - y)$</li><br>\n",
    "<li>We will differentiate and set this to 0 - Lets do a series of transformations to simplify the cost function: <br><br>\n",
    "${(X \\theta)}^T X \\theta \\; - {(X \\theta)}^Ty - y^T(X \\theta) + y^Ty$<br>\n",
    "${(X \\theta)}^T X \\theta \\; - 2{(X \\theta)}^Ty + y^Ty$<br>\n",
    "$X^T X \\theta^T \\theta - 2X^T \\theta^T y + y^Ty$<br>\n",
    "$X^T X\\theta^2 - 2X^T \\theta^T y + y^Ty$<br><br>\n",
    "</li>\n",
    "<li>Lets differentiate with respect to $\\theta$ and set to 0:<br><br>\n",
    "$\\dfrac {\\partial J}{\\partial \\theta} = 2X^TX\\theta -2X^Ty=0$<br><br>\n",
    "$ 2X^TX\\theta \\;\\;=\\;\\;2X^Ty$<br><br>\n",
    "$\\theta \\;\\;= \\;\\;{\\left(X^TX\\right)}^{-1}X^Ty$<br><br>\n",
    "</li>\n",
    "</ul>\n",
    "</font></h5>\n",
    "<h3><font color='blue'>=================================================</font></h3>"
   ]
  },
  {
   "cell_type": "markdown",
   "metadata": {
    "slideshow": {
     "slide_type": "slide"
    }
   },
   "source": [
    "<h3><font color='blue'>=================================================</font></h3>\n",
    "<h3><font color='olive'>\n",
    "We will plot visuals inline - issue %pylab inline <br>\n",
    "We first load the data <br>\n",
    "Plot it. <br>\n",
    "Create our feature matrix, results vector - we will go slowly and elaborately so that we build our fluency with handling pandas operations <br>\n",
    "</font></h3>\n",
    "<h3><font color='blue'>=================================================</font></h3>"
   ]
  },
  {
   "cell_type": "code",
   "execution_count": 1,
   "metadata": {
    "slideshow": {
     "slide_type": "slide"
    }
   },
   "outputs": [
    {
     "name": "stdout",
     "output_type": "stream",
     "text": [
      "Populating the interactive namespace from numpy and matplotlib\n"
     ]
    }
   ],
   "source": [
    "%pylab inline\n"
   ]
  },
  {
   "cell_type": "code",
   "execution_count": 2,
   "metadata": {
    "collapsed": true,
    "slideshow": {
     "slide_type": "fragment"
    }
   },
   "outputs": [],
   "source": [
    "# use pandas.read_csv to load the file\n",
    "import pandas as pd\n",
    "import numpy as np\n",
    "data = pd.read_csv('profitbycity.txt',header=None)"
   ]
  },
  {
   "cell_type": "code",
   "execution_count": 3,
   "metadata": {
    "slideshow": {
     "slide_type": "fragment"
    }
   },
   "outputs": [
    {
     "data": {
      "text/html": [
       "<div>\n",
       "<style>\n",
       "    .dataframe thead tr:only-child th {\n",
       "        text-align: right;\n",
       "    }\n",
       "\n",
       "    .dataframe thead th {\n",
       "        text-align: left;\n",
       "    }\n",
       "\n",
       "    .dataframe tbody tr th {\n",
       "        vertical-align: top;\n",
       "    }\n",
       "</style>\n",
       "<table border=\"1\" class=\"dataframe\">\n",
       "  <thead>\n",
       "    <tr style=\"text-align: right;\">\n",
       "      <th></th>\n",
       "      <th>0</th>\n",
       "      <th>1</th>\n",
       "    </tr>\n",
       "  </thead>\n",
       "  <tbody>\n",
       "    <tr>\n",
       "      <th>0</th>\n",
       "      <td>6.1101</td>\n",
       "      <td>17.5920</td>\n",
       "    </tr>\n",
       "    <tr>\n",
       "      <th>1</th>\n",
       "      <td>5.5277</td>\n",
       "      <td>9.1302</td>\n",
       "    </tr>\n",
       "    <tr>\n",
       "      <th>2</th>\n",
       "      <td>8.5186</td>\n",
       "      <td>13.6620</td>\n",
       "    </tr>\n",
       "    <tr>\n",
       "      <th>3</th>\n",
       "      <td>7.0032</td>\n",
       "      <td>11.8540</td>\n",
       "    </tr>\n",
       "    <tr>\n",
       "      <th>4</th>\n",
       "      <td>5.8598</td>\n",
       "      <td>6.8233</td>\n",
       "    </tr>\n",
       "  </tbody>\n",
       "</table>\n",
       "</div>"
      ],
      "text/plain": [
       "        0        1\n",
       "0  6.1101  17.5920\n",
       "1  5.5277   9.1302\n",
       "2  8.5186  13.6620\n",
       "3  7.0032  11.8540\n",
       "4  5.8598   6.8233"
      ]
     },
     "execution_count": 3,
     "metadata": {},
     "output_type": "execute_result"
    }
   ],
   "source": [
    "# Lets take a look at the data\n",
    "# We have in column 0 city population in 10,000s \n",
    "# and in column 1 - the profit of food catering service in 10,000s\n",
    "data.head()"
   ]
  },
  {
   "cell_type": "code",
   "execution_count": 4,
   "metadata": {
    "slideshow": {
     "slide_type": "slide"
    }
   },
   "outputs": [
    {
     "data": {
      "image/png": "[encoded data removed]",
      "text/plain": [
       "<matplotlib.figure.Figure at 0x2bfd1549c88>"
      ]
     },
     "metadata": {},
     "output_type": "display_data"
    }
   ],
   "source": [
    "# Let us plot the data\n",
    "import matplotlib.pyplot as plt\n",
    "fig = figure()\n",
    "\n",
    "ax = plt.gca()\n",
    "ax.scatter( data[0],data[1],marker='x')\n",
    "ax.set_ylim(0,30)\n",
    "ax.set_xlim( [data[0].min()-2,data[0].max()+2])\n",
    "plt.xlabel('Population of city in 10,000s')\n",
    "plt.ylabel('Profit in 10,000s')\n",
    "fig.set_size_inches(12,10)"
   ]
  },
  {
   "cell_type": "markdown",
   "metadata": {
    "slideshow": {
     "slide_type": "slide"
    }
   },
   "source": [
    "<h3><font color='blue'>=================================================</font></h3>\n",
    "<h3><font color='olive'>\n",
    "Now lets examine the pandas operations to create the two structures we need to solve our regression problem\n",
    "</font></h3>\n",
    "<h3><font color='blue'>=================================================</font></h3>"
   ]
  },
  {
   "cell_type": "code",
   "execution_count": 5,
   "metadata": {
    "slideshow": {
     "slide_type": "fragment"
    }
   },
   "outputs": [
    {
     "name": "stdout",
     "output_type": "stream",
     "text": [
      "apd is \n",
      "    0  1\n",
      "0  1  4\n",
      "1  2  5\n",
      "2  3  6\n",
      "npd is \n",
      "    0  1  2  3\n",
      "0  1  3  1  4\n",
      "1  3  4  2  5\n",
      "apd.dot(npd) is\n",
      "     0   1   2   3\n",
      "0  13  19   9  24\n",
      "1  17  26  12  33\n",
      "2  21  33  15  42\n",
      "[[ 1  3  1  4  6  7  9 10]\n",
      " [ 3  4  2  5  7  3  4  6]]\n",
      "(2, 8)\n",
      "apd.shape is  (3, 2)\n",
      "npd.shape is  (2, 4)\n",
      "apd.dot(nparr) is \n",
      "     0   1   2   3   4   5   6   7\n",
      "0  13  19   9  24  34  19  25  34\n",
      "1  17  26  12  33  47  29  38  50\n",
      "2  21  33  15  42  60  39  51  66\n"
     ]
    }
   ],
   "source": [
    "# apd - a panda dataframe is a dataframe of shape 3 x 2 and npd is a dataframe of shape 2 x 4\n",
    "apd = pd.DataFrame( {0:[1,2,3],1:[4,5,6]});print ('apd is \\n', apd)\n",
    "npd = pd.DataFrame({0:[1,3],1:[3,4],2:[1,2],3:[4,5]});print( 'npd is \\n',npd)\n",
    "# since no of columns of first data frame equal to no of rows of second dataframe we can multiply the two matrices\n",
    "print( 'apd.dot(npd) is\\n', apd.dot(npd))\n",
    "# pandas are essentially named wrappers around numpy arrays - lets create a numpy array of two rows and check\n",
    "# the dot product of a panda dataframe and a numpy array\n",
    "nparr = np.array( [[1,3,1,4,6,7,9,10],[3,4,2,5,7,3,4,6]]); print(nparr);print(nparr.shape)\n",
    "print( 'apd.shape is ',apd.shape)\n",
    "print( 'npd.shape is ' ,npd.shape)\n",
    "print( 'apd.dot(nparr) is \\n',apd.dot(nparr))"
   ]
  },
  {
   "cell_type": "code",
   "execution_count": 6,
   "metadata": {
    "slideshow": {
     "slide_type": "fragment"
    }
   },
   "outputs": [
    {
     "name": "stdout",
     "output_type": "stream",
     "text": [
      "   0  1\n",
      "0  1  4\n",
      "1  2  5\n",
      "2  3  6\n",
      "   0  1\n",
      "0  1  3\n",
      "1  2  6\n",
      "2  3  4\n",
      "0   -2\n",
      "1   -4\n",
      "2   -1\n",
      "dtype: int64\n",
      "0    0.0\n",
      "1    0.0\n",
      "2    0.0\n",
      "dtype: float64\n"
     ]
    }
   ],
   "source": [
    "# Lets subtract a column of one dataframe from the column of another\n",
    "print( apd)\n",
    "spd = pd.DataFrame([[1,3],[2,6],[3,4]])\n",
    "print( spd )\n",
    "print( apd[0] - spd[1] )\n",
    "print( apd.dot(np.zeros(2)))"
   ]
  },
  {
   "cell_type": "code",
   "execution_count": 7,
   "metadata": {
    "slideshow": {
     "slide_type": "fragment"
    }
   },
   "outputs": [
    {
     "name": "stdout",
     "output_type": "stream",
     "text": [
      "(97, 2)\n",
      "(97,)\n"
     ]
    }
   ],
   "source": [
    "# Lets see how we will prepare the design matrix X - use pandas concat\n",
    "# to concatenate a column of ones equal to number of examples and the first column of our data\n",
    "# dataconcat = pd.concat( [ pd.DataFrame( np.ones( len( data ) ) ),  pd.DataFrame( data[0] ) ] , axis=1 )\n",
    "# print dataconcat\n",
    "# type(data[0])\n",
    "X = pd.DataFrame({0:np.ones(len(data)),1:data[0]})\n",
    "y = data[1]\n",
    "np.array(data[1]).shape\n",
    "print(X.shape)\n",
    "print(y.shape)"
   ]
  },
  {
   "cell_type": "markdown",
   "metadata": {
    "slideshow": {
     "slide_type": "fragment"
    }
   },
   "source": [
    "<h3><font color='blue'>=================================================</font></h3>\n",
    "\n",
    "#### Lets recap\n",
    "#### our hypothesis\n",
    "$h_\\theta(x) = \\theta_0 + \\theta_1 x$\n",
    "#### The cost function\n",
    "$J(\\theta_0, \\theta_1) = \\dfrac {1}{2m} \\displaystyle \\sum _{i=1}^m \\left (h_\\theta (x^{(i)}) - y^{(i)} \\right)^2$\n",
    "####  The gradient descent equations :\n",
    "$\\begin{align*} \\text{repeat until convergence: } \\lbrace & \\\\ \\theta_0 := & \\theta_0 - \\alpha \\frac{1}{m} \\sum\\limits_{i=1}^{m}(h_\\theta(x^{(i)}) - y^{(i)}) \\\\ \\theta_1 := & \\theta_1 - \\alpha \\frac{1}{m} \\sum\\limits_{i=1}^{m}\\left((h_\\theta(x^{(i)}) - y^{(i)}) x^{(i)}\\right) \\\\ \\rbrace&\\end{align*}$\n",
    "\n",
    "<h3><font color='blue'>=================================================</font></h3>"
   ]
  },
  {
   "cell_type": "code",
   "execution_count": 8,
   "metadata": {
    "slideshow": {
     "slide_type": "fragment"
    }
   },
   "outputs": [
    {
     "name": "stdout",
     "output_type": "stream",
     "text": [
      "shape of X  (97, 2)  and that of theta  (2,)  and of data  (97, 2)  and of y  (97,)\n",
      "0   -17.5920\n",
      "1    -9.1302\n",
      "2   -13.6620\n",
      "3   -11.8540\n",
      "4    -6.8233\n",
      "dtype: float64\n"
     ]
    },
    {
     "data": {
      "text/plain": [
       "32.072733877455654"
      ]
     },
     "execution_count": 8,
     "metadata": {},
     "output_type": "execute_result"
    }
   ],
   "source": [
    "# Lets create the array of parameters that we need to learn to create our linear regression model\n",
    "theta = np.zeros( data.shape[1] )\n",
    "print('shape of X ', X.shape , ' and that of theta ',\n",
    "      theta.shape, ' and of data ', data.shape, ' and of y ', y.shape)\n",
    "# X is 97 x 2  theta is  2, X.dot(theta)  will result in a shape of (97,)\n",
    "# y = data[1] is 97 x 1 written in numpy style as (97,) so we should have obtained the core\n",
    "# part of our left hand side component\n",
    "print ( (X.dot(theta) - data[1] )[:5])\n",
    "# and Lets now check the cost formula applied - \n",
    "(1/(2.0 * len(X) ) ) * sum( ( X.dot(theta) - y ) ** 2 )"
   ]
  },
  {
   "cell_type": "code",
   "execution_count": 9,
   "metadata": {
    "collapsed": true,
    "slideshow": {
     "slide_type": "slide"
    }
   },
   "outputs": [],
   "source": [
    "# Lets create a procedure for calculatig the cost\n",
    "def computeCost(X,y,theta):\n",
    "    return ( 1/ ( 2.0 * len(X) ) ) *  sum (  ( X.dot(theta) - y ) ** 2 ) "
   ]
  },
  {
   "cell_type": "code",
   "execution_count": 10,
   "metadata": {
    "slideshow": {
     "slide_type": "fragment"
    }
   },
   "outputs": [
    {
     "data": {
      "text/plain": [
       "32.072733877455654"
      ]
     },
     "execution_count": 10,
     "metadata": {},
     "output_type": "execute_result"
    }
   ],
   "source": [
    "# Lets verify that we are computing the same cost\n",
    "computeCost(X,y,theta)\n"
   ]
  },
  {
   "cell_type": "code",
   "execution_count": 11,
   "metadata": {
    "slideshow": {
     "slide_type": "fragment"
    }
   },
   "outputs": [
    {
     "data": {
      "text/plain": [
       "0    -566.396100\n",
       "1   -6336.898425\n",
       "dtype: float64"
      ]
     },
     "execution_count": 11,
     "metadata": {},
     "output_type": "execute_result"
    }
   ],
   "source": [
    "# Lets now see how we can compute a gradient descent step\n",
    "# X is 97 X 2  dot theta - 2 X 1 is 97 x 1 - y - 97 x 1  - transpose to 1 x 97 dot X - 97 x 2 \n",
    "# will give us an array of 1 x 2 - transposed will give us the array of thetas - 2 x 1\n",
    "(  ( ( X.dot(theta) -y ).transpose() ).dot(X) ).transpose()"
   ]
  },
  {
   "cell_type": "code",
   "execution_count": 12,
   "metadata": {
    "collapsed": true,
    "slideshow": {
     "slide_type": "fragment"
    }
   },
   "outputs": [],
   "source": [
    "# Lets code gradient descent - \n",
    "def gradientDescent(X,y,theta,numIters,alpha):\n",
    "    # we have m = 97 examples\n",
    "    m = len(X)\n",
    "    # we record the cost for each of the iterations that we run\n",
    "    jhist = np.zeros( (numIters,1) )\n",
    "    # for the number of iterations - we calculate each of the thetas - through matrice operations\n",
    "    for n in range(numIters):\n",
    "#         print 'calc\\n', alpha * ( 1.0 / m ) * (  ( ( X.dot(theta) -y ).transpose() ).dot(X) ).transpose()\n",
    "        theta = theta - alpha * ( 1.0 / m ) * (  \n",
    "            ( ( X.dot(theta) -y ).transpose() ).dot(X) ).transpose()\n",
    "#         print 'theta\\n', theta\n",
    "        # record the history in jhistory\n",
    "        jhist[n] = computeCost(X,y,theta)\n",
    "    return theta, jhist"
   ]
  },
  {
   "cell_type": "code",
   "execution_count": 13,
   "metadata": {
    "collapsed": true,
    "slideshow": {
     "slide_type": "fragment"
    }
   },
   "outputs": [],
   "source": [
    "# Lets get theta and jhist\n",
    "theta, jhist = gradientDescent(X,y,theta,4000,0.01)"
   ]
  },
  {
   "cell_type": "code",
   "execution_count": 14,
   "metadata": {
    "slideshow": {
     "slide_type": "fragment"
    }
   },
   "outputs": [
    {
     "name": "stdout",
     "output_type": "stream",
     "text": [
      "0   -3.892863\n",
      "1    1.192740\n",
      "dtype: float64\n"
     ]
    }
   ],
   "source": [
    "# and check the theta values\n",
    "print (theta)"
   ]
  },
  {
   "cell_type": "code",
   "execution_count": 15,
   "metadata": {
    "slideshow": {
     "slide_type": "slide"
    }
   },
   "outputs": [
    {
     "data": {
      "image/png": "[encoded data removed]",
      "text/plain": [
       "<matplotlib.figure.Figure at 0x2bfcf8192e8>"
      ]
     },
     "metadata": {},
     "output_type": "display_data"
    }
   ],
   "source": [
    "# Lets plot the gradient descent\n",
    "fig = figure()\n",
    "plt.plot(range(4000),jhist)\n",
    "plt.xlabel('Iteration')\n",
    "plt.ylabel('Cost')\n",
    "fig.set_size_inches(8,6)\n",
    "plt.grid('on')"
   ]
  },
  {
   "cell_type": "code",
   "execution_count": 16,
   "metadata": {},
   "outputs": [
    {
     "data": {
      "text/plain": [
       "array([[ 6.73719046],\n",
       "       [ 5.93159357],\n",
       "       [ 5.90115471],\n",
       "       [ 5.89522859],\n",
       "       [ 5.89009494]])"
      ]
     },
     "execution_count": 16,
     "metadata": {},
     "output_type": "execute_result"
    }
   ],
   "source": [
    "jhist[:5]"
   ]
  },
  {
   "cell_type": "code",
   "execution_count": 17,
   "metadata": {
    "slideshow": {
     "slide_type": "slide"
    }
   },
   "outputs": [
    {
     "name": "stdout",
     "output_type": "stream",
     "text": [
      "Profit predicted for a population of 35000 is  2817.29097686\n"
     ]
    }
   ],
   "source": [
    "# Making predictions\n",
    "print ('Profit predicted for a population of 35000 is ', np.array([1,3.5]).dot(theta) * 10000)"
   ]
  },
  {
   "cell_type": "code",
   "execution_count": 18,
   "metadata": {},
   "outputs": [
    {
     "data": {
      "text/plain": [
       "2817.8999999999955"
      ]
     },
     "execution_count": 18,
     "metadata": {},
     "output_type": "execute_result"
    }
   ],
   "source": [
    "(-3.8928 + 1.19274 * 3.5 ) * 10000"
   ]
  },
  {
   "cell_type": "code",
   "execution_count": 19,
   "metadata": {
    "collapsed": true,
    "slideshow": {
     "slide_type": "slide"
    }
   },
   "outputs": [],
   "source": [
    "# Lets  create data to plot the cost for different \n",
    "# combinations of theta1 and theta2 to appreciate\n",
    "# how gradient descent works\n",
    "from mpl_toolkits.mplot3d import Axes3D\n",
    "\n",
    "th1vals = np.linspace(-10,10,100)\n",
    "th2vals = np.linspace(-1,4,100)\n",
    "jvals = np.zeros ( ( len(th1vals), len(th2vals) ) )\n",
    "for i in range(len(th1vals)):\n",
    "    for j in range( len( th2vals)):\n",
    "        jvals[i,j] = computeCost(X, y, np.array([ th1vals[i],th2vals[j]]))"
   ]
  },
  {
   "cell_type": "code",
   "execution_count": 20,
   "metadata": {
    "slideshow": {
     "slide_type": "fragment"
    }
   },
   "outputs": [
    {
     "data": {
      "image/png": "[encoded data removed]",
      "text/plain": [
       "<matplotlib.figure.Figure at 0x2bfd1c40668>"
      ]
     },
     "metadata": {},
     "output_type": "display_data"
    }
   ],
   "source": [
    "# A 3 D surface plot showing the global minimum at the floor\n",
    "fig = figure()\n",
    "ax = fig.add_subplot( 111, projection='3d')\n",
    "ax.plot_surface(th1vals, th2vals, jvals, rstride=1, cstride=1, cmap = cm.coolwarm_r, linewidth=0)\n",
    "ax.set_xlabel('Theta 1 values')\n",
    "ax.set_ylabel('Theta 2 values')\n",
    "ax.set_zlabel('Cost')\n",
    "fig.set_size_inches(16,10)\n"
   ]
  },
  {
   "cell_type": "code",
   "execution_count": 21,
   "metadata": {
    "slideshow": {
     "slide_type": "slide"
    }
   },
   "outputs": [
    {
     "data": {
      "image/png": "[encoded data removed]",
      "text/plain": [
       "<matplotlib.figure.Figure at 0x2bfd1578a58>"
      ]
     },
     "metadata": {},
     "output_type": "display_data"
    }
   ],
   "source": [
    "# Lets plot the actual and predicted values together\n",
    "fig = figure()\n",
    "plt.scatter(data[0],data[1])\n",
    "plt.plot( data[0],X.dot(theta),marker='+',color='r',markersize=15)\n",
    "fig.set_size_inches(12,10)"
   ]
  },
  {
   "cell_type": "markdown",
   "metadata": {
    "slideshow": {
     "slide_type": "slide"
    }
   },
   "source": [
    "<h3><font color='blue'>=================================================</font></h3>\n",
    "<h3><font color='olive'>\n",
    "<li>To evaluate how we have fared :\n",
    "<ul>\n",
    "<li>We will use the most often used regression metric - $R^2$</li>\n",
    "<li>Known as the coefficient of determination</li><br>\n",
    "<li>It is the variation explained by the model</li><br>\n",
    "<li>It is equal to 1 less the sum of differences of squares of preidictions from actual values \n",
    "divided by the sum of the squares of the y values from mean of y values</li><br>\n",
    "<li>The remaining part is the variation the model cannot account for<br>\n",
    "the sum of residual squares</li>\n",
    "</ul>\n",
    "</font></h3>\n",
    "<h3><font color='blue'>=================================================</font></h3>"
   ]
  },
  {
   "cell_type": "code",
   "execution_count": 22,
   "metadata": {
    "slideshow": {
     "slide_type": "subslide"
    }
   },
   "outputs": [
    {
     "name": "stdout",
     "output_type": "stream",
     "text": [
      "Squares of differences between  predictions and actuals 868.53\n",
      "Square of y values from mean of y values 2914.85\n",
      "The coefficient of determination is 0.702\n"
     ]
    }
   ],
   "source": [
    "predictSquareDiffs = sum ( ( X.dot(theta)- y ) ** 2 )\n",
    "print ('Squares of differences between  predictions and actuals %.2f' % ( predictSquareDiffs ))\n",
    "meanSquareDiffs = sum( ( y - np.mean(y)) ** 2 )\n",
    "print ('Square of y values from mean of y values %.2f' % meanSquareDiffs)\n",
    "print ('The coefficient of determination is %.3f' %  ( 1 - ( predictSquareDiffs/meanSquareDiffs ) ))"
   ]
  },
  {
   "cell_type": "markdown",
   "metadata": {
    "slideshow": {
     "slide_type": "slide"
    }
   },
   "source": [
    "<h3><font color='blue'>=================================================</font></h3>\n",
    "<h3><font color='olive'>\n",
    "<ul>\n",
    "<li>All Machine Learning algorithms are provided by pre built libraries in almost all languages</li>\n",
    "<li>Lets explore how to do what we did so far in scikit-learn</li>\n",
    "<li>We will use LinearRegression from the linear_model module</li>\n",
    "<li>All across the pattern is to select the algorithm class, fit it to data, predict, compare to actuals</li>\n",
    "</ul>\n",
    "</font></h3>\n",
    "<h3><font color='blue'>=================================================</font></h3>"
   ]
  },
  {
   "cell_type": "code",
   "execution_count": 23,
   "metadata": {
    "collapsed": true,
    "slideshow": {
     "slide_type": "slide"
    }
   },
   "outputs": [],
   "source": [
    "# Import linear_model\n",
    "from sklearn import linear_model\n",
    "# Initialize the model\n",
    "lin_model = linear_model.LinearRegression()\n",
    "# We do not need the column of 1s as that is taken care of by the library\n",
    "Xflm = data[0].values.reshape(data.shape[0],1)\n",
    "# Obtain the model fitted to the data\n",
    "clf = lin_model.fit(Xflm,y)"
   ]
  },
  {
   "cell_type": "code",
   "execution_count": 24,
   "metadata": {},
   "outputs": [
    {
     "name": "stdout",
     "output_type": "stream",
     "text": [
      "-3.89578087831\n",
      "[ 1.19303364]\n",
      "0.702031553784\n"
     ]
    }
   ],
   "source": [
    "# The first feature in our data is the intercept \n",
    "# In the model obtained its coefficient will correspond to the intercept_ attribute\n",
    "print (clf.intercept_)\n",
    "# The coefficients of the subsequent features will be given by the coef_ attribute\n",
    "print (clf.coef_)\n",
    "# The score will give us the coefficient of determination\n",
    "print (clf.score(Xflm,y))"
   ]
  },
  {
   "cell_type": "code",
   "execution_count": 25,
   "metadata": {},
   "outputs": [
    {
     "name": "stdout",
     "output_type": "stream",
     "text": [
      "[-3.91422304]\n",
      "[ 1.173289]\n",
      "0.700766392863\n"
     ]
    },
    {
     "name": "stderr",
     "output_type": "stream",
     "text": [
      "C:\\ProgramData\\Anaconda3\\lib\\site-packages\\sklearn\\linear_model\\stochastic_gradient.py:73: DeprecationWarning: n_iter parameter is deprecated in 0.19 and will be removed in 0.21. Use max_iter and tol instead.\n",
      "  DeprecationWarning)\n"
     ]
    }
   ],
   "source": [
    "from sklearn.linear_model import SGDRegressor\n",
    "sgd_model = SGDRegressor(n_iter=2000,random_state=1)\n",
    "clf_sgd = sgd_model.fit(Xflm,y)\n",
    "\n",
    "print(clf_sgd.intercept_)\n",
    "print(clf_sgd.coef_)\n",
    "print(clf_sgd.score(Xflm,y))"
   ]
  },
  {
   "cell_type": "markdown",
   "metadata": {
    "slideshow": {
     "slide_type": "slide"
    }
   },
   "source": [
    "<h3><font color='blue'>=================================================</font></h3>\n",
    "<h3><font color='olive'>\n",
    "Now lets check out linear regression for multiple variables/features<br><br>\n",
    "The file houseprice2var.txt contains a training set of housing prices in Portland, Oregon. The first column is the size of the house (in square feet), the\n",
    "second column is the number of bedrooms, and the third column is the price\n",
    "of the house <br>\n",
    "</font></h3>\n",
    "<h3><font color='blue'>=================================================</font></h3>"
   ]
  },
  {
   "cell_type": "code",
   "execution_count": 26,
   "metadata": {
    "slideshow": {
     "slide_type": "slide"
    }
   },
   "outputs": [
    {
     "data": {
      "text/html": [
       "<div>\n",
       "<style>\n",
       "    .dataframe thead tr:only-child th {\n",
       "        text-align: right;\n",
       "    }\n",
       "\n",
       "    .dataframe thead th {\n",
       "        text-align: left;\n",
       "    }\n",
       "\n",
       "    .dataframe tbody tr th {\n",
       "        vertical-align: top;\n",
       "    }\n",
       "</style>\n",
       "<table border=\"1\" class=\"dataframe\">\n",
       "  <thead>\n",
       "    <tr style=\"text-align: right;\">\n",
       "      <th></th>\n",
       "      <th>0</th>\n",
       "      <th>1</th>\n",
       "      <th>2</th>\n",
       "    </tr>\n",
       "  </thead>\n",
       "  <tbody>\n",
       "    <tr>\n",
       "      <th>0</th>\n",
       "      <td>2104</td>\n",
       "      <td>3</td>\n",
       "      <td>399900</td>\n",
       "    </tr>\n",
       "    <tr>\n",
       "      <th>1</th>\n",
       "      <td>1600</td>\n",
       "      <td>3</td>\n",
       "      <td>329900</td>\n",
       "    </tr>\n",
       "    <tr>\n",
       "      <th>2</th>\n",
       "      <td>2400</td>\n",
       "      <td>3</td>\n",
       "      <td>369000</td>\n",
       "    </tr>\n",
       "    <tr>\n",
       "      <th>3</th>\n",
       "      <td>1416</td>\n",
       "      <td>2</td>\n",
       "      <td>232000</td>\n",
       "    </tr>\n",
       "    <tr>\n",
       "      <th>4</th>\n",
       "      <td>3000</td>\n",
       "      <td>4</td>\n",
       "      <td>539900</td>\n",
       "    </tr>\n",
       "  </tbody>\n",
       "</table>\n",
       "</div>"
      ],
      "text/plain": [
       "      0  1       2\n",
       "0  2104  3  399900\n",
       "1  1600  3  329900\n",
       "2  2400  3  369000\n",
       "3  1416  2  232000\n",
       "4  3000  4  539900"
      ]
     },
     "execution_count": 26,
     "metadata": {},
     "output_type": "execute_result"
    }
   ],
   "source": [
    "# Lets load and see the data\n",
    "data2 =  pd.read_csv('houseprice2var.txt',header=None)\n",
    "data2.head()"
   ]
  },
  {
   "cell_type": "code",
   "execution_count": 27,
   "metadata": {
    "slideshow": {
     "slide_type": "slide"
    }
   },
   "outputs": [
    {
     "name": "stdout",
     "output_type": "stream",
     "text": [
      "      0  1\n",
      "0  2104  3\n",
      "1  1600  3\n",
      "2  2400  3\n",
      "3  1416  2\n",
      "4  3000  4\n",
      "0    399900\n",
      "1    329900\n",
      "2    369000\n",
      "3    232000\n",
      "4    539900\n",
      "Name: 2, dtype: int64\n",
      "47\n"
     ]
    },
    {
     "name": "stderr",
     "output_type": "stream",
     "text": [
      "C:\\ProgramData\\Anaconda3\\lib\\site-packages\\ipykernel\\__main__.py:3: DeprecationWarning: \n",
      ".ix is deprecated. Please use\n",
      ".loc for label based indexing or\n",
      ".iloc for positional indexing\n",
      "\n",
      "See the documentation here:\n",
      "http://pandas.pydata.org/pandas-docs/stable/indexing.html#ix-indexer-is-deprecated\n",
      "  app.launch_new_instance()\n"
     ]
    }
   ],
   "source": [
    "# Lets prepare the features and the result matrices - we have our features matrix of size 47 X 2 and \n",
    "# result matrix of size 47 X 1\n",
    "X2 = data2.ix[:,[0,1]]; print (X2[:5])\n",
    "y2 = data2.ix[:,2];print (y2[:5])\n",
    "m2 = len(y2); print (m2)"
   ]
  },
  {
   "cell_type": "code",
   "execution_count": 29,
   "metadata": {
    "slideshow": {
     "slide_type": "slide"
    }
   },
   "outputs": [
    {
     "name": "stdout",
     "output_type": "stream",
     "text": [
      "0    2000.680851\n",
      "1       3.170213\n",
      "dtype: float64\n",
      "0    786.202619\n",
      "1      0.752843\n",
      "dtype: float64\n"
     ]
    },
    {
     "data": {
      "text/html": [
       "<div>\n",
       "<style>\n",
       "    .dataframe thead tr:only-child th {\n",
       "        text-align: right;\n",
       "    }\n",
       "\n",
       "    .dataframe thead th {\n",
       "        text-align: left;\n",
       "    }\n",
       "\n",
       "    .dataframe tbody tr th {\n",
       "        vertical-align: top;\n",
       "    }\n",
       "</style>\n",
       "<table border=\"1\" class=\"dataframe\">\n",
       "  <thead>\n",
       "    <tr style=\"text-align: right;\">\n",
       "      <th></th>\n",
       "      <th>0</th>\n",
       "      <th>1</th>\n",
       "    </tr>\n",
       "  </thead>\n",
       "  <tbody>\n",
       "    <tr>\n",
       "      <th>0</th>\n",
       "      <td>0.131415</td>\n",
       "      <td>-0.226093</td>\n",
       "    </tr>\n",
       "    <tr>\n",
       "      <th>1</th>\n",
       "      <td>-0.509641</td>\n",
       "      <td>-0.226093</td>\n",
       "    </tr>\n",
       "    <tr>\n",
       "      <th>2</th>\n",
       "      <td>0.507909</td>\n",
       "      <td>-0.226093</td>\n",
       "    </tr>\n",
       "    <tr>\n",
       "      <th>3</th>\n",
       "      <td>-0.743677</td>\n",
       "      <td>-1.554392</td>\n",
       "    </tr>\n",
       "    <tr>\n",
       "      <th>4</th>\n",
       "      <td>1.271071</td>\n",
       "      <td>1.102205</td>\n",
       "    </tr>\n",
       "  </tbody>\n",
       "</table>\n",
       "</div>"
      ],
      "text/plain": [
       "          0         1\n",
       "0  0.131415 -0.226093\n",
       "1 -0.509641 -0.226093\n",
       "2  0.507909 -0.226093\n",
       "3 -0.743677 -1.554392\n",
       "4  1.271071  1.102205"
      ]
     },
     "execution_count": 29,
     "metadata": {},
     "output_type": "execute_result"
    }
   ],
   "source": [
    "# we need to have features simlarly scaled in range as large differentials \n",
    "# between some features will lead to distortion in calculation of learning parameters\n",
    "# Lets check out the code before creating the procedure\n",
    "print (np.mean(X2))\n",
    "print (np.std(X2))\n",
    "(( X2 - np.mean(X2)  ) / np.std(X2))[:5]"
   ]
  },
  {
   "cell_type": "code",
   "execution_count": 30,
   "metadata": {
    "collapsed": true,
    "slideshow": {
     "slide_type": "slide"
    }
   },
   "outputs": [],
   "source": [
    "# Les now wrap the code in a method\n",
    "def featureNormalize(X):\n",
    "    return  ( X -np.mean(X) ) / np.std(X), np.mean(X), np.std(X)"
   ]
  },
  {
   "cell_type": "code",
   "execution_count": 31,
   "metadata": {},
   "outputs": [
    {
     "data": {
      "text/plain": [
       "(47, 2)"
      ]
     },
     "execution_count": 31,
     "metadata": {},
     "output_type": "execute_result"
    }
   ],
   "source": [
    "X2.shape"
   ]
  },
  {
   "cell_type": "code",
   "execution_count": 32,
   "metadata": {
    "collapsed": true,
    "slideshow": {
     "slide_type": "fragment"
    }
   },
   "outputs": [],
   "source": [
    "# Use the method to get our normalized feature matrix and the mean and the standard deviation of the columns\n",
    "X2Norm, mu, sigma = featureNormalize(X2)"
   ]
  },
  {
   "cell_type": "code",
   "execution_count": 33,
   "metadata": {
    "slideshow": {
     "slide_type": "fragment"
    }
   },
   "outputs": [
    {
     "name": "stdout",
     "output_type": "stream",
     "text": [
      "47 (47, 2)\n",
      "0   -9.448707e-18\n",
      "1    2.480285e-16\n",
      "dtype: float64\n",
      "0    1.0\n",
      "1    1.0\n",
      "dtype: float64\n"
     ]
    }
   ],
   "source": [
    "# Lets check the normalized matrix and append a column of ones to get a feature matrix of size 47 X 3\n",
    "print (len( X2Norm ), X2Norm.shape)\n",
    "print ( np.mean(X2Norm))\n",
    "print( np.std(X2Norm))\n",
    "X2F = pd.concat( [ pd.DataFrame( np.ones( len(X2)) ), X2Norm ] ,axis = 1 )"
   ]
  },
  {
   "cell_type": "code",
   "execution_count": 34,
   "metadata": {
    "collapsed": true,
    "slideshow": {
     "slide_type": "slide"
    }
   },
   "outputs": [],
   "source": [
    "# Lets use our gradient descent method to get the theta parameters array and cost history\n",
    "theta2, jhist2 = gradientDescent( X2F, y2, np.zeros(X2F.shape[1]),3000,0.01)"
   ]
  },
  {
   "cell_type": "code",
   "execution_count": 35,
   "metadata": {},
   "outputs": [
    {
     "data": {
      "image/png": "[encoded data removed]",
      "text/plain": [
       "<matplotlib.figure.Figure at 0x2bfd38900b8>"
      ]
     },
     "metadata": {},
     "output_type": "display_data"
    }
   ],
   "source": [
    "# Lets plot the gradient descent\n",
    "fig = figure()\n",
    "plt.plot( range(len(jhist2)),jhist2, color = 'g', lw=3)\n",
    "plt.xlabel('Iteration')\n",
    "plt.ylabel('Cost')\n",
    "fig.set_size_inches(16,10)"
   ]
  },
  {
   "cell_type": "code",
   "execution_count": 36,
   "metadata": {
    "slideshow": {
     "slide_type": "fragment"
    }
   },
   "outputs": [
    {
     "name": "stdout",
     "output_type": "stream",
     "text": [
      "The predicted price for a 2200 sq feet 4 BR flat is 360909.40\n"
     ]
    }
   ],
   "source": [
    "# make a prediction\n",
    "print ( 'The predicted price for a 2200 sq feet 4 BR flat is %6.2f' % ( \n",
    "    np.array([1,(2200 - mu[0] )/sigma[0], (4 - mu[1])/sigma[1]]).dot(theta2) ))"
   ]
  },
  {
   "cell_type": "code",
   "execution_count": 37,
   "metadata": {},
   "outputs": [
    {
     "data": {
      "text/plain": [
       "0    340412.659574\n",
       "0    109447.692295\n",
       "1     -6578.250680\n",
       "dtype: float64"
      ]
     },
     "execution_count": 37,
     "metadata": {},
     "output_type": "execute_result"
    }
   ],
   "source": [
    "theta2"
   ]
  },
  {
   "cell_type": "code",
   "execution_count": 38,
   "metadata": {
    "slideshow": {
     "slide_type": "slide"
    }
   },
   "outputs": [
    {
     "name": "stdout",
     "output_type": "stream",
     "text": [
      "[ 89597.9095428     139.21067402  -8738.01911233]\n",
      "360909.32\n"
     ]
    },
    {
     "name": "stderr",
     "output_type": "stream",
     "text": [
      "C:\\ProgramData\\Anaconda3\\lib\\site-packages\\ipykernel\\__main__.py:4: DeprecationWarning: \n",
      ".ix is deprecated. Please use\n",
      ".loc for label based indexing or\n",
      ".iloc for positional indexing\n",
      "\n",
      "See the documentation here:\n",
      "http://pandas.pydata.org/pandas-docs/stable/indexing.html#ix-indexer-is-deprecated\n"
     ]
    }
   ],
   "source": [
    "# Lets prepare data to get calculations through the normal equation and check the predicted cost\n",
    "data3 = pd.read_csv('houseprice2var.txt',header=None)\n",
    "# prepend a column of 1s -> X - 47 x 3 - y3 - 47 x 1\n",
    "X3 = pd.concat( [ pd.DataFrame( np.ones( len(data3) ) ), data3.ix[:,[0,1] ] ] , axis = 1 )\n",
    "y3 = data3[2]\n",
    "X3\n",
    "theta3 = np.zeros( X3.shape[1]) # 3 x 1\n",
    "# X3 - 47 x 3 - transpose 3 x 47 dot X3 47 x 3 - we get 3 x 3  - inverse also 3 x 3\n",
    "# X3 -transpose 3 x 47 dot y3 - 47 x 1 - we get 3 x 1\n",
    "# 3 x 3 X 3 x 1 - we get thetas of size 3 x 1\n",
    "theta3 = ( np.linalg.inv( X3.transpose().dot(X3)) ).dot( X3.transpose().dot(y3))\n",
    "print(theta3)\n",
    "print ('%.2f' % np.array([1,2200,4]).dot(theta3))"
   ]
  },
  {
   "cell_type": "code",
   "execution_count": 39,
   "metadata": {},
   "outputs": [
    {
     "name": "stdout",
     "output_type": "stream",
     "text": [
      "Shape of Xflmv  (47, 2)\n",
      "intercept  89597.9095428\n",
      "coefficients  [  139.21067402 -8738.01911233]\n",
      "Score of clf_mv  0.732945018029\n",
      "0.7329450180289141\n"
     ]
    }
   ],
   "source": [
    "# Now we use the scikit learn LinearRegression() algorithm\n",
    "lin_model_mv = linear_model.LinearRegression()\n",
    "# we do not need the prependec columns of 1\n",
    "Xflmv = data2.ix[:,:1]\n",
    "print('Shape of Xflmv ',Xflmv.shape)\n",
    "clf_mv = lin_model_mv.fit(Xflmv,y3)\n",
    "# We can verify the coefficients are same as found through normal equation\n",
    "print('intercept ', clf_mv.intercept_)\n",
    "print('coefficients ',clf_mv.coef_)\n",
    "print('Score of clf_mv ', clf_mv.score(Xflmv,y3))\n",
    "# Let us verify the coefficient of determination\n",
    "clf_mv_predictions = clf_mv.predict(Xflmv)\n",
    "clf_mv_predictions_ly3 = clf_mv_predictions - y3\n",
    "y3diffs = y3 - np.mean(y3)\n",
    "print(1 - ( sum((clf_mv_predictions_ly3 * clf_mv_predictions_ly3))/sum((y3diffs * y3diffs))))"
   ]
  },
  {
   "cell_type": "code",
   "execution_count": 40,
   "metadata": {},
   "outputs": [
    {
     "data": {
      "text/plain": [
       "(array([ 122.28859857,   10.94196227]),\n",
       " array([  2.02726810e-14,   1.85464254e-03]))"
      ]
     },
     "execution_count": 40,
     "metadata": {},
     "output_type": "execute_result"
    }
   ],
   "source": [
    "# Use f_regression to get the f scores for the features to get a sense\n",
    "# of their importance\n",
    "from sklearn.feature_selection import f_regression\n",
    "demo_freg = f_regression(Xflmv,y3,True)\n",
    "demo_freg\n",
    "# The first array is the F-statistic and the second the p-values for the features\n",
    "# The null hypothesis is that all the features have no effect and the response variable can \n",
    "# be estimated with them being 0\n",
    "# If that were true then the p-values given by the f_regression should be larger  than the significance level\n",
    "# we choose to operate with\n",
    "# That is if we want to operate at a 95% confidence level the values produced should be greater than 0.05\n",
    "# Here we see the values are significantly less than 0.05\n",
    "# Thus we reject the null hypothesis and say that some of the coefficients will not be zero\n",
    "# to allow us to explian the results we have observed\n",
    "# We can consider the F-statisic to be an estimator of the significance of a feature\n",
    "# The lower it is more strongly significant ( 1 - the f statisit for the feature ) it is"
   ]
  },
  {
   "cell_type": "code",
   "execution_count": 41,
   "metadata": {},
   "outputs": [
    {
     "name": "stdout",
     "output_type": "stream",
     "text": [
      "(47, 6)\n",
      "[[  1.00000000e+00   2.10400000e+03   3.00000000e+00   4.42681600e+06\n",
      "    6.31200000e+03   9.00000000e+00]\n",
      " [  1.00000000e+00   1.60000000e+03   3.00000000e+00   2.56000000e+06\n",
      "    4.80000000e+03   9.00000000e+00]\n",
      " [  1.00000000e+00   2.40000000e+03   3.00000000e+00   5.76000000e+06\n",
      "    7.20000000e+03   9.00000000e+00]]\n",
      "0.75467666158\n"
     ]
    }
   ],
   "source": [
    "from sklearn.preprocessing import PolynomialFeatures\n",
    "poly = PolynomialFeatures(2)\n",
    "Xpoly2 = poly.fit_transform(data2.ix[:,:1])\n",
    "print(Xpoly2.shape)\n",
    "print(Xpoly2[:3])\n",
    "lin_poly = linear_model.LinearRegression()\n",
    "clf_poly = lin_poly.fit(Xpoly2,y3)\n",
    "print(clf_poly.score(Xpoly2,y3))"
   ]
  },
  {
   "cell_type": "code",
   "execution_count": 42,
   "metadata": {},
   "outputs": [
    {
     "data": {
      "text/plain": [
       "['1', 'sqft', 'nbrs', 'sqft^2', 'sqft nbrs', 'nbrs^2']"
      ]
     },
     "execution_count": 42,
     "metadata": {},
     "output_type": "execute_result"
    }
   ],
   "source": [
    "# get feature names for the polynomial transformer\n",
    "poly.get_feature_names(['sqft','nbrs'])"
   ]
  },
  {
   "cell_type": "code",
   "execution_count": 43,
   "metadata": {},
   "outputs": [
    {
     "data": {
      "text/plain": [
       "array([ 352181.70169965])"
      ]
     },
     "execution_count": 43,
     "metadata": {},
     "output_type": "execute_result"
    }
   ],
   "source": [
    "# See an instance of transforming the new example using the polynomial transformer \n",
    "# created earlier\n",
    "nr_poly_transformed = poly.transform(np.matrix([[2200,4]]))\n",
    "# make a prediction using the transformed example\n",
    "clf_poly.predict(nr_poly_transformed)"
   ]
  },
  {
   "cell_type": "markdown",
   "metadata": {},
   "source": [
    "### To tackle overfitting regularization is employed\n",
    "### Which is toning down the magnitued of the parameters\n",
    "### For linear regression with l2 normalization the Ridge algorithm is available"
   ]
  },
  {
   "cell_type": "code",
   "execution_count": 44,
   "metadata": {
    "collapsed": true
   },
   "outputs": [],
   "source": [
    "from sklearn.linear_model import Ridge"
   ]
  },
  {
   "cell_type": "code",
   "execution_count": 45,
   "metadata": {},
   "outputs": [
    {
     "name": "stdout",
     "output_type": "stream",
     "text": [
      "0.742561922582\n",
      "11855.6756785 77264.2743438\n",
      "[  0.00000000e+00   6.63412900e+01   1.02028677e+05  -2.58302442e-02\n",
      "   6.06308796e+01  -3.88920549e+04] \n",
      " [  0.00000000e+00   9.93666549e+01   2.97667122e+04  -3.47164140e-03\n",
      "   1.67069058e+01  -1.18187331e+04]\n"
     ]
    }
   ],
   "source": [
    "ridge_model = Ridge(alpha=0.01,normalize=True)\n",
    "clf_ridge = ridge_model.fit(Xpoly2,y3)\n",
    "print(clf_ridge.score(Xpoly2,y3))\n",
    "print(clf_poly.intercept_, clf_ridge.intercept_)\n",
    "print(clf_poly.coef_,'\\n',clf_ridge.coef_)"
   ]
  },
  {
   "cell_type": "code",
   "execution_count": 47,
   "metadata": {
    "collapsed": true
   },
   "outputs": [],
   "source": [
    "Ridge?"
   ]
  },
  {
   "cell_type": "code",
   "execution_count": 46,
   "metadata": {},
   "outputs": [
    {
     "data": {
      "text/plain": [
       "['lin_mv_models']"
      ]
     },
     "execution_count": 46,
     "metadata": {},
     "output_type": "execute_result"
    }
   ],
   "source": [
    "# Use joblib to dump models in serialized form to disk\n",
    "from sklearn.externals import joblib\n",
    "joblib.dump({'clf_mv_on_disk':clf_mv},'lin_mv_models',compress=5)"
   ]
  },
  {
   "cell_type": "code",
   "execution_count": 47,
   "metadata": {},
   "outputs": [
    {
     "data": {
      "text/plain": [
       "[('clf_mv_on_disk',\n",
       "  LinearRegression(copy_X=True, fit_intercept=True, n_jobs=1, normalize=False))]"
      ]
     },
     "execution_count": 47,
     "metadata": {},
     "output_type": "execute_result"
    }
   ],
   "source": [
    "# Load back the model from disk\n",
    "lin_mv_models_fm_disk = joblib.load('lin_mv_models')\n",
    "[x for x in lin_mv_models_fm_disk.items()]"
   ]
  },
  {
   "cell_type": "code",
   "execution_count": 48,
   "metadata": {
    "collapsed": true
   },
   "outputs": [],
   "source": [
    "clf_mv_fm_disk = lin_mv_models_fm_disk['clf_mv_on_disk']"
   ]
  },
  {
   "cell_type": "code",
   "execution_count": 49,
   "metadata": {},
   "outputs": [
    {
     "name": "stdout",
     "output_type": "stream",
     "text": [
      "89597.9095428 [  139.21067402 -8738.01911233]\n"
     ]
    }
   ],
   "source": [
    "print(clf_mv_fm_disk.intercept_,clf_mv_fm_disk.coef_)"
   ]
  },
  {
   "cell_type": "code",
   "execution_count": 50,
   "metadata": {},
   "outputs": [
    {
     "data": {
      "text/plain": [
       "array([ 360909.31593226])"
      ]
     },
     "execution_count": 50,
     "metadata": {},
     "output_type": "execute_result"
    }
   ],
   "source": [
    "clf_mv_fm_disk.predict(np.array([2200, 4]).reshape(1, 2))"
   ]
  }
 ],
 "metadata": {
  "anaconda-cloud": {},
  "celltoolbar": "Slideshow",
  "kernelspec": {
   "display_name": "Python [default]",
   "language": "python",
   "name": "python3"
  },
  "language_info": {
   "codemirror_mode": {
    "name": "ipython",
    "version": 3
   },
   "file_extension": ".py",
   "mimetype": "text/x-python",
   "name": "python",
   "nbconvert_exporter": "python",
   "pygments_lexer": "ipython3",
   "version": "3.6.2"
  }
 },
 "nbformat": 4,
 "nbformat_minor": 1
}
