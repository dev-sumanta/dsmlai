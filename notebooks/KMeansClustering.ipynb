{
 "cells": [
  {
   "cell_type": "markdown",
   "metadata": {
    "slideshow": {
     "slide_type": "slide"
    }
   },
   "source": [
    "<h3><font color='blue'>===========================================</font></h3>\n",
    "<h1>K Means Clustering</h1>\n",
    "<h2>Unsupervised Learning Algorithm</h2>\n",
    "<ul>\n",
    "<li>Market segmentations, population groups, image compression etc</li><br>\n",
    "<li>We wish to find homogeneous, distinct clusters. Each of which while being different from the rest should have the least variance for points included in the cluster</li><br>\n",
    "<li>Choosing the number of clusters is more often than not a function of domain knowledge. There is an elbow method to derive this from analysis but would not be incorrect to view it as better obtained through knowledge and experience -eg the ubiquitous xs,s,m,l,xl sizes for clothing</li><br>\n",
    "<li>The algorithm works by randomly initializing the required number of clusters. Assign each of the points to the cluster basis the distance (mostly euclidean distance) between the points, computing the centroids and repeating, the overall distance of the points included in the cluster and repeating till we find that the cost reduction produced is neglibible</li><br>\n",
    "</ul>\n",
    "<h3><font color='blue'>===========================================</font></h3>"
   ]
  },
  {
   "cell_type": "markdown",
   "metadata": {
    "slideshow": {
     "slide_type": "slide"
    }
   },
   "source": [
    "$c^{(i)}$ = index of cluster (1,2,...,K) to which example $x^{(i)}$ is currently assigned\n",
    "\n",
    "$μ^k$ = cluster centroid k $(μ^k\\;∈\\;R_n)$\n",
    "\n",
    "$μ_{c^{(i)}}$ = cluster centroid of cluster to which example $x^{(i)}$ has been assigned\n",
    "\n",
    "Using these variables we can define our cost function:\n",
    "\n",
    "$J(c^{(1)},…,c^{(m)},μ_1,…,μ_K)=\\dfrac {1}{m} \\displaystyle \\sum_{i=1}^m{||\\ x^{(i)}−μ_{c^{(i)}}\\ ||}^2$\n",
    "\n",
    "Our optimization objective is to minimize all our parameters using the above cost function:\n",
    "\n",
    "$min_{c,μ} J(c,μ)$"
   ]
  },
  {
   "cell_type": "code",
   "execution_count": 23,
   "metadata": {
    "slideshow": {
     "slide_type": "slide"
    }
   },
   "outputs": [
    {
     "name": "stdout",
     "output_type": "stream",
     "text": [
      "Populating the interactive namespace from numpy and matplotlib\n"
     ]
    },
    {
     "name": "stderr",
     "output_type": "stream",
     "text": [
      "C:\\ProgramData\\Anaconda3\\lib\\site-packages\\IPython\\core\\magics\\pylab.py:160: UserWarning: pylab import has clobbered these variables: ['clf']\n",
      "`%matplotlib` prevents importing * from pylab and numpy\n",
      "  \"\\n`%matplotlib` prevents importing * from pylab and numpy\"\n"
     ]
    }
   ],
   "source": [
    "% pylab inline\n",
    "import numpy as np\n",
    "import matplotlib.pyplot as plt"
   ]
  },
  {
   "cell_type": "code",
   "execution_count": 24,
   "metadata": {
    "collapsed": true,
    "slideshow": {
     "slide_type": "fragment"
    }
   },
   "outputs": [],
   "source": [
    "# Lets use scikit facilities to create some clustered blobs\n",
    "from sklearn.datasets import make_blobs\n",
    "X,y = make_blobs( n_samples = 150, \n",
    "                 n_features = 2, \n",
    "                 centers = 3, \n",
    "                 cluster_std = 0.6,\n",
    "                 shuffle = True,\n",
    "                 random_state = 0\n",
    "                )"
   ]
  },
  {
   "cell_type": "code",
   "execution_count": 25,
   "metadata": {
    "slideshow": {
     "slide_type": "slide"
    }
   },
   "outputs": [
    {
     "name": "stdout",
     "output_type": "stream",
     "text": [
      "The array to cluster and the beginning arbitrary centroids\n",
      "[[6 9]\n",
      " [2 4]\n",
      " [4 3]\n",
      " [3 5]]\n",
      "The initial arbitrary centroids: \n",
      "[[3 2]\n",
      " [3 1]\n",
      " [3 2]]\n",
      "\n",
      "Lets see the steps to find the euclidean distance of the points of the array from the first centroid\n",
      "\n",
      "\n",
      "subtract first row from each of the testarr row\n",
      "\n",
      "[[ 3  7]\n",
      " [-1  2]\n",
      " [ 1  1]\n",
      " [ 0  3]]\n",
      "square it\n",
      "[[ 9 49]\n",
      " [ 1  4]\n",
      " [ 1  1]\n",
      " [ 0  9]]\n",
      "\n",
      "square root it and print  - we have the distance of each of the points of the array from centroid 1 \n",
      "\n",
      "[[ 7.61577311]\n",
      " [ 2.23606798]\n",
      " [ 1.41421356]\n",
      " [ 3.        ]]\n"
     ]
    }
   ],
   "source": [
    "# Let's do some prelim work to figure out how we will cluster \n",
    "# an array of two feature vectors\n",
    "np.random.seed(33)\n",
    "print( 'The array to cluster and the beginning arbitrary centroids')\n",
    "testarr = np.random.randint(2,10,(4,2))\n",
    "print( testarr)\n",
    "print('The initial arbitrary centroids: ')\n",
    "carr = np.random.randint(1,4,(3,2))\n",
    "print( carr)\n",
    "print( '\\nLets see the steps to find the euclidean distance of the points of the array from the first centroid\\n')\n",
    "print( '\\nsubtract first row from each of the testarr row\\n')\n",
    "print ( testarr - carr[0] )\n",
    "print( 'square it')\n",
    "print( ( testarr - carr[0] ) * ( testarr - carr[0]))\n",
    "print( '\\nsquare root it and print  - we have the distance of each of the points of the array from centroid 1 \\n')\n",
    "print(  np.sqrt(  np.sum( ( testarr - carr[0] ) * ( testarr - carr[0] ),\n",
    "                                       axis = 1 ) ).reshape(4,1) )\n"
   ]
  },
  {
   "cell_type": "code",
   "execution_count": 26,
   "metadata": {
    "slideshow": {
     "slide_type": "slide"
    }
   },
   "outputs": [
    {
     "name": "stdout",
     "output_type": "stream",
     "text": [
      "The initial centroids are:\n",
      " [[-1.49181757  1.52386432]\n",
      " [-1.16543438  4.62451791]\n",
      " [-0.01295475  0.66550007]]\n",
      "\r",
      "The centroids now are:  [[-1.59709668  2.58050191]\n",
      " [ 0.16485848  4.10915487]\n",
      " [ 2.07251948  1.02229366]]\n",
      "cost after iteration 1 is 1341.25 and costChange  is 1341.25\n",
      "\r",
      "The centroids now are:  [[-1.68201208  2.90538803]\n",
      " [ 0.84632122  4.29857875]\n",
      " [ 2.06720741  0.97411618]]\n",
      "cost after iteration 2 is -165.43 and costChange  is 165.43\n",
      "\r",
      "The centroids now are:  [[-1.60829496  2.92326714]\n",
      " [ 0.9243041   4.36429108]\n",
      " [ 2.06720741  0.97411618]]\n",
      "cost after iteration 3 is 16.00 and costChange  is 16.00\n",
      "\r",
      "The centroids now are:  [[-1.60829496  2.92326714]\n",
      " [ 0.9243041   4.36429108]\n",
      " [ 2.06720741  0.97411618]]\n",
      "cost after iteration 4 is -0.05 and costChange  is 0.05\n",
      "\r",
      "The centroids now are:  [[-1.60829496  2.92326714]\n",
      " [ 0.9243041   4.36429108]\n",
      " [ 2.06720741  0.97411618]]\n",
      "cost after iteration 5 is 0.00 and costChange  is 0.00\n",
      "Exiting after iteration  4\n",
      "The centroids finally are:\n",
      " [[-1.60829496  2.92326714]\n",
      " [ 0.9243041   4.36429108]\n",
      " [ 2.06720741  0.97411618]]\n",
      "\n",
      "The dataCentroids are  [2 1 1 1 2 1 1 2 0 1 2 0 0 1 1 0 0 2 0 2 1 2 1 1 0 2 2 1 0 2 0 0 0 0 1 2 2\n",
      " 2 1 1 0 0 1 2 2 2 0 1 0 1 2 1 1 2 2 0 1 2 0 1 0 0 0 0 1 0 1 2 1 1 1 2 2 1\n",
      " 2 1 1 0 0 1 2 2 1 1 2 2 2 0 0 2 2 1 2 1 2 1 0 0 2 2 2 2 0 2 2 1 0 1 1 1 0\n",
      " 1 2 0 1 0 1 1 0 0 1 2 1 1 2 2 0 2 0 0 0 0 2 0 0 0 1 0 2 0 1 1 2 2 0 0 0 0\n",
      " 2 2]\n"
     ]
    }
   ],
   "source": [
    "#Now lets compute the centroids for a large array\n",
    "noCentroids = 3\n",
    "noFeatures = 2\n",
    "noIterations = 200\n",
    "noExamples = 150\n",
    "tol = 1e-4\n",
    "\n",
    "def computeCentroids(XAB, noExamples, noFeatures, noCentroids, noIterations):\n",
    "    \n",
    "    minX =  np.min(XAB)\n",
    "    maxX =  np.max(XAB)\n",
    "    tol = 1e-4\n",
    "    costChange = 0\n",
    "    \n",
    "    np.random.seed(100)\n",
    "    centroids = np.zeros( ( noCentroids, noFeatures ) )\n",
    "    dataCentroids = np.zeros(noExamples)\n",
    "    cost = np.zeros(noIterations)\n",
    "    # arbitrarily initialize the required number of centroids\n",
    "    for x in range(noCentroids):\n",
    "        centroids[x] = np.random.uniform(0, 1, 2) * np.array([minX, maxX])\n",
    "    print ('The initial centroids are:\\n', centroids  )\n",
    "    \n",
    "    # Lets have an array to hold the distances of the points from the centroids\n",
    "    distArray = np.zeros((noExamples, noCentroids) )\n",
    "    \n",
    "    # Lets run iterations\n",
    "    for x in range(noIterations):\n",
    "        \n",
    "        for k in range(noCentroids) :\n",
    "            # calcualte difference\n",
    "            diff = XAB - centroids[k]\n",
    "            # square the difference\n",
    "            squaredDiff = diff * diff\n",
    "            # store the square root of the sum of the squared differences\n",
    "            distArray[:,k] = np.sqrt( np.sum( squaredDiff, axis = 1) )\n",
    "            cost[x] += np.sum(distArray[:,k])\n",
    "        \n",
    "        # The cluster for each of the points is the one which is the least away\n",
    "        dataCentroids = np.argmin(distArray,axis = 1)\n",
    "#         print '\\nThe dataCentroids are ' , dataCentroids\n",
    "        for k in range( noCentroids ):\n",
    "#             print '\\nXAB datacentroids = k', k, XAB[dataCentroids == k ]\n",
    "            centroids[k] = np.mean( XAB[dataCentroids == k], axis = 0)\n",
    "        print ('\\rThe centroids now are: ',centroids)\n",
    "        \n",
    "        # Lets track the cost and run iterations till we are seeing a reduction in the cost\n",
    "        if x == 0:\n",
    "            costChange  = cost[x]\n",
    "            print ('cost after iteration %d is %.2f and costChange  is %.2f' % ( x+1,cost[x],costChange ))\n",
    "        else :\n",
    "            costChange  = np.abs(cost[x] - cost[x-1])\n",
    "            print ('cost after iteration %d is %.2f and costChange  is %.2f' % ( x+1,cost[x] - cost[x-1],costChange ))\n",
    "        \n",
    "        if costChange  <  tol:\n",
    "            print ('Exiting after iteration ', x)\n",
    "            break\n",
    "    return centroids, dataCentroids\n",
    "\n",
    "centroids, dataCentroids = computeCentroids(X,noExamples,noFeatures,noCentroids,noIterations)\n",
    "\n",
    "    \n",
    "print ('The centroids finally are:\\n',centroids)\n",
    "print ('\\nThe dataCentroids are ' , dataCentroids)"
   ]
  },
  {
   "cell_type": "code",
   "execution_count": 31,
   "metadata": {
    "slideshow": {
     "slide_type": "slide"
    }
   },
   "outputs": [
    {
     "data": {
      "image/png": "[encoded data removed]",
      "text/plain": [
       "<matplotlib.figure.Figure at 0x1e607c234e0>"
      ]
     },
     "metadata": {},
     "output_type": "display_data"
    }
   ],
   "source": [
    "# Lets plot the clusters\n",
    "fig = figure()\n",
    "plt.scatter( X[:,0], X[:,1], c='orange',marker='o',s=40)\n",
    "plt.tight_layout()\n",
    "fig.set_size_inches(12,8)"
   ]
  },
  {
   "cell_type": "code",
   "execution_count": 32,
   "metadata": {
    "slideshow": {
     "slide_type": "slide"
    }
   },
   "outputs": [
    {
     "data": {
      "text/plain": [
       "array([1, 0, 0, 0, 1, 0, 0, 1, 2, 0, 1, 2, 2, 0, 0, 2, 2, 1, 2, 1, 0, 1, 0,\n",
       "       0, 2, 1, 1, 0, 2, 1, 2, 2, 2, 2, 0, 1, 1, 1, 0, 0, 2, 2, 0, 1, 1, 1,\n",
       "       2, 0, 2, 0, 1, 0, 0, 1, 1, 2, 0, 1, 2, 0, 2, 2, 2, 2, 0, 2, 0, 1, 0,\n",
       "       0, 0, 1, 1, 0, 1, 0, 0, 2, 2, 0, 1, 1, 0, 0, 1, 1, 1, 2, 2, 1, 1, 0,\n",
       "       1, 0, 1, 0, 2, 2, 1, 1, 1, 1, 2, 1, 1, 0, 2, 0, 0, 0, 2, 0, 1, 2, 0,\n",
       "       2, 0, 0, 2, 2, 0, 1, 0, 0, 1, 1, 2, 1, 2, 2, 2, 2, 1, 2, 2, 2, 0, 2,\n",
       "       1, 2, 0, 0, 1, 1, 2, 2, 2, 2, 1, 1])"
      ]
     },
     "execution_count": 32,
     "metadata": {},
     "output_type": "execute_result"
    }
   ],
   "source": [
    "# Lets use scikit kmeans\n",
    "from sklearn.cluster import KMeans\n",
    "\n",
    "km = KMeans( \n",
    "    n_clusters = 3,\n",
    "    init = 'random',\n",
    "    n_init = 10,\n",
    "    max_iter = 300,\n",
    "    tol = 1e-4,\n",
    "    random_state = 0 )\n",
    "\n",
    "y_km = km.fit_predict( X )\n",
    "y_km\n"
   ]
  },
  {
   "cell_type": "code",
   "execution_count": 33,
   "metadata": {
    "slideshow": {
     "slide_type": "subslide"
    }
   },
   "outputs": [
    {
     "name": "stdout",
     "output_type": "stream",
     "text": [
      "[[ 0.9243041   4.36429108]\n",
      " [ 2.06720741  0.97411618]\n",
      " [-1.60829496  2.92326714]]\n",
      "<class 'numpy.ndarray'> (3, 2)\n",
      "[[-1.60829496  2.92326714]\n",
      " [ 0.9243041   4.36429108]\n",
      " [ 2.06720741  0.97411618]] (3, 2)\n"
     ]
    }
   ],
   "source": [
    "# Lets compare the centroids we computed and the ones we got through kmeans\n",
    "print (km.cluster_centers_)\n",
    "print (type(km.cluster_centers_), km.cluster_centers_.shape)\n",
    "print (centroids, centroids.shape)"
   ]
  },
  {
   "cell_type": "code",
   "execution_count": 34,
   "metadata": {},
   "outputs": [
    {
     "name": "stdout",
     "output_type": "stream",
     "text": [
      "[1 0 0 0 1 0 0 1 2 0 1 2 2 0 0 2 2 1 2 1 0 1 0 0 2 1 1 0 2 1 2 2 2 2 0 1 1\n",
      " 1 0 0 2 2 0 1 1 1 2 0 2 0 1 0 0 1 1 2 0 1 2 0 2 2 2 2 0 2 0 1 0 0 0 1 1 0\n",
      " 1 0 0 2 2 0 1 1 0 0 1 1 1 2 2 1 1 0 1 0 1 0 2 2 1 1 1 1 2 1 1 0 2 0 0 0 2\n",
      " 0 1 2 0 2 0 0 2 2 0 1 0 0 1 1 2 1 2 2 2 2 1 2 2 2 0 2 1 2 0 0 1 1 2 2 2 2\n",
      " 1 1]\n",
      "[  4.43598630e-01   7.67522789e-01   4.38990142e-01   1.71444449e+00\n",
      "   1.89593761e+00   1.86922139e+00   6.70478769e-01  -1.84892963e-03\n",
      "   5.72793810e-01   1.16411070e+00   1.06269622e+00   1.25566754e+00\n",
      "   2.24592863e-01   5.95676822e-01   1.19008992e+00   2.13979079e-01\n",
      "   2.33812285e+00   1.54632313e+00   3.33818506e-01   1.10123507e+00\n",
      "   6.69786996e-01   1.41372442e+00   1.08272576e+00   1.05241733e+00\n",
      "  -5.55523811e-01  -4.74920358e-02   1.65991049e+00   2.72396035e-01\n",
      "   7.89338559e-01   1.68353782e+00   9.59360742e-01   3.47138300e-01\n",
      "   1.24258802e+00   1.00372519e+00   7.34363910e-01   2.10616050e+00\n",
      "   1.06923853e+00   1.87271752e+00   9.14338767e-01   2.77180174e-01\n",
      "   7.43873988e-01   9.82570091e-01   1.01618041e+00   1.49493180e+00\n",
      "   4.53791789e-01   4.31891060e-01   7.93137001e-03   4.88382309e-01\n",
      "   1.43289271e+00   1.21767506e+00]\n",
      "[ 3.11530945  4.39759671  4.53592883  5.02521524  5.18540259  5.44132083\n",
      "  4.04094275  4.58145668  4.08805543  3.79132988  5.17635143  3.38204112\n",
      "  4.77028154  4.08614263  4.72773123  4.88542535  3.43116792  4.212973\n",
      "  4.93645836  4.88977075  3.59540802  4.38117707  4.06271877  4.54498095\n",
      "  4.69595848  5.47425256  3.56289184  5.46996004  4.33748653  4.19583243\n",
      "  4.56078645  3.45177657  4.50399192  4.19147702  5.03725437  3.49513189\n",
      "  4.53068484  4.18069237  4.55014643  4.84428322  4.12240568  5.37530962\n",
      "  4.48527047  3.85848832  3.95647753  4.33495456  4.17614316  3.26801777\n",
      "  4.37679234  3.89290127]\n"
     ]
    }
   ],
   "source": [
    "print(y_km)\n",
    "print(X[y_km==0,0])\n",
    "print(X[y_km==0,1])"
   ]
  },
  {
   "cell_type": "code",
   "execution_count": 35,
   "metadata": {
    "slideshow": {
     "slide_type": "subslide"
    }
   },
   "outputs": [
    {
     "data": {
      "image/png": "[encoded data removed]",
      "text/plain": [
       "<matplotlib.figure.Figure at 0x1e60bdf7588>"
      ]
     },
     "metadata": {},
     "output_type": "display_data"
    }
   ],
   "source": [
    "# Lets plot he clusters\n",
    "fig = figure()\n",
    "plt.scatter(X[y_km == 0,0],\n",
    "           X[y_km == 0, 1],\n",
    "           s=50, c='lightgreen',\n",
    "           marker='s',\n",
    "           label = 'cluster2')\n",
    "plt.scatter(X[y_km == 1,0],\n",
    "           X[y_km == 1, 1],\n",
    "           s=50, c='orange',\n",
    "           marker='o',\n",
    "           label = 'cluster1')\n",
    "plt.scatter(X[y_km == 2,0],\n",
    "           X[y_km == 2, 1],\n",
    "           s=50, c='lightblue',\n",
    "           marker='v',\n",
    "           label = 'cluster3')\n",
    "plt.legend()\n",
    "plt.grid()\n",
    "plt.tight_layout()\n",
    "fig.set_size_inches(12,8)"
   ]
  },
  {
   "cell_type": "code",
   "execution_count": 36,
   "metadata": {
    "slideshow": {
     "slide_type": "slide"
    }
   },
   "outputs": [
    {
     "data": {
      "image/png": "[encoded data removed]",
      "text/plain": [
       "<matplotlib.figure.Figure at 0x1e607c08128>"
      ]
     },
     "metadata": {},
     "output_type": "display_data"
    }
   ],
   "source": [
    "# Lets see the elbow method we can use \n",
    "fig = figure()\n",
    "distortions = []\n",
    "for i in range(1,11):\n",
    "    km = KMeans( n_clusters=i,\n",
    "               init = 'k-means++',\n",
    "               n_init = 10,\n",
    "               max_iter = 300,\n",
    "               random_state = 0 )\n",
    "    km.fit(X)\n",
    "    distortions.append( km.inertia_)\n",
    "plt.plot( range(1,11), distortions, marker = 'o')\n",
    "plt.xlabel('Number of clusters')\n",
    "plt.ylabel('Distortion')\n",
    "fig.set_size_inches(12,8)"
   ]
  },
  {
   "cell_type": "markdown",
   "metadata": {
    "slideshow": {
     "slide_type": "slide"
    }
   },
   "source": [
    "<h3><font color='blue'>========================================================================================</font></h3>\n",
    "<h3>We will use KMeans to cluster digits</h3>\n",
    "<br>\n",
    "<h3>We will see the scikit metrics constructs for evaluating clustering</h3>\n",
    "<p>\n",
    "From the documentaiton :\n",
    " The Rand Index computes a similarity measure between two clusterings\n",
    "    by considering all pairs of samples and counting pairs that are\n",
    "    assigned in the same or different clusters in the predicted and\n",
    "    true clusterings.\n",
    "\n",
    "    The raw RI score is then \"adjusted for chance\" into the ARI score\n",
    "    using the following scheme::\n",
    "\n",
    "        ARI = (RI - Expected_RI) / (max(RI) - Expected_RI)\n",
    " </p>\n",
    " <p>\n",
    " Homogeneity score:<br>\n",
    " A clustering result satisfies homogeneity if all of its clusters\n",
    "    contain only data points which are members of a single class.\n",
    " </p>\n",
    " <p>\n",
    " Completeness score:<br>\n",
    " A clustering result satisfies completeness if all the data points\n",
    "    that are members of a given class are elements of the same cluster\n",
    "    </p>\n",
    "        \n",
    "<h3><font color='blue'>========================================================================================</font></h3>"
   ]
  },
  {
   "cell_type": "code",
   "execution_count": 11,
   "metadata": {
    "slideshow": {
     "slide_type": "slide"
    }
   },
   "outputs": [
    {
     "name": "stdout",
     "output_type": "stream",
     "text": [
      "(1797, 64) (1797,)\n",
      "[[  0.   0.   5.  13.   9.   1.   0.   0.   0.   0.  13.  15.  10.  15.\n",
      "    5.   0.   0.   3.  15.   2.   0.  11.   8.   0.   0.   4.  12.   0.\n",
      "    0.   8.   8.   0.   0.   5.   8.   0.   0.   9.   8.   0.   0.   4.\n",
      "   11.   0.   1.  12.   7.   0.   0.   2.  14.   5.  10.  12.   0.   0.\n",
      "    0.   0.   6.  13.  10.   0.   0.   0.]\n",
      " [  0.   0.   0.  12.  13.   5.   0.   0.   0.   0.   0.  11.  16.   9.\n",
      "    0.   0.   0.   0.   3.  15.  16.   6.   0.   0.   0.   7.  15.  16.\n",
      "   16.   2.   0.   0.   0.   0.   1.  16.  16.   3.   0.   0.   0.   0.\n",
      "    1.  16.  16.   6.   0.   0.   0.   0.   1.  16.  16.   6.   0.   0.\n",
      "    0.   0.   0.  11.  16.  10.   0.   0.]]\n",
      "[0 1 2 3 4 5 6 7 8 9 0 1 2 3 4 5 6 7 8 9 0 1 2 3 4 5 6 7 8 9 0 9 5 5 6 5 0\n",
      " 9 8 9 8 4 1 7 7 3 5 1 0 0 2 2 7 8 2 0 1 2 6 3 3 7 3 3 4 6 6 6 4 9 1 5 0 9\n",
      " 5 2 8 2 0 0 1 7 6 3 2 1 7 4 6 3 1 3 9 1 7 6 8 4 3 1]\n",
      "1797\n",
      "[[  0   1   2   3   4   5   6   7   8   9]\n",
      " [178 182 177 183 181 182 181 179 174 180]]\n"
     ]
    }
   ],
   "source": [
    "# Lets explore the digits data\n",
    "\n",
    "from sklearn.datasets import load_digits\n",
    "from sklearn.preprocessing import scale\n",
    "\n",
    "digits = load_digits()\n",
    "data = scale(digits.data)\n",
    "\n",
    "# Lets take a look at the shape of the digits data and target\n",
    "# Look at some sample data and a count of the number of instances\n",
    "# for each digit in the dataset \n",
    "\n",
    "print(digits.data.shape , digits.target.shape)\n",
    "print( digits.data[:2] )\n",
    "print(digits.target[:100])\n",
    "numbers, numberscounts = np.unique(digits.target,return_counts=True)\n",
    "print(sum(numberscounts))\n",
    "print(np.asarray((numbers,numberscounts)))\n",
    "\n",
    "\n"
   ]
  },
  {
   "cell_type": "code",
   "execution_count": 37,
   "metadata": {},
   "outputs": [
    {
     "data": {
      "image/png": "[encoded data removed]",
      "text/plain": [
       "<matplotlib.figure.Figure at 0x1e60bddff98>"
      ]
     },
     "metadata": {},
     "output_type": "display_data"
    }
   ],
   "source": [
    "def print_digits( images, y, max_n = 10 ):\n",
    "    fig = plt.figure( figsize = (12,12))\n",
    "    fig.subplots_adjust(left =0, right = 1, bottom = 0, top = 1,\n",
    "                        hspace = 0.05, wspace = 0.05 )\n",
    "    i = 0\n",
    "    while i < max_n and i < images.shape[0] :\n",
    "        p = fig.add_subplot( 20, 20, i + 1, xticks = [], yticks = [] )\n",
    "        p.imshow( images[i], cmap = plt.cm.bone_r )\n",
    "        p.text( 0, 14, str( y[i]) )\n",
    "        i += 1\n",
    "\n",
    "print_digits( digits.images , digits.target,  10)"
   ]
  },
  {
   "cell_type": "code",
   "execution_count": 38,
   "metadata": {
    "slideshow": {
     "slide_type": "slide"
    }
   },
   "outputs": [
    {
     "name": "stdout",
     "output_type": "stream",
     "text": [
      "n_digits 1347, \tn_samples, 1347 \tn_features 64\n"
     ]
    },
    {
     "data": {
      "image/png": "[encoded data removed]",
      "text/plain": [
       "<matplotlib.figure.Figure at 0x1e60cc1ca20>"
      ]
     },
     "metadata": {},
     "output_type": "display_data"
    },
    {
     "data": {
      "image/png": "[encoded data removed]",
      "text/plain": [
       "<matplotlib.figure.Figure at 0x1e60cc15da0>"
      ]
     },
     "metadata": {},
     "output_type": "display_data"
    }
   ],
   "source": [
    "from sklearn.model_selection import train_test_split\n",
    "\n",
    "X_train, X_test, y_train, y_test, images_train, images_test = train_test_split( \n",
    "    data, digits.target, digits.images, test_size = 0.25, random_state = 42\n",
    ")\n",
    "\n",
    "n_samples, n_features = X_train.shape\n",
    "n_digits = len( np.unique(y_train))\n",
    "labels = y_train\n",
    "\n",
    "print_digits( images_train,y_train,20)\n",
    "print_digits( images_test, y_test, 20)\n",
    "\n",
    "print ( 'n_digits %d, \\tn_samples, %d \\tn_features %d' % \n",
    "       (n_samples,n_samples,n_features))"
   ]
  },
  {
   "cell_type": "code",
   "execution_count": 39,
   "metadata": {
    "slideshow": {
     "slide_type": "slide"
    }
   },
   "outputs": [
    {
     "name": "stdout",
     "output_type": "stream",
     "text": [
      "(1347,)\n",
      "[1 3 2 0 6 8 6 2 3 3]\n"
     ]
    },
    {
     "data": {
      "image/png": "[encoded data removed]",
      "text/plain": [
       "<matplotlib.figure.Figure at 0x1e60cc066a0>"
      ]
     },
     "metadata": {},
     "output_type": "display_data"
    }
   ],
   "source": [
    "clf = KMeans( init = 'k-means++', n_clusters = 10, random_state = 42)\n",
    "clf.fit( X_train)\n",
    "print (clf.labels_.shape)\n",
    "print( clf.labels_[:10])\n",
    "print_digits( images_train, clf.labels_, 10)"
   ]
  },
  {
   "cell_type": "code",
   "execution_count": 40,
   "metadata": {
    "slideshow": {
     "slide_type": "slide"
    }
   },
   "outputs": [
    {
     "data": {
      "image/png": "[encoded data removed]",
      "text/plain": [
       "<matplotlib.figure.Figure at 0x1e60625fc50>"
      ]
     },
     "metadata": {},
     "output_type": "display_data"
    },
    {
     "data": {
      "image/png": "[encoded data removed]",
      "text/plain": [
       "<matplotlib.figure.Figure at 0x1e607c6cef0>"
      ]
     },
     "metadata": {},
     "output_type": "display_data"
    },
    {
     "data": {
      "image/png": "[encoded data removed]",
      "text/plain": [
       "<matplotlib.figure.Figure at 0x1e608c16748>"
      ]
     },
     "metadata": {},
     "output_type": "display_data"
    },
    {
     "data": {
      "image/png": "[encoded data removed]",
      "text/plain": [
       "<matplotlib.figure.Figure at 0x1e60d4557f0>"
      ]
     },
     "metadata": {},
     "output_type": "display_data"
    },
    {
     "data": {
      "image/png": "[encoded data removed]",
      "text/plain": [
       "<matplotlib.figure.Figure at 0x1e60d767588>"
      ]
     },
     "metadata": {},
     "output_type": "display_data"
    },
    {
     "data": {
      "image/png": "[encoded data removed]",
      "text/plain": [
       "<matplotlib.figure.Figure at 0x1e60d611b70>"
      ]
     },
     "metadata": {},
     "output_type": "display_data"
    },
    {
     "data": {
      "image/png": "[encoded data removed]",
      "text/plain": [
       "<matplotlib.figure.Figure at 0x1e609495be0>"
      ]
     },
     "metadata": {},
     "output_type": "display_data"
    },
    {
     "data": {
      "image/png": "[encoded data removed]",
      "text/plain": [
       "<matplotlib.figure.Figure at 0x1e60a202a90>"
      ]
     },
     "metadata": {},
     "output_type": "display_data"
    },
    {
     "data": {
      "image/png": "[encoded data removed]",
      "text/plain": [
       "<matplotlib.figure.Figure at 0x1e6082240f0>"
      ]
     },
     "metadata": {},
     "output_type": "display_data"
    },
    {
     "data": {
      "image/png": "[encoded data removed]",
      "text/plain": [
       "<matplotlib.figure.Figure at 0x1e60a4fa400>"
      ]
     },
     "metadata": {},
     "output_type": "display_data"
    }
   ],
   "source": [
    "y_pred = clf.predict(X_test)\n",
    "# print(y_pred)\n",
    "def predict_cluster( images, y_pred, cluster_number ):\n",
    "#     print(y_pred == cluster_number)\n",
    "    images = images[ y_pred == cluster_number ]\n",
    "    y_pred = y_pred [ y_pred == cluster_number ]\n",
    "    print_digits( images, y_pred, 10 )\n",
    "    \n",
    "for i in range(10):\n",
    "    predict_cluster( images_test, y_pred, i )"
   ]
  },
  {
   "cell_type": "markdown",
   "metadata": {},
   "source": [
    "## Clustering Metrics\n",
    "### Silhouette Coefficient\n",
    "If the ground truth labels are not known, evaluation must be performed using the model itself. The Silhouette Coefficient (sklearn.metrics.silhouette_score) is an example of such an evaluation, where a higher Silhouette Coefficient score relates to a model with better defined clusters. The Silhouette Coefficient is defined for each sample and is composed of two scores:\n",
    "\n",
    "    a: The mean distance between a sample and all other points in the same class.\n",
    "    b: The mean distance between a sample and all other points in the next nearest cluster.\n",
    "\n",
    "The Silhouette Coefficient s for a single sample is then given as:\n",
    "\n",
    "$s = \\frac{b - a}{max(a, b)}$\n",
    "\n",
    "The Silhouette Coefficient for a set of samples is given as the mean of the Silhouette Coefficient for each sample."
   ]
  },
  {
   "cell_type": "code",
   "execution_count": 41,
   "metadata": {},
   "outputs": [
    {
     "data": {
      "text/plain": [
       "0.14147819670796544"
      ]
     },
     "execution_count": 41,
     "metadata": {},
     "output_type": "execute_result"
    }
   ],
   "source": [
    "from sklearn.metrics import silhouette_score\n",
    "silhouette_score(X_train, clf.labels_, metric='l2')"
   ]
  },
  {
   "cell_type": "markdown",
   "metadata": {},
   "source": [
    "### Clustering Metrics\n",
    "#### Adjusted Rand Index Score\n",
    "Given the knowledge of the ground truth class assignments labels_true and our clustering algorithm assignments of the same samples labels_pred, the adjusted Rand index is a function that measures the similarity of the two assignments, ignoring permutations and with chance normalization\n",
    "\n",
    "If C is a ground truth class assignment and K the clustering, let us define a and b as:\n",
    "\n",
    "    a, the number of pairs of elements that are in the same set in C and in the same set in K\n",
    "    b, the number of pairs of elements that are in different sets in C and in different sets in K\n",
    "\n",
    "The raw (unadjusted) Rand index is then given by:\n",
    "\n",
    "$\\text{RI} = \\frac{a + b}{C_2^{n_{samples}}}$\n",
    "\n",
    "Where C_2^{n_{samples}} is the total number of possible pairs in the dataset (without ordering).\n",
    "\n",
    "However the RI score does not guarantee that random label assignments will get a value close to zero (esp. if the number of clusters is in the same order of magnitude as the number of samples).\n",
    "\n",
    "To counter this effect we can discount the expected RI E[$\\text{RI}$] of random labelings by defining the adjusted Rand index as follows:\n",
    "\n",
    "$\\text{ARI} = \\frac{\\text{RI} - E[\\text{RI}]}{\\max(\\text{RI}) - E[\\text{RI}]}$\n",
    "\n",
    "# Homogeneity, Completeness\n",
    "Given the knowledge of the ground truth class assignments of the samples, it is possible to define some intuitive metric using conditional entropy analysis.\n",
    "\n",
    "In particular Rosenberg and Hirschberg (2007) define the following two desirable objectives for any cluster assignment:\n",
    "\n",
    "    homogeneity: each cluster contains only members of a single class.\n",
    "    completeness: all members of a given class are assigned to the same cluster.\n",
    "\n",
    "We can turn those concept as scores homogeneity_score and completeness_score. Both are bounded below by 0.0 and above by 1.0 (higher is better):\n"
   ]
  },
  {
   "cell_type": "code",
   "execution_count": 16,
   "metadata": {},
   "outputs": [
    {
     "name": "stdout",
     "output_type": "stream",
     "text": [
      "Object `metrics.completeness_score` not found.\n"
     ]
    }
   ],
   "source": [
    "metrics.completeness_score??"
   ]
  },
  {
   "cell_type": "code",
   "execution_count": 17,
   "metadata": {
    "slideshow": {
     "slide_type": "slide"
    }
   },
   "outputs": [
    {
     "name": "stdout",
     "output_type": "stream",
     "text": [
      "Adjusted rand score:0.57\n",
      "Homogeneity score:0.69\n",
      "Completeness score:0.73\n",
      "Confustion Matrix:\n",
      "\n",
      "[[ 0  0 43  0  0  0  0  0  0  0]\n",
      " [20  0  0  7  0  0  0 10  0  0]\n",
      " [ 5  0  0 31  0  0  0  1  1  0]\n",
      " [ 1  0  0  1  0  1  4  0 39  0]\n",
      " [ 1 50  0  0  0  0  1  2  0  1]\n",
      " [ 1  0  0  0  1 41  0  0 16  0]\n",
      " [ 0  0  1  0 44  0  0  0  0  0]\n",
      " [ 0  0  0  0  0  1 34  1  0  5]\n",
      " [21  0  0  0  0  3  1  2 11  0]\n",
      " [ 0  0  0  0  0  2  3  3 40  0]]\n"
     ]
    }
   ],
   "source": [
    "from sklearn import metrics\n",
    "print( 'Adjusted rand score:{:.2}'.format(metrics.adjusted_rand_score(y_test,y_pred)))\n",
    "print( 'Homogeneity score:{:.2}'.format(metrics.homogeneity_score(y_test,y_pred)))\n",
    "print( 'Completeness score:{:.2}'.format(metrics.completeness_score(y_test,y_pred)))\n",
    "print( 'Confustion Matrix:\\n')\n",
    "print( metrics.confusion_matrix(y_test,y_pred))"
   ]
  },
  {
   "cell_type": "markdown",
   "metadata": {},
   "source": [
    "# Types of clustering\n",
    "\n",
    "## MiniBatchKMeans\n",
    "The MiniBatchKMeans is a variant of the KMeans algorithm which uses mini-batches to reduce the computation time, while still attempting to optimise the same objective function. Mini-batches are subsets of the input data, randomly sampled in each training iteration. These mini-batches drastically reduce the amount of computation required to converge to a local solution. In contrast to other algorithms that reduce the convergence time of k-means, mini-batch k-means produces results that are generally only slightly worse than the standard algorithm\n",
    "\n",
    "## Hierarchical clustering\n",
    "In data mining and statistics, hierarchical clustering (also called hierarchical cluster analysis or HCA) is a method of cluster analysis which seeks to build a hierarchy of clusters. Strategies for hierarchical clustering generally fall into two types\n",
    "\n",
    "    Agglomerative: This is a \"bottom up\" approach: each observation starts in its own cluster, and pairs of clusters are merged as one moves up the hierarchy.\n",
    "    Divisive: This is a \"top down\" approach: all observations start in one cluster, and splits are performed recursively as one moves down the hierarchy.\n",
    "\n",
    "In general, the merges and splits are determined in a greedy manner. The results of hierarchical clustering are usually presented in a dendrogram"
   ]
  }
 ],
 "metadata": {
  "celltoolbar": "Slideshow",
  "kernelspec": {
   "display_name": "Python [default]",
   "language": "python",
   "name": "python3"
  },
  "language_info": {
   "codemirror_mode": {
    "name": "ipython",
    "version": 3
   },
   "file_extension": ".py",
   "mimetype": "text/x-python",
   "name": "python",
   "nbconvert_exporter": "python",
   "pygments_lexer": "ipython3",
   "version": "3.6.2"
  }
 },
 "nbformat": 4,
 "nbformat_minor": 1
}
