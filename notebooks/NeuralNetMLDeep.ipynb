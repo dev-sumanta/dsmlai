{
 "cells": [
  {
   "cell_type": "code",
   "execution_count": 1,
   "metadata": {
    "collapsed": true,
    "slideshow": {
     "slide_type": "skip"
    }
   },
   "outputs": [],
   "source": [
    "from IPython.display import Image\n",
    "from IPython.display import Latex\n",
    "import numpy as np\n",
    "import scipy as sp\n",
    "import matplotlib.pyplot as plt"
   ]
  },
  {
   "cell_type": "markdown",
   "metadata": {
    "slideshow": {
     "slide_type": "slide"
    }
   },
   "source": [
    "<h3><font color='blue'>=========================================</font></h3>\n",
    "<h1>Neural Networks</h1>\n",
    "<h3>Neural networks owe their name to the intent to mimic how neurons in the brains work</h3>\n",
    "<h3>Multi layered networks are constructed - where each unit in the subsequent layers learns from each unit in the preceding layer</h3>\n",
    "<h3>The first layer may have high dimensionality - the second can be a lower dimension layer - on which output from each unit in the preceding layer will impinge - and so on the learning will pass through to ensuing layers</h3>\n",
    "<font size=4>\n",
    "<h3>The dimensionality of each layer will be of size $S_{L+1}*(S_L+1)$ where L and L+1 are two consecutive layers</h3>\n",
    "<h3>The final layer will have units equal to the number of classes we are trying to determine - we will see later that trying to recognize digits we will have ten classes ( 0 - 9 ) to decide from</h3>\n",
    "<h5>We label these intermediate or \"hidden\" layer nodes $a_0^2⋯a_n^2$ and call them \"activation units</h5>\n",
    "\n",
    "<h5>$a_i^{(j)}$= activation of unit i in layer j</h5>\n",
    "<h5>$\\ominus^{(j)}$ = matrix of weights controlling function mapping from layer j to layer j+1</h5>\n",
    "\n",
    "<h5>If we had one hidden layer, it would look visually something like:</h5><br>\n",
    "\n",
    "$\n",
    "\\begin{bmatrix}\n",
    "x_0 \\newline\n",
    "x_1 \\newline\n",
    "x_2 \\newline\n",
    "x_3\n",
    "\\end{bmatrix} \\rightarrow\n",
    "\\begin{bmatrix}\n",
    "a_1^{(2)} \\newline\n",
    "a_2^{(2)} \\newline\n",
    "a_3^{(2)} \\newline\n",
    "\\end{bmatrix}\n",
    "\\rightarrow\n",
    "h_\\theta(x)$\n",
    "\n",
    "<br>\n",
    "\n",
    "<h3>The values for each of the activation nodes would be computed as follows:</h3><br>\n",
    "$\n",
    "\\begin{align*}\n",
    "a_1^{(2)} = g(\\Theta_{10}^{(1)}x_0 + \\Theta_{11}^{(1)}x_1 + \\Theta_{12}^{(1)}x_2 + \\Theta_{13}^{(1)}x_3) \\newline\n",
    "a_2^{(2)} = g(\\Theta_{20}^{(1)}x_0 + \\Theta_{21}^{(1)}x_1 + \\Theta_{22}^{(1)}x_2 + \\Theta_{23}^{(1)}x_3) \\newline\n",
    "a_3^{(2)} = g(\\Theta_{30}^{(1)}x_0 + \\Theta_{31}^{(1)}x_1 + \\Theta_{32}^{(1)}x_2 + \\Theta_{33}^{(1)}x_3) \\newline\n",
    "\\,\\,\\,\\,\\,\\,\\,\\,\\,\\,h_\\Theta(x) = a_1^{(3)} = g(\\Theta_{10}^{(2)}a_0^{(2)} + \\Theta_{11}^{(2)}a_1^{(2)} + \\Theta_{12}^{(2)}a_2^{(2)} + \\Theta_{13}^{(2)}a_3^{(2)}) \\newline\n",
    "\\end{align*}$\n",
    "<h5>Each layer gets its own matrix $\\ominus^{(j)}$ of parameters</h5>\n",
    "<h4>The cost function for a neural network<br><br>We will now apply the logistic function across the layers and\n",
    "minimize the cumulative cost across<br></h4>\n",
    "$\n",
    "J(\\Theta) = - \\frac{1}{m} \\left[ \\sum_{i=1}^m \\sum_{k=1}^K y^{(i)}_k \\log ((h_\\Theta (x^{(i)}))_k) + (1 - y^{(i)}_k)\\log (1 - (h_\\Theta(x^{(i)}))_k)\\right]$<br><br>\n",
    "$+ \\frac{\\lambda}{2m}\\sum_{l=1}^{L-1} \\sum_{i=1}^{s_l} \\sum_{j=1}^{s_{l+1}} ( \\Theta_{j,i}^{(l)})^2\n",
    "$\n",
    "<h4>The backpropagation algorithm is used to minimize the cost function</h4><br>\n",
    "<h4>In backpropagation we're going to compute for every node:</h4><br>\n",
    "$δ^{(l)}_j$ = \"error\" of node j in layer l <br>\n",
    "$a^{(l)}_j$ is activation node j in layer l. <br>\n",
    "For the last layer, we can compute the vector of delta values with: <br>\n",
    "$δ^{(L)}=a^{(L)}−y$<br>\n",
    "To get the delta values of the layers before the last layer, we can use an equation that steps us back from right to left:<br>\n",
    "$\\delta^{(l)} = ((\\Theta^{(l)})^T \\delta^{(l+1)})\\ .*\\ g'(z^{(l)})$<br><br>\n",
    "The delta values of layer l are calculated by multiplying the delta values in the next layer with the theta matrix of layer l. We then element-wise multiply that with a function called g', or g-prime, which is the derivative of the activation function g evaluated with the input values given by z(l).<br><br>\n",
    "The g-prime derivative terms can also be written out as: <br>\n",
    "$g'(z^{(l)}) = a^{(l)}\\ .*\\ (1 - a^{(l)})$<br>\n",
    "\n",
    "<!-- $g(z) = \\frac{1}{1 + e^{-z}}$<br>-->\n",
    "The full backpropagation equation for the inner nodes then is:<br><br>\n",
    "$\\delta^{(l)} = ((\\Theta^{(l)})^T \\delta^{(l+1)})\\ .*\\ a^{(l)}\\ .*\\ (1 - a^{(l)})$\n",
    "<!--\n",
    "<p><strong>Backpropagation Algorithm</strong>\n",
    "<ul>\n",
    "<li> Given training set $\\lbrace (x^{(1)}, y^{(1)}) \\cdots (x^{(m)}, y^{(m)})\\rbrace$</li>\n",
    "<li> Set $\\Delta^{(l)}_{i,j}$ := 0 for all (i,l,j)\n",
    "<li>For training example t - 1 to m:</li>\n",
    "<ul>\n",
    "<li>Set $a^{(1)}\\;:=\\;x^{(i)}$</li>\n",
    "<li>Perform forward progagation to compute $a^l$ for l = 2,3,... L</li>\n",
    "<li>Using $y^t$ compute $\\delta^{(L)} = a^{(L)} - y^{(t)}$</li>\n",
    "<li>Compute $\\delta^{(L-1)}, \\delta^{(L-2)},\\dots,\\delta^{(2)}$ using $\\delta^{(l)} = ((\\Theta^{(l)})^T \\delta^{(l+1)})\\ .*\\ a^{(l)}\\ .*\\ (1 - a^{(l)})$</li>\n",
    "<li>$\\Delta^{(l)}_{i,j} := \\Delta^{(l)}_{i,j} + a_j^{(l)} \\delta_i^{(l+1)}$$\\Delta^{(l)} := \\Delta^{(l)} + \\delta^{(l+1)}(a^{(l)})^T$</li>\n",
    "</ul>\n",
    "<li>$D^{(l)}_{i,j} := \\dfrac{1}{m}\\left(\\Delta^{(l)}_{i,j} + \\lambda\\Theta^{(l)}_{i,j}\\right)$ if j$\\neq$ 0</li>\n",
    "<li>$D^{(l)}_{i,j} := \\dfrac{1}{m}\\Delta^{(l)}_{i,j}$ if j = 0</li>\n",
    "</ul>\n",
    "-->\n",
    "</font>\n",
    "<h3><font color='blue'>=========================================</font></h3>"
   ]
  },
  {
   "cell_type": "code",
   "execution_count": 1,
   "metadata": {
    "slideshow": {
     "slide_type": "slide"
    }
   },
   "outputs": [
    {
     "name": "stdout",
     "output_type": "stream",
     "text": [
      "Populating the interactive namespace from numpy and matplotlib\n"
     ]
    }
   ],
   "source": [
    "# Imports\n",
    "%pylab inline\n",
    "from sklearn.datasets import fetch_mldata\n",
    "from sklearn.model_selection import train_test_split\n",
    "from sklearn.preprocessing import scale\n"
   ]
  },
  {
   "cell_type": "code",
   "execution_count": 2,
   "metadata": {
    "slideshow": {
     "slide_type": "slide"
    }
   },
   "outputs": [
    {
     "data": {
      "image/png": "[encoded data removed]",
      "text/plain": [
       "<matplotlib.figure.Figure at 0x207785ab9e8>"
      ]
     },
     "metadata": {},
     "output_type": "display_data"
    }
   ],
   "source": [
    "# Fetch and draw the digits\n",
    "digits_data = fetch_mldata( 'MNIST original',data_home='data')\n",
    "digits = fetch_mldata( 'MNIST original',data_home='data').data\n",
    "targets = fetch_mldata( 'MNIST original',data_home='data').target\n",
    "\n",
    "counter = 1\n",
    "for i in range(0,10):\n",
    "    digits2plot = digits[np.where(targets==i)][:5]\n",
    "    for j in range(0,5):\n",
    "        plt.subplot(10, 5, counter)\n",
    "        plt.imshow(digits2plot[j].reshape(28,28),\n",
    "                  cmap = cm.Greys_r, interpolation = 'nearest')\n",
    "        plt.axis('off')\n",
    "        counter += 1\n"
   ]
  },
  {
   "cell_type": "code",
   "execution_count": 3,
   "metadata": {
    "slideshow": {
     "slide_type": "slide"
    }
   },
   "outputs": [
    {
     "name": "stdout",
     "output_type": "stream",
     "text": [
      "(2000, 784) (2000,)\n",
      "(1500, 784) (500, 784) (1500,) (500,)\n"
     ]
    },
    {
     "name": "stderr",
     "output_type": "stream",
     "text": [
      "C:\\ProgramData\\Anaconda3\\lib\\site-packages\\sklearn\\utils\\validation.py:444: DataConversionWarning: Data with input dtype uint8 was converted to float64 by the scale function.\n",
      "  warnings.warn(msg, DataConversionWarning)\n"
     ]
    }
   ],
   "source": [
    "# We will work on a subset of the data\n",
    "data = fetch_mldata( 'MNIST original',data_home='data')\n",
    "np.random.seed(100)\n",
    "sampleToTake = np.random.choice(70000, 2000, replace=False)\n",
    "# data = data[random.sample(range(72000),2000)]\n",
    "X, y = data.data[sampleToTake], data.target[sampleToTake]\n",
    "print(X.shape, y.shape)\n",
    "# X = X/255.0*2 - 1\n",
    "X = scale(X)\n",
    "X_train, X_test, y_train, y_test = train_test_split(X, y)\n",
    "print(X_train.shape,X_test.shape,y_train.shape,y_test.shape)"
   ]
  },
  {
   "cell_type": "code",
   "execution_count": 4,
   "metadata": {},
   "outputs": [
    {
     "name": "stdout",
     "output_type": "stream",
     "text": [
      "(70000, 784)\n",
      "(1500, 784)\n"
     ]
    }
   ],
   "source": [
    "print(data.data.shape)\n",
    "print(X_train.shape)"
   ]
  },
  {
   "cell_type": "code",
   "execution_count": 5,
   "metadata": {},
   "outputs": [
    {
     "name": "stderr",
     "output_type": "stream",
     "text": [
      "C:\\ProgramData\\Anaconda3\\lib\\site-packages\\sklearn\\linear_model\\stochastic_gradient.py:73: DeprecationWarning: n_iter parameter is deprecated in 0.19 and will be removed in 0.21. Use max_iter and tol instead.\n",
      "  DeprecationWarning)\n"
     ]
    }
   ],
   "source": [
    "from sklearn.linear_model import Perceptron\n",
    "from sklearn.neural_network import MLPClassifier\n",
    "clf_perceptron = Perceptron(n_iter = 1000,  random_state = 100)\n",
    "clf_MLPPerceptron = MLPClassifier(activation='logistic',\n",
    "                                  hidden_layer_sizes=(200, 100, 50),verbose = True, random_state = 100)"
   ]
  },
  {
   "cell_type": "code",
   "execution_count": 6,
   "metadata": {},
   "outputs": [
    {
     "name": "stdout",
     "output_type": "stream",
     "text": [
      "Iteration 1, loss = 2.31590651\n",
      "Iteration 2, loss = 2.26797738\n",
      "Iteration 3, loss = 2.23387510\n",
      "Iteration 4, loss = 2.17978675\n",
      "Iteration 5, loss = 2.10559349\n",
      "Iteration 6, loss = 2.01213248\n",
      "Iteration 7, loss = 1.90454753\n",
      "Iteration 8, loss = 1.79327472\n",
      "Iteration 9, loss = 1.68276346\n",
      "Iteration 10, loss = 1.57488202\n",
      "Iteration 11, loss = 1.47253994\n",
      "Iteration 12, loss = 1.37487924\n",
      "Iteration 13, loss = 1.28329866\n",
      "Iteration 14, loss = 1.19790261\n",
      "Iteration 15, loss = 1.11832840\n",
      "Iteration 16, loss = 1.04507979\n",
      "Iteration 17, loss = 0.97652096\n",
      "Iteration 18, loss = 0.91325251\n",
      "Iteration 19, loss = 0.85414194\n",
      "Iteration 20, loss = 0.79898608\n",
      "Iteration 21, loss = 0.74825318\n",
      "Iteration 22, loss = 0.69868413\n",
      "Iteration 23, loss = 0.65407125\n",
      "Iteration 24, loss = 0.61214882\n",
      "Iteration 25, loss = 0.57299966\n",
      "Iteration 26, loss = 0.53524252\n",
      "Iteration 27, loss = 0.49832132\n",
      "Iteration 28, loss = 0.46619521\n",
      "Iteration 29, loss = 0.43410591\n",
      "Iteration 30, loss = 0.40524431\n",
      "Iteration 31, loss = 0.37774848\n",
      "Iteration 32, loss = 0.35237668\n",
      "Iteration 33, loss = 0.32809414\n",
      "Iteration 34, loss = 0.30656099\n",
      "Iteration 35, loss = 0.28563809\n",
      "Iteration 36, loss = 0.26661103\n",
      "Iteration 37, loss = 0.24894988\n",
      "Iteration 38, loss = 0.23267527\n",
      "Iteration 39, loss = 0.21745446\n",
      "Iteration 40, loss = 0.20363821\n",
      "Iteration 41, loss = 0.19123297\n",
      "Iteration 42, loss = 0.17942455\n",
      "Iteration 43, loss = 0.16865520\n",
      "Iteration 44, loss = 0.15884963\n",
      "Iteration 45, loss = 0.14973961\n",
      "Iteration 46, loss = 0.14115926\n",
      "Iteration 47, loss = 0.13330007\n",
      "Iteration 48, loss = 0.12608031\n",
      "Iteration 49, loss = 0.11946376\n",
      "Iteration 50, loss = 0.11327656\n",
      "Iteration 51, loss = 0.10770908\n",
      "Iteration 52, loss = 0.10233719\n",
      "Iteration 53, loss = 0.09731624\n",
      "Iteration 54, loss = 0.09265967\n",
      "Iteration 55, loss = 0.08816776\n",
      "Iteration 56, loss = 0.08399669\n",
      "Iteration 57, loss = 0.08014601\n",
      "Iteration 58, loss = 0.07638011\n",
      "Iteration 59, loss = 0.07302220\n",
      "Iteration 60, loss = 0.06982858\n",
      "Iteration 61, loss = 0.06690962\n",
      "Iteration 62, loss = 0.06417128\n",
      "Iteration 63, loss = 0.06152317\n",
      "Iteration 64, loss = 0.05903039\n",
      "Iteration 65, loss = 0.05672651\n",
      "Iteration 66, loss = 0.05462206\n",
      "Iteration 67, loss = 0.05258464\n",
      "Iteration 68, loss = 0.05078579\n",
      "Iteration 69, loss = 0.04898771\n",
      "Iteration 70, loss = 0.04733951\n",
      "Iteration 71, loss = 0.04581002\n",
      "Iteration 72, loss = 0.04433132\n",
      "Iteration 73, loss = 0.04294985\n",
      "Iteration 74, loss = 0.04163552\n",
      "Iteration 75, loss = 0.04038516\n",
      "Iteration 76, loss = 0.03922182\n",
      "Iteration 77, loss = 0.03807103\n",
      "Iteration 78, loss = 0.03699341\n",
      "Iteration 79, loss = 0.03595857\n",
      "Iteration 80, loss = 0.03498329\n",
      "Iteration 81, loss = 0.03404970\n",
      "Iteration 82, loss = 0.03313496\n",
      "Iteration 83, loss = 0.03229449\n",
      "Iteration 84, loss = 0.03146373\n",
      "Iteration 85, loss = 0.03065153\n",
      "Iteration 86, loss = 0.02988879\n",
      "Iteration 87, loss = 0.02913793\n",
      "Iteration 88, loss = 0.02845182\n",
      "Iteration 89, loss = 0.02778627\n",
      "Iteration 90, loss = 0.02713237\n",
      "Iteration 91, loss = 0.02646606\n",
      "Iteration 92, loss = 0.02585770\n",
      "Iteration 93, loss = 0.02531948\n",
      "Iteration 94, loss = 0.02469761\n",
      "Iteration 95, loss = 0.02417375\n",
      "Iteration 96, loss = 0.02358279\n",
      "Iteration 97, loss = 0.02302426\n",
      "Iteration 98, loss = 0.02248470\n",
      "Iteration 99, loss = 0.02198620\n",
      "Iteration 100, loss = 0.02141853\n",
      "Iteration 101, loss = 0.02090549\n",
      "Iteration 102, loss = 0.02036618\n",
      "Iteration 103, loss = 0.01999838\n",
      "Iteration 104, loss = 0.01948480\n",
      "Iteration 105, loss = 0.01905651\n",
      "Iteration 106, loss = 0.01864320\n",
      "Iteration 107, loss = 0.01826367\n",
      "Iteration 108, loss = 0.01786670\n",
      "Iteration 109, loss = 0.01752607\n",
      "Iteration 110, loss = 0.01718293\n",
      "Iteration 111, loss = 0.01684065\n",
      "Iteration 112, loss = 0.01651792\n",
      "Iteration 113, loss = 0.01620528\n",
      "Iteration 114, loss = 0.01590575\n",
      "Iteration 115, loss = 0.01561149\n",
      "Iteration 116, loss = 0.01532447\n",
      "Iteration 117, loss = 0.01504497\n",
      "Iteration 118, loss = 0.01477653\n",
      "Iteration 119, loss = 0.01452747\n",
      "Iteration 120, loss = 0.01426451\n",
      "Iteration 121, loss = 0.01401466\n",
      "Iteration 122, loss = 0.01377847\n",
      "Iteration 123, loss = 0.01354397\n",
      "Iteration 124, loss = 0.01331852\n",
      "Iteration 125, loss = 0.01310521\n",
      "Iteration 126, loss = 0.01287355\n",
      "Iteration 127, loss = 0.01266097\n",
      "Iteration 128, loss = 0.01246655\n",
      "Iteration 129, loss = 0.01226952\n",
      "Iteration 130, loss = 0.01207074\n",
      "Iteration 131, loss = 0.01188336\n",
      "Iteration 132, loss = 0.01170280\n",
      "Iteration 133, loss = 0.01151795\n",
      "Iteration 134, loss = 0.01134677\n",
      "Iteration 135, loss = 0.01117976\n",
      "Iteration 136, loss = 0.01101643\n",
      "Iteration 137, loss = 0.01085601\n",
      "Iteration 138, loss = 0.01070080\n",
      "Iteration 139, loss = 0.01055003\n",
      "Iteration 140, loss = 0.01040209\n",
      "Iteration 141, loss = 0.01025754\n",
      "Iteration 142, loss = 0.01011512\n",
      "Iteration 143, loss = 0.00997428\n",
      "Iteration 144, loss = 0.00984426\n",
      "Iteration 145, loss = 0.00970790\n",
      "Iteration 146, loss = 0.00958055\n",
      "Iteration 147, loss = 0.00945370\n",
      "Iteration 148, loss = 0.00933122\n",
      "Iteration 149, loss = 0.00921160\n",
      "Iteration 150, loss = 0.00909228\n",
      "Iteration 151, loss = 0.00897860\n",
      "Iteration 152, loss = 0.00886594\n",
      "Iteration 153, loss = 0.00875508\n",
      "Iteration 154, loss = 0.00864648\n",
      "Iteration 155, loss = 0.00854193\n",
      "Iteration 156, loss = 0.00843743\n",
      "Iteration 157, loss = 0.00833604\n",
      "Iteration 158, loss = 0.00823713\n",
      "Iteration 159, loss = 0.00813859\n",
      "Iteration 160, loss = 0.00804380\n",
      "Training loss did not improve more than tol=0.000100 for two consecutive epochs. Stopping.\n"
     ]
    }
   ],
   "source": [
    "nnmodel = clf_perceptron.fit(X_train,y_train)\n",
    "mlpmodel = clf_MLPPerceptron.fit(X_train,y_train)"
   ]
  },
  {
   "cell_type": "code",
   "execution_count": 18,
   "metadata": {
    "collapsed": true
   },
   "outputs": [],
   "source": [
    "nnpredictions = nnmodel.predict(X_test)\n",
    "mlppredictions = mlpmodel.predict(X_test)"
   ]
  },
  {
   "cell_type": "code",
   "execution_count": 19,
   "metadata": {},
   "outputs": [
    {
     "name": "stdout",
     "output_type": "stream",
     "text": [
      "             precision    recall  f1-score   support\n",
      "\n",
      "        0.0       0.94      0.97      0.95        61\n",
      "        1.0       0.88      0.95      0.91        61\n",
      "        2.0       0.85      0.83      0.84        42\n",
      "        3.0       0.67      0.69      0.68        32\n",
      "        4.0       0.91      0.84      0.88        63\n",
      "        5.0       0.75      0.71      0.73        42\n",
      "        6.0       0.94      0.94      0.94        53\n",
      "        7.0       0.80      0.80      0.80        45\n",
      "        8.0       0.79      0.68      0.73        50\n",
      "        9.0       0.71      0.80      0.75        51\n",
      "\n",
      "avg / total       0.84      0.84      0.84       500\n",
      "\n",
      "perceptron accuracy score  0.836\n",
      "[[59  0  0  0  0  0  1  0  0  1]\n",
      " [ 0 58  1  0  0  0  0  0  0  2]\n",
      " [ 0  0 35  2  0  0  0  4  0  1]\n",
      " [ 1  1  1 22  1  3  0  0  3  0]\n",
      " [ 0  0  0  2 53  0  0  1  3  4]\n",
      " [ 0  2  0  4  1 30  1  0  2  2]\n",
      " [ 0  1  1  0  0  0 50  0  1  0]\n",
      " [ 1  0  2  0  0  2  0 36  0  4]\n",
      " [ 1  4  1  1  0  4  0  2 34  3]\n",
      " [ 1  0  0  2  3  1  1  2  0 41]]\n"
     ]
    }
   ],
   "source": [
    "from sklearn.metrics import classification_report, accuracy_score, confusion_matrix\n",
    "print( classification_report(y_test,nnpredictions))\n",
    "print('perceptron accuracy score ', accuracy_score(nnpredictions,y_test))\n",
    "print(confusion_matrix(y_test,nnpredictions))"
   ]
  },
  {
   "cell_type": "code",
   "execution_count": 20,
   "metadata": {},
   "outputs": [
    {
     "name": "stdout",
     "output_type": "stream",
     "text": [
      "             precision    recall  f1-score   support\n",
      "\n",
      "        0.0       0.95      0.97      0.96        61\n",
      "        1.0       0.95      0.98      0.97        61\n",
      "        2.0       0.86      0.86      0.86        42\n",
      "        3.0       0.70      0.72      0.71        32\n",
      "        4.0       0.87      0.83      0.85        63\n",
      "        5.0       0.84      0.88      0.86        42\n",
      "        6.0       0.94      0.94      0.94        53\n",
      "        7.0       0.82      0.80      0.81        45\n",
      "        8.0       0.91      0.80      0.85        50\n",
      "        9.0       0.76      0.82      0.79        51\n",
      "\n",
      "avg / total       0.87      0.87      0.87       500\n",
      "\n",
      "mlp accuracy score  0.87\n",
      "\n",
      " [[59  0  0  1  0  0  1  0  0  0]\n",
      " [ 0 60  0  0  0  0  0  1  0  0]\n",
      " [ 0  0 36  2  1  0  1  2  0  0]\n",
      " [ 1  0  2 23  0  1  0  2  3  0]\n",
      " [ 1  0  0  0 52  0  0  1  0  9]\n",
      " [ 0  1  2  1  0 37  0  0  1  0]\n",
      " [ 1  0  1  0  1  0 50  0  0  0]\n",
      " [ 0  1  1  1  2  1  0 36  0  3]\n",
      " [ 0  1  0  2  0  5  1  0 40  1]\n",
      " [ 0  0  0  3  4  0  0  2  0 42]]\n"
     ]
    }
   ],
   "source": [
    "from sklearn.metrics import classification_report, accuracy_score, confusion_matrix\n",
    "print( classification_report(y_test,mlppredictions) )\n",
    "print('mlp accuracy score ' , accuracy_score(y_test,mlppredictions))\n",
    "print('\\n',confusion_matrix(y_test,mlppredictions))"
   ]
  },
  {
   "cell_type": "code",
   "execution_count": 21,
   "metadata": {
    "collapsed": true
   },
   "outputs": [],
   "source": [
    "from sklearn.preprocessing import label_binarize\n",
    "ytest_lb = label_binarize(y_test,classes=[0, 1, 2, 3, 4, 5, 6, 7, 8, 9]) \n",
    "pred_probs = mlpmodel.predict_proba(X_test)"
   ]
  },
  {
   "cell_type": "code",
   "execution_count": 22,
   "metadata": {},
   "outputs": [
    {
     "data": {
      "text/plain": [
       "(500, 10)"
      ]
     },
     "execution_count": 22,
     "metadata": {},
     "output_type": "execute_result"
    }
   ],
   "source": [
    "pred_probs.shape"
   ]
  },
  {
   "cell_type": "code",
   "execution_count": 23,
   "metadata": {},
   "outputs": [
    {
     "data": {
      "text/plain": [
       "array([[0, 0, 0, 0, 0, 0, 0, 1, 0, 0],\n",
       "       [0, 1, 0, 0, 0, 0, 0, 0, 0, 0],\n",
       "       [0, 1, 0, 0, 0, 0, 0, 0, 0, 0],\n",
       "       [0, 0, 0, 0, 1, 0, 0, 0, 0, 0],\n",
       "       [0, 0, 0, 1, 0, 0, 0, 0, 0, 0]])"
      ]
     },
     "execution_count": 23,
     "metadata": {},
     "output_type": "execute_result"
    }
   ],
   "source": [
    "ytest_lb[:5]"
   ]
  },
  {
   "cell_type": "code",
   "execution_count": 24,
   "metadata": {},
   "outputs": [
    {
     "name": "stdout",
     "output_type": "stream",
     "text": [
      "[  1.09828141e-04   6.37830919e-04   2.18589256e-06   3.80726782e-05\n",
      "   4.57073924e-03   1.45740383e-04   2.29682296e-04   3.89162731e-03\n",
      "   2.39684899e-04   9.90134608e-01] \n",
      "Max Prbability  0.990134608244 \n",
      "Predicted Class  9\n",
      "9.0\n"
     ]
    }
   ],
   "source": [
    "x = 453\n",
    "print(pred_probs[x],'\\nMax Prbability ',np.max(pred_probs[x]), '\\nPredicted Class ',np.argmax(\n",
    "pred_probs[x]))\n",
    "print(mlppredictions[x])"
   ]
  },
  {
   "cell_type": "code",
   "execution_count": 25,
   "metadata": {},
   "outputs": [
    {
     "data": {
      "text/plain": [
       "Text(0,0.5,'True Positive Rate')"
      ]
     },
     "execution_count": 25,
     "metadata": {},
     "output_type": "execute_result"
    },
    {
     "data": {
      "image/png": "[encoded data removed]",
      "text/plain": [
       "<matplotlib.figure.Figure at 0x207020356a0>"
      ]
     },
     "metadata": {},
     "output_type": "display_data"
    }
   ],
   "source": [
    "from sklearn.metrics import roc_curve, auc\n",
    "# some rough work to draw the multi class rocs\n",
    "d2t = 4\n",
    "# roc_curve?\n",
    "f, t, tr = roc_curve(ytest_lb[:,d2t], pred_probs[:,d2t])\n",
    "# y_test\n",
    "plt.plot(f ,t)\n",
    "plt.xlim([0.0, 1.0])\n",
    "plt.ylim([0.0, 1.05])\n",
    "plt.xlabel('False Positive Rate')\n",
    "plt.ylabel('True Positive Rate')"
   ]
  },
  {
   "cell_type": "code",
   "execution_count": 30,
   "metadata": {},
   "outputs": [],
   "source": [
    "from sklearn.metrics import roc_curve, auc\n",
    "fpr = dict()\n",
    "tpr = dict()\n",
    "tholds = dict()\n",
    "roc_auc = dict()\n",
    "for i in arange(10):\n",
    "    fpr[i], tpr[i], tholds[i] = roc_curve( ytest_lb[:,i], pred_probs[:,i])\n",
    "    roc_auc[i] = auc(fpr[i], tpr[i])"
   ]
  },
  {
   "cell_type": "code",
   "execution_count": 31,
   "metadata": {},
   "outputs": [
    {
     "data": {
      "image/png": "[encoded data removed]",
      "text/plain": [
       "<matplotlib.figure.Figure at 0x2070762d978>"
      ]
     },
     "metadata": {},
     "output_type": "display_data"
    }
   ],
   "source": [
    "clrs = ['aqua','orange','darkblue','darkgreen','goldenrod','blueviolet','crimson','khaki','hotpink','indigo']\n",
    "\n",
    "\n",
    "fig = figure()\n",
    "for i, clr in zip( range(10), clrs):\n",
    "    plt.plot(fpr[i],tpr[i],color=clr,lw=2,\n",
    "             label='ROC curve of class {0} (area = {1:.2f})'.format(i,roc_auc[i]))\n",
    "plt.plot([0, 1], [0, 1], 'k--', lw=2)\n",
    "plt.xlim([0.0, 1.0])\n",
    "plt.ylim([0.0, 1.05])\n",
    "plt.xlabel('False Positive Rate')\n",
    "plt.ylabel('True Positive Rate')\n",
    "plt.title('Some extension of Receiver operating characteristic to multi-class')\n",
    "plt.legend(loc=\"lower right\")\n",
    "fig.set_size_inches(12, 12)"
   ]
  },
  {
   "cell_type": "code",
   "execution_count": 32,
   "metadata": {},
   "outputs": [
    {
     "name": "stdout",
     "output_type": "stream",
     "text": [
      "tpr    fpr   tholds\n",
      "0.03  0.000  0.995\n",
      "0.53  0.000  0.991\n",
      "0.53  0.002  0.991\n",
      "0.59  0.002  0.989\n",
      "0.59  0.004  0.986\n",
      "0.62  0.004  0.986\n",
      "0.62  0.009  0.979\n",
      "0.66  0.009  0.976\n",
      "0.66  0.015  0.963\n",
      "0.69  0.015  0.771\n",
      "0.69  0.021  0.590\n",
      "0.72  0.021  0.487\n",
      "0.72  0.030  0.309\n",
      "0.75  0.030  0.290\n",
      "0.75  0.032  0.244\n",
      "0.78  0.032  0.240\n",
      "0.78  0.049  0.142\n",
      "0.81  0.049  0.119\n",
      "0.81  0.071  0.048\n",
      "0.84  0.071  0.047\n",
      "0.84  0.077  0.026\n",
      "0.88  0.077  0.026\n",
      "0.88  0.113  0.009\n",
      "0.91  0.113  0.007\n",
      "0.91  0.118  0.007\n",
      "0.94  0.118  0.007\n",
      "0.94  0.130  0.005\n",
      "0.97  0.130  0.004\n",
      "0.97  0.370  0.001\n",
      "1.00  0.370  0.001\n",
      "1.00  1.000  0.000\n"
     ]
    }
   ],
   "source": [
    "np.set_printoptions(precision=3)\n",
    "print('tpr    fpr   tholds')\n",
    "print('\\n'.join(['{0:1.2f}  {1:1.3f}  {2:1.3f}'.format(x[0], x[1], x[2]) \n",
    "                 for x in zip(tpr[3], fpr[3], tholds[3])]))"
   ]
  },
  {
   "cell_type": "markdown",
   "metadata": {},
   "source": [
    "# Deep learning - convolutional neural networks - ConvNets"
   ]
  },
  {
   "cell_type": "markdown",
   "metadata": {},
   "source": [
    "### There are three key intuitions behind ConvNets:\n",
    "#### * Local receptive fields\n",
    "#### * Shared Weights\n",
    "#### * Pooling\n",
    "### A convolutinal layer, referred to also as a filter, is a particular kind of neural network that manipulates the image to highlight certain features\n",
    "### We represent an image as a matrix of pixels \n",
    "### We can encode information from a submatrix of pixels into one single hidden neuron belonging to the next layer\n",
    "### That single neuron represents one local receptive field\n",
    "### This operation is called convolution and gives the name to this type of network\n",
    "### We can encode more information by adding on more submatrices \n",
    "### Example - lets suppose that the size of each submatrix is 3 x 3 - then we can slide it over the Minst data matrix of 28 x 28 fields to generate 26 x 26 local receptive fields\n",
    "### In keras, the size of each single submatrix is called the stride length\n",
    "### We may take a 2 stride instead of 1 and we may apply the filter partially beyond the matrix - these will be the paddings and will take on a default value of 0\n",
    "### The sliding from one layer to the other gives us featuremaps. We start with 28 x 28 input neurons for processing MNIST and we get a featuremap of size 26 x 26. We could have k feature maps\n",
    "### For a filter, as we slide it across the image, we maintain the same weights. Thus when we apply two feature maps from an input of 28 x 28 x 1 we get an output of 26 x 26 x 2 and overall parameters used will be 3 x 3 x 2 - 18, way less than the 784 x lets say 50 - 39000 roughly, employed in feed forward networks\n",
    "### In Keras, if we want to add a convolutional layer with dimensionality of the output 32 and extension of each filter 3 x 3, we will write:\n",
    "### model = Sequential()\n",
    "model.add(Conv2D(32, (3, 3), input_shape=(256, 256, 3))\n",
    "### This means that we are applying a 3 x 3 convolution on a 256 x 256 image with three input channels (or input filters), resulting in 32 output channels (or output filters)."
   ]
  },
  {
   "cell_type": "markdown",
   "metadata": {},
   "source": [
    "<img src='neural_net_vs_convnet.jpg'/>"
   ]
  },
  {
   "cell_type": "code",
   "execution_count": 33,
   "metadata": {
    "collapsed": true
   },
   "outputs": [],
   "source": [
    "X_train = X_train.astype('float32')     \n",
    "X_test = X_test.astype('float32')     "
   ]
  },
  {
   "cell_type": "code",
   "execution_count": 34,
   "metadata": {
    "collapsed": true
   },
   "outputs": [],
   "source": [
    "# we are going to pick a part of the image and apply the filter step by step to that area\n",
    "def convolution(image,im_filter):\n",
    "    im = X_train[image].reshape(28,28)\n",
    "    print(im.shape)\n",
    "    width = im.shape[0]       \n",
    "    height = im.shape[1]\n",
    "    imC = numpy.zeros((width-2, height-2))\n",
    "    for row in range(1, width-1):\n",
    "        for col in range(1, height-1):\n",
    "            for i in range(len(im_filter[0])):\n",
    "                for j in range(len(im_filter)):\n",
    "                    # What we are doing here is applying the filter to each of the 28 rows and columns of the\n",
    "                    # modified image we will produce by applying it on 3 by 3 windows\n",
    "                    # we go like row 1, col 1, i - 3, j -3 , row -1 - 0, col - 1 0\n",
    "                    imC[row-1][col-1] += im[row-1+i][col-1+j]*im_filter[i][j]\n",
    "                    # so the first one \n",
    "                    # imC[0][0] += im[0][0] * im_filter[0][0]\n",
    "                    # imC[0][0] += im[0][1] * im_filter[0][1]\n",
    "                    # imC[0][0] += im[0][2] * im_filter[0][2]\n",
    "                    \n",
    "                    # imC[0][0] += im[1][0] * im_filter[1][0]\n",
    "                    # imC[0][0] += im[1][1] * im_filter[1][1]\n",
    "                    # imC[0][0] += im[1][2] * im_filter[1][2]\n",
    "                    \n",
    "                    # imC[0][0] += im[2][0] * im_filter[2][0]\n",
    "                    # imC[0][0] += im[2][1] * im_filter[2][1]\n",
    "                    # imC[0][0] += im[2][2] * im_filter[2][2]\n",
    "                    if imC[row-1][col-1] > 255:\n",
    "                        imC[row-1][col-1] = 255\n",
    "                    elif imC[row-1][col-1] < 0:\n",
    "                        imC[row-1][col-1] = 0 \n",
    "    plt.imshow(im, cmap=cm.Greys_r)\n",
    "    plt.show()\n",
    "    plt.imshow(imC/255, cmap=cm.Greys_r)"
   ]
  },
  {
   "cell_type": "code",
   "execution_count": 35,
   "metadata": {},
   "outputs": [
    {
     "name": "stdout",
     "output_type": "stream",
     "text": [
      "(28, 28)\n"
     ]
    },
    {
     "data": {
      "image/png": "[encoded data removed]",
      "text/plain": [
       "<matplotlib.figure.Figure at 0x207076b0780>"
      ]
     },
     "metadata": {},
     "output_type": "display_data"
    },
    {
     "data": {
      "image/png": "[encoded data removed]",
      "text/plain": [
       "<matplotlib.figure.Figure at 0x207077275c0>"
      ]
     },
     "metadata": {},
     "output_type": "display_data"
    }
   ],
   "source": [
    "# we create a blur effect by multiplying each element of the fitler with an entry of the original image\n",
    "# and sum it up. To get an average we are using 1/9\n",
    "blur = [[1./9, 1./9, 1./9], [1./9, 1./9, 1./9], [1./9, 1./9, 1./9]]\n",
    "\n",
    "convolution(3,blur)"
   ]
  },
  {
   "cell_type": "code",
   "execution_count": 36,
   "metadata": {},
   "outputs": [
    {
     "name": "stdout",
     "output_type": "stream",
     "text": [
      "(28, 28)\n"
     ]
    },
    {
     "data": {
      "image/png": "[encoded data removed]",
      "text/plain": [
       "<matplotlib.figure.Figure at 0x2070761ce48>"
      ]
     },
     "metadata": {},
     "output_type": "display_data"
    },
    {
     "data": {
      "image/png": "[encoded data removed]",
      "text/plain": [
       "<matplotlib.figure.Figure at 0x2070762d7f0>"
      ]
     },
     "metadata": {},
     "output_type": "display_data"
    }
   ],
   "source": [
    "# An edges filter which adds the neighboring values and subtracts the center value\n",
    "edges = [[1, 1, 1], [1, -3, 1], [1, 1, 1]]\n",
    "convolution(1200,edges)"
   ]
  },
  {
   "cell_type": "markdown",
   "metadata": {},
   "source": [
    "### After a convolutional operation, another operation is often performed—pooling. \n",
    "### The most classical example is called max-pooling, and this means creating (2 x 2) grids on each slice, and picking the neuron with the maximum activation value in each grid, discarding the rest. \n",
    "### Such an operation discards 75% of the neurons, keeping only the neurons that contribute the most in each cell\n",
    "### There are two parameters for each pooling layer, similar to the stride and padding parameters found in convolutional layers, and they are the size of the cell and the stride. \n",
    "### One typical choice is to choose a cell size of 2 and a stride of 2, though it is not uncommon to pick a cell size of 3 and a stride of 2, creating some overlap \n",
    "### If the cell size is too large, the pooling layer may be discarding too much information and is not helpful\n",
    "### Different pooling operations can be used. \n",
    "### Taking the max is one of the most common operations, but it is not uncommon to take the average of all the values, or even an L 2 measure, which is the square root of the sum of all the squares.\n",
    "### In practice, max-pooling often performs better, since it retains the most relevant structures in the image\n",
    "### Pooling layers are generally used in the middle of a sequence of a few convolutional layers, generally after every other convolutional operation\n",
    "### In each dimension (either width or height), let the size of the input slice be called $I=(I_w , I_h )$, the size of the filter $F=(F_w ,F_h )$, the size of the stride $S=(S_w ,S_h )$, and the size of the padding $P=(P_w ,P_h )$, then the size $O=(O_w ,O_h )$ for the output slice is given by:\n",
    "\n",
    "$O_w = \\frac {I_w + 2 P_w - F_w }{S_w}$<br>\n",
    "$O_h = \\frac {I_h + 2 P_h - F_h }{S_h}$<br>\n",
    "\n",
    "### The number of parameters W used, instead, is independent of the stride and padding, and it is just a function of the (square) size of the filter, the depth D (number of slices) of the input, and the number of feature maps M chosen:\n",
    "$W = (D * F_wF_h + 1 ) * M $"
   ]
  },
  {
   "cell_type": "markdown",
   "metadata": {},
   "source": [
    "### We can think of filters ro be small neural networks. A set of weights that will yield a final value that represents the activation of a neuron in the next layer\n",
    "### While we have plugged in  weights ourselves for demoing, they will be learn automatically by the neural network through back propagation"
   ]
  },
  {
   "cell_type": "code",
   "execution_count": 37,
   "metadata": {},
   "outputs": [
    {
     "name": "stderr",
     "output_type": "stream",
     "text": [
      "Using TensorFlow backend.\n"
     ]
    }
   ],
   "source": [
    "import numpy as np      \n",
    "np.random.seed(0)  #for reproducibility\n",
    "from keras.datasets import mnist \n",
    "from keras.models import Sequential  \n",
    "from keras.layers import Dense, Activation, Convolution2D, MaxPooling2D, Flatten, Dropout  \n",
    "from keras.utils import np_utils\n",
    "from sklearn.model_selection import train_test_split\n",
    "\n",
    "input_size = 784\n",
    "batch_size = 100     \n",
    "hidden_neurons = 200     \n",
    "classes = 10     \n",
    "epochs = 20       \n",
    "        \n",
    "X_train = X_train.reshape(X_train.shape[0], 28, 28, 1)     \n",
    "X_test = X_test.reshape(X_test.shape[0], 28, 28, 1)          \n",
    "X_train = X_train.astype('float32')     \n",
    "X_test = X_test.astype('float32')     \n",
    "# X_train /= 255     \n",
    "# X_test /= 255               \n",
    "Y_train_ohe = np_utils.to_categorical(y_train, classes)     \n",
    "Y_test_ohe = np_utils.to_categorical(y_test, classes)              \n",
    "\n"
   ]
  },
  {
   "cell_type": "code",
   "execution_count": 38,
   "metadata": {},
   "outputs": [
    {
     "name": "stdout",
     "output_type": "stream",
     "text": [
      "(1500, 28, 28, 1) (500, 28, 28, 1) (1500,) (500,) (1500, 10) (500, 10)\n"
     ]
    }
   ],
   "source": [
    "print(X_train.shape,X_test.shape,y_train.shape,y_test.shape,Y_train_ohe.shape,Y_test_ohe.shape)"
   ]
  },
  {
   "cell_type": "code",
   "execution_count": 39,
   "metadata": {
    "collapsed": true
   },
   "outputs": [],
   "source": [
    "Convolution2D?"
   ]
  },
  {
   "cell_type": "code",
   "execution_count": 57,
   "metadata": {},
   "outputs": [
    {
     "name": "stdout",
     "output_type": "stream",
     "text": [
      "_________________________________________________________________\n",
      "Layer (type)                 Output Shape              Param #   \n",
      "=================================================================\n",
      "conv2d_21 (Conv2D)           (None, 26, 26, 32)        320       \n",
      "_________________________________________________________________\n",
      "activation_39 (Activation)   (None, 26, 26, 32)        0         \n",
      "_________________________________________________________________\n",
      "conv2d_22 (Conv2D)           (None, 24, 24, 32)        9248      \n",
      "_________________________________________________________________\n",
      "activation_40 (Activation)   (None, 24, 24, 32)        0         \n",
      "_________________________________________________________________\n",
      "max_pooling2d_11 (MaxPooling (None, 12, 12, 32)        0         \n",
      "_________________________________________________________________\n",
      "dropout_11 (Dropout)         (None, 12, 12, 32)        0         \n",
      "_________________________________________________________________\n",
      "flatten_10 (Flatten)         (None, 4608)              0         \n",
      "_________________________________________________________________\n",
      "dense_19 (Dense)             (None, 600)               2765400   \n",
      "_________________________________________________________________\n",
      "activation_41 (Activation)   (None, 600)               0         \n",
      "_________________________________________________________________\n",
      "dense_20 (Dense)             (None, 10)                6010      \n",
      "_________________________________________________________________\n",
      "activation_42 (Activation)   (None, 10)                0         \n",
      "=================================================================\n",
      "Total params: 2,780,978\n",
      "Trainable params: 2,780,978\n",
      "Non-trainable params: 0\n",
      "_________________________________________________________________\n"
     ]
    }
   ],
   "source": [
    "model = Sequential()\n",
    "model.add(Convolution2D(32, (3, 3), input_shape=(28, 28, 1)))             \n",
    "model.add(Activation('relu'))                     \n",
    "model.add(Convolution2D(32, (3, 3)))\n",
    "model.add(Activation('relu'))                  \n",
    "model.add(MaxPooling2D(pool_size=(2, 2)))             \n",
    "model.add(Dropout(0.25))                  \n",
    "model.add(Flatten())         \n",
    "model.add(Dense(600))\n",
    "model.add(Activation('relu'))       \n",
    "model.add(Dense(classes))       \n",
    "model.add(Activation('softmax'))\n",
    "model.summary()"
   ]
  },
  {
   "cell_type": "code",
   "execution_count": 58,
   "metadata": {},
   "outputs": [
    {
     "name": "stdout",
     "output_type": "stream",
     "text": [
      "Train on 1350 samples, validate on 150 samples\n",
      "Epoch 1/20\n",
      "1350/1350 [==============================] - 6s 4ms/step - loss: 1.2504 - acc: 0.5941 - val_loss: 0.8717 - val_acc: 0.7533\n",
      "Epoch 2/20\n",
      "1350/1350 [==============================] - 6s 4ms/step - loss: 0.4240 - acc: 0.8600 - val_loss: 0.6059 - val_acc: 0.8200\n",
      "Epoch 3/20\n",
      "1350/1350 [==============================] - 5s 4ms/step - loss: 0.2235 - acc: 0.9348 - val_loss: 0.3596 - val_acc: 0.9000\n",
      "Epoch 4/20\n",
      "1350/1350 [==============================] - 5s 4ms/step - loss: 0.1324 - acc: 0.9570 - val_loss: 0.3610 - val_acc: 0.9000\n",
      "Epoch 5/20\n",
      "1350/1350 [==============================] - 5s 4ms/step - loss: 0.0959 - acc: 0.9726 - val_loss: 0.2328 - val_acc: 0.9267\n",
      "Epoch 6/20\n",
      "1350/1350 [==============================] - 5s 4ms/step - loss: 0.0436 - acc: 0.9874 - val_loss: 0.3044 - val_acc: 0.9067\n",
      "Epoch 7/20\n",
      "1350/1350 [==============================] - 5s 4ms/step - loss: 0.0294 - acc: 0.9941 - val_loss: 0.2971 - val_acc: 0.9067\n",
      "Epoch 8/20\n",
      "1350/1350 [==============================] - 6s 4ms/step - loss: 0.0183 - acc: 0.9993 - val_loss: 0.2806 - val_acc: 0.9200\n",
      "Epoch 9/20\n",
      "1350/1350 [==============================] - 6s 4ms/step - loss: 0.0106 - acc: 1.0000 - val_loss: 0.3394 - val_acc: 0.9267\n",
      "Epoch 10/20\n",
      "1350/1350 [==============================] - 6s 5ms/step - loss: 0.0070 - acc: 0.9993 - val_loss: 0.3488 - val_acc: 0.9200\n",
      "Epoch 11/20\n",
      "1350/1350 [==============================] - 7s 5ms/step - loss: 0.0053 - acc: 1.0000 - val_loss: 0.3379 - val_acc: 0.9400\n",
      "Epoch 12/20\n",
      "1350/1350 [==============================] - 6s 4ms/step - loss: 0.0050 - acc: 0.9993 - val_loss: 0.3440 - val_acc: 0.9200\n",
      "Epoch 13/20\n",
      "1350/1350 [==============================] - 5s 4ms/step - loss: 0.0046 - acc: 1.0000 - val_loss: 0.3492 - val_acc: 0.9200\n",
      "Epoch 14/20\n",
      "1350/1350 [==============================] - 7s 5ms/step - loss: 0.0068 - acc: 0.9993 - val_loss: 0.3414 - val_acc: 0.9333\n",
      "Epoch 15/20\n",
      "1350/1350 [==============================] - 6s 4ms/step - loss: 0.0022 - acc: 1.0000 - val_loss: 0.3168 - val_acc: 0.9400\n",
      "Epoch 16/20\n",
      "1350/1350 [==============================] - 6s 5ms/step - loss: 0.0016 - acc: 1.0000 - val_loss: 0.3315 - val_acc: 0.9200\n",
      "Epoch 17/20\n",
      "1350/1350 [==============================] - 6s 4ms/step - loss: 0.0016 - acc: 1.0000 - val_loss: 0.3423 - val_acc: 0.9267\n",
      "Epoch 18/20\n",
      "1350/1350 [==============================] - 7s 5ms/step - loss: 0.0037 - acc: 0.9993 - val_loss: 0.3560 - val_acc: 0.9133\n",
      "Epoch 19/20\n",
      "1350/1350 [==============================] - 6s 5ms/step - loss: 0.0041 - acc: 0.9985 - val_loss: 0.3649 - val_acc: 0.9267\n",
      "Epoch 20/20\n",
      "1350/1350 [==============================] - 6s 5ms/step - loss: 0.0016 - acc: 1.0000 - val_loss: 0.3612 - val_acc: 0.9267\n",
      "1500/1500 [==============================] - 2s 1ms/step\n",
      "Train accuracy: 0.992666666508\n",
      "500/500 [==============================] - 1s 1ms/step\n",
      "Test accuracy: 0.954\n"
     ]
    }
   ],
   "source": [
    "model.compile(loss='categorical_crossentropy',             \n",
    "              metrics=['accuracy'], optimizer='adadelta')    \n",
    "cost_history = model.fit(X_train, Y_train_ohe, batch_size=batch_size,        \n",
    "        epochs=epochs, validation_split = 0.1, verbose=1) \n",
    "score = model.evaluate(X_train, Y_train_ohe, verbose=1)\n",
    "print('Train accuracy:', score[1])                   \n",
    "score = model.evaluate(X_test, Y_test_ohe, verbose=1) \n",
    "print('Test accuracy:', score[1])"
   ]
  },
  {
   "cell_type": "code",
   "execution_count": 59,
   "metadata": {
    "collapsed": true
   },
   "outputs": [],
   "source": [
    "convnet_predictions = model.predict(X_test)"
   ]
  },
  {
   "cell_type": "code",
   "execution_count": 60,
   "metadata": {},
   "outputs": [
    {
     "name": "stdout",
     "output_type": "stream",
     "text": [
      "0.954\n",
      "[[59  0  0  2  0  0  0  0  0  0]\n",
      " [ 0 60  0  0  0  0  0  1  0  0]\n",
      " [ 0  0 38  0  0  0  0  3  1  0]\n",
      " [ 0  0  0 31  0  0  0  0  1  0]\n",
      " [ 0  0  0  0 63  0  0  0  0  0]\n",
      " [ 0  1  0  3  0 36  0  0  2  0]\n",
      " [ 1  0  0  0  0  0 51  0  1  0]\n",
      " [ 0  0  1  1  0  0  0 43  0  0]\n",
      " [ 0  0  0  1  0  1  0  0 47  1]\n",
      " [ 0  0  0  0  2  0  0  0  0 49]]\n",
      "             precision    recall  f1-score   support\n",
      "\n",
      "        0.0       0.98      0.97      0.98        61\n",
      "        1.0       0.98      0.98      0.98        61\n",
      "        2.0       0.97      0.90      0.94        42\n",
      "        3.0       0.82      0.97      0.89        32\n",
      "        4.0       0.97      1.00      0.98        63\n",
      "        5.0       0.97      0.86      0.91        42\n",
      "        6.0       1.00      0.96      0.98        53\n",
      "        7.0       0.91      0.96      0.93        45\n",
      "        8.0       0.90      0.94      0.92        50\n",
      "        9.0       0.98      0.96      0.97        51\n",
      "\n",
      "avg / total       0.96      0.95      0.95       500\n",
      "\n"
     ]
    }
   ],
   "source": [
    "print(accuracy_score(y_test,convnet_predictions.argmax(axis=1)))\n",
    "print(confusion_matrix(y_test,convnet_predictions.argmax(axis=1)))\n",
    "print(classification_report(y_test,convnet_predictions.argmax(axis=1)))"
   ]
  },
  {
   "cell_type": "code",
   "execution_count": 61,
   "metadata": {},
   "outputs": [
    {
     "name": "stdout",
     "output_type": "stream",
     "text": [
      "dict_keys(['val_loss', 'val_acc', 'loss', 'acc'])\n"
     ]
    },
    {
     "data": {
      "image/png": "[encoded data removed]",
      "text/plain": [
       "<matplotlib.figure.Figure at 0x2071258c0b8>"
      ]
     },
     "metadata": {},
     "output_type": "display_data"
    },
    {
     "data": {
      "image/png": "[encoded data removed]",
      "text/plain": [
       "<matplotlib.figure.Figure at 0x207125954a8>"
      ]
     },
     "metadata": {},
     "output_type": "display_data"
    }
   ],
   "source": [
    "# list all data in history\n",
    "history = cost_history\n",
    "print(history.history.keys())\n",
    "# summarize history for accuracy\n",
    "#plt.plot(mo)\n",
    "plt.plot(history.history['val_acc'])\n",
    "plt.title('model accuracy')\n",
    "plt.ylabel('accuracy')\n",
    "plt.xlabel('epoch')\n",
    "plt.legend(['train', 'test'], loc='upper left')\n",
    "plt.show()\n",
    "# summarize history for loss\n",
    "plt.plot(history.history['loss'])\n",
    "plt.plot(history.history['val_loss'])\n",
    "plt.title('model loss')\n",
    "plt.ylabel('loss')\n",
    "plt.xlabel('epoch')\n",
    "plt.legend(['train', 'test'], loc='upper left')\n",
    "plt.show()"
   ]
  },
  {
   "cell_type": "code",
   "execution_count": 42,
   "metadata": {},
   "outputs": [],
   "source": [
    "?Convolution2D"
   ]
  }
 ],
 "metadata": {
  "anaconda-cloud": {},
  "celltoolbar": "Slideshow",
  "kernelspec": {
   "display_name": "Python [default]",
   "language": "python",
   "name": "python3"
  },
  "language_info": {
   "codemirror_mode": {
    "name": "ipython",
    "version": 3
   },
   "file_extension": ".py",
   "mimetype": "text/x-python",
   "name": "python",
   "nbconvert_exporter": "python",
   "pygments_lexer": "ipython3",
   "version": "3.6.2"
  }
 },
 "nbformat": 4,
 "nbformat_minor": 1
}
