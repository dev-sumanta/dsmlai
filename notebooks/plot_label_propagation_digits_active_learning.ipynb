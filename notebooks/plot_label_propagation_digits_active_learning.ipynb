{
 "cells": [
  {
   "cell_type": "code",
   "execution_count": 1,
   "metadata": {
    "collapsed": true
   },
   "outputs": [],
   "source": [
    "%matplotlib inline"
   ]
  },
  {
   "cell_type": "markdown",
   "metadata": {},
   "source": [
    "\n",
    "# Label Propagation digits active learning\n",
    "\n",
    "\n",
    "Demonstrates an active learning technique to learn handwritten digits\n",
    "using label propagation.\n",
    "\n",
    "We start by training a label propagation model with only 10 labeled points,\n",
    "then we select the top five most uncertain points to label. Next, we train\n",
    "with 15 labeled points (original 10 + 5 new ones). We repeat this process\n",
    "four times to have a model trained with 30 labeled examples. Note you can\n",
    "increase this to label more than 30 by changing `max_iterations`. Labeling\n",
    "more than 30 can be useful to get a sense for the speed of convergence of\n",
    "this active learning technique.\n",
    "\n",
    "A plot will appear showing the top 5 most uncertain digits for each iteration\n",
    "of training. These may or may not contain mistakes, but we will train the next\n",
    "model with their true labels.\n",
    "\n"
   ]
  },
  {
   "cell_type": "code",
   "execution_count": 2,
   "metadata": {},
   "outputs": [
    {
     "name": "stdout",
     "output_type": "stream",
     "text": [
      "Automatically created module for IPython interactive environment\n",
      "320\n"
     ]
    }
   ],
   "source": [
    "print(__doc__)\n",
    "\n",
    "# Authors: Clay Woolam <clay@woolam.org>\n",
    "# License: BSD\n",
    "\n",
    "import numpy as np\n",
    "import matplotlib.pyplot as plt\n",
    "from scipy import stats\n",
    "\n",
    "from sklearn import datasets\n",
    "from sklearn.semi_supervised import label_propagation\n",
    "from sklearn.metrics import classification_report, confusion_matrix\n",
    "\n",
    "digits = datasets.load_digits()\n",
    "rng = np.random.RandomState(0)\n",
    "indices = np.arange(len(digits.data))\n",
    "rng.shuffle(indices)\n",
    "\n",
    "X = digits.data[indices[:330]]\n",
    "y = digits.target[indices[:330]]\n",
    "images = digits.images[indices[:330]]\n",
    "\n",
    "n_total_samples = len(y)\n",
    "n_labeled_points = 10\n",
    "max_iterations = 5\n",
    "\n",
    "unlabeled_indices = np.arange(n_total_samples)[n_labeled_points:]\n",
    "print(len(unlabeled_indices))\n"
   ]
  },
  {
   "cell_type": "code",
   "execution_count": 3,
   "metadata": {},
   "outputs": [
    {
     "name": "stdout",
     "output_type": "stream",
     "text": [
      "[[18 34 13 17 33 25]\n",
      " [26 20 30 12 31 12]\n",
      " [12 24 12 27 26 34]] \n",
      " [[2 1 2 1 2 1]\n",
      " [0 2 0 0 1 0]\n",
      " [1 0 1 2 0 2]]\n"
     ]
    }
   ],
   "source": [
    "np.random.seed(100)\n",
    "tarr = np.random.randint(10, 40, size=(3, 6))\n",
    "print(tarr, '\\n',  np.argsort(tarr, axis=0))"
   ]
  },
  {
   "cell_type": "code",
   "execution_count": 4,
   "metadata": {},
   "outputs": [
    {
     "data": {
      "text/plain": [
       "array([ 6,  4,  1,  3,  2, 10])"
      ]
     },
     "execution_count": 4,
     "metadata": {},
     "output_type": "execute_result"
    }
   ],
   "source": [
    "sarr = np.array([10, 2, 3, 1, 4, 6])\n",
    "sarr[::-1]"
   ]
  },
  {
   "cell_type": "code",
   "execution_count": 5,
   "metadata": {},
   "outputs": [
    {
     "data": {
      "text/plain": [
       "array([[0, 2, 1, 4, 3, 5],\n",
       "       [3, 5, 1, 0, 2, 4],\n",
       "       [2, 3, 0, 5, 4, 1]], dtype=int64)"
      ]
     },
     "execution_count": 5,
     "metadata": {},
     "output_type": "execute_result"
    }
   ],
   "source": [
    "np.argsort(tarr)[::-1]"
   ]
  },
  {
   "cell_type": "code",
   "execution_count": 6,
   "metadata": {},
   "outputs": [
    {
     "data": {
      "text/plain": [
       "array([ True, False, False, False], dtype=bool)"
      ]
     },
     "execution_count": 6,
     "metadata": {},
     "output_type": "execute_result"
    }
   ],
   "source": [
    "np.in1d(np.array([1, 2, 3, 7]), np.array([1, 10, 12]))"
   ]
  },
  {
   "cell_type": "code",
   "execution_count": 14,
   "metadata": {},
   "outputs": [
    {
     "name": "stderr",
     "output_type": "stream",
     "text": [
      "C:\\ProgramData\\Anaconda3\\lib\\site-packages\\sklearn\\semi_supervised\\label_propagation.py:288: ConvergenceWarning: max_iter=5 was reached without convergence.\n",
      "  category=ConvergenceWarning\n",
      "C:\\ProgramData\\Anaconda3\\lib\\site-packages\\ipykernel\\__main__.py:65: DeprecationWarning: using a non-integer array as obj in delete will result in an error in the future\n"
     ]
    },
    {
     "name": "stdout",
     "output_type": "stream",
     "text": [
      "Length predicted labels 270, length true labels 270\n",
      "Iteration 0 ______________________________________________________________________\n",
      "Label Spreading model: 60 labeled & 270 unlabeled (330 total)\n",
      "             precision    recall  f1-score   support\n",
      "\n",
      "          0       1.00      1.00      1.00        22\n",
      "          1       0.77      1.00      0.87        20\n",
      "          2       1.00      0.96      0.98        27\n",
      "          3       0.96      1.00      0.98        23\n",
      "          4       1.00      0.92      0.96        24\n",
      "          5       0.94      1.00      0.97        29\n",
      "          6       1.00      0.97      0.99        39\n",
      "          7       1.00      1.00      1.00        29\n",
      "          8       0.95      0.88      0.91        24\n",
      "          9       0.97      0.88      0.92        33\n",
      "\n",
      "avg / total       0.96      0.96      0.96       270\n",
      "\n",
      "Confusion matrix\n",
      "[[22  0  0  0  0  0  0  0  0  0]\n",
      " [ 0 20  0  0  0  0  0  0  0  0]\n",
      " [ 0  0 26  1  0  0  0  0  0  0]\n",
      " [ 0  0  0 23  0  0  0  0  0  0]\n",
      " [ 0  1  0  0 22  0  0  0  1  0]\n",
      " [ 0  0  0  0  0 29  0  0  0  0]\n",
      " [ 0  1  0  0  0  0 38  0  0  0]\n",
      " [ 0  0  0  0  0  0  0 29  0  0]\n",
      " [ 0  2  0  0  0  0  0  0 21  1]\n",
      " [ 0  2  0  0  0  2  0  0  0 29]]\n",
      "270\n",
      "shape of lp model distributions:  (330, 10)\n",
      "first two rows of label_distributions:  [[  2.78001354e-153   5.72305415e-087   1.00000000e+000   1.13356702e-070\n",
      "    3.95885062e-143   4.18622078e-138   1.69448165e-123   3.66435002e-094\n",
      "    7.15826971e-090   9.58212236e-106]\n",
      " [  4.78074646e-131   9.43794178e-064   2.38622462e-064   1.20061532e-095\n",
      "    4.22738985e-153   3.72821184e-095   5.81980004e-130   6.03035607e-076\n",
      "    1.00000000e+000   5.00959951e-077]]\n",
      "pred_entropies shape  (330,)  and pred_entropies first five elements  [  1.82567302e-68   1.71921252e-61   5.05160562e-52   3.74609510e-99\n",
      "   1.07488775e-75]\n",
      "Length predicted labels 265, length true labels 265\n",
      "Iteration 1 ______________________________________________________________________\n",
      "Label Spreading model: 65 labeled & 265 unlabeled (330 total)\n",
      "             precision    recall  f1-score   support\n",
      "\n",
      "          0       1.00      1.00      1.00        22\n",
      "          1       0.83      1.00      0.91        20\n",
      "          2       1.00      0.96      0.98        27\n",
      "          3       0.96      1.00      0.98        23\n",
      "          4       1.00      0.91      0.95        23\n",
      "          5       0.94      1.00      0.97        29\n",
      "          6       1.00      0.97      0.99        39\n",
      "          7       1.00      1.00      1.00        29\n",
      "          8       0.95      0.95      0.95        22\n",
      "          9       0.96      0.87      0.92        31\n",
      "\n",
      "avg / total       0.97      0.97      0.97       265\n",
      "\n",
      "Confusion matrix\n",
      "[[22  0  0  0  0  0  0  0  0  0]\n",
      " [ 0 20  0  0  0  0  0  0  0  0]\n",
      " [ 0  0 26  1  0  0  0  0  0  0]\n",
      " [ 0  0  0 23  0  0  0  0  0  0]\n",
      " [ 0  1  0  0 21  0  0  0  1  0]\n",
      " [ 0  0  0  0  0 29  0  0  0  0]\n",
      " [ 0  1  0  0  0  0 38  0  0  0]\n",
      " [ 0  0  0  0  0  0  0 29  0  0]\n",
      " [ 0  0  0  0  0  0  0  0 21  1]\n",
      " [ 0  2  0  0  0  2  0  0  0 27]]\n",
      "265\n",
      "shape of lp model distributions:  (330, 10)\n",
      "first two rows of label_distributions:  [[  2.78001354e-153   5.72305415e-087   1.00000000e+000   1.13356702e-070\n",
      "    4.60812792e-131   4.18622078e-138   1.69448165e-123   3.66435002e-094\n",
      "    7.15826971e-090   9.58212236e-106]\n",
      " [  4.78074646e-131   9.43794178e-064   2.38622462e-064   1.20061532e-095\n",
      "    6.33952670e-134   3.72821184e-095   5.81980004e-130   6.03035607e-076\n",
      "    1.00000000e+000   5.00959951e-077]]\n",
      "pred_entropies shape  (330,)  and pred_entropies first five elements  [  1.82567302e-68   1.71921252e-61   5.05160562e-52   1.15508808e-94\n",
      "   6.56920123e-74]\n",
      "Length predicted labels 260, length true labels 260\n",
      "Iteration 2 ______________________________________________________________________\n",
      "Label Spreading model: 70 labeled & 260 unlabeled (330 total)\n",
      "             precision    recall  f1-score   support\n",
      "\n",
      "          0       1.00      1.00      1.00        22\n",
      "          1       0.83      1.00      0.90        19\n",
      "          2       1.00      0.96      0.98        27\n",
      "          3       0.96      1.00      0.98        23\n",
      "          4       1.00      0.91      0.95        23\n",
      "          5       0.94      1.00      0.97        29\n",
      "          6       1.00      0.97      0.99        36\n",
      "          7       1.00      1.00      1.00        28\n",
      "          8       0.95      0.95      0.95        22\n",
      "          9       0.96      0.87      0.92        31\n",
      "\n",
      "avg / total       0.97      0.97      0.97       260\n",
      "\n",
      "Confusion matrix\n",
      "[[22  0  0  0  0  0  0  0  0  0]\n",
      " [ 0 19  0  0  0  0  0  0  0  0]\n",
      " [ 0  0 26  1  0  0  0  0  0  0]\n",
      " [ 0  0  0 23  0  0  0  0  0  0]\n",
      " [ 0  1  0  0 21  0  0  0  1  0]\n",
      " [ 0  0  0  0  0 29  0  0  0  0]\n",
      " [ 0  1  0  0  0  0 35  0  0  0]\n",
      " [ 0  0  0  0  0  0  0 28  0  0]\n",
      " [ 0  0  0  0  0  0  0  0 21  1]\n",
      " [ 0  2  0  0  0  2  0  0  0 27]]\n",
      "260\n",
      "shape of lp model distributions:  (330, 10)\n",
      "first two rows of label_distributions:  [[  2.78001354e-153   5.72305415e-087   1.00000000e+000   1.13356702e-070\n",
      "    4.60812792e-131   4.18622078e-138   1.69448165e-123   3.66435002e-094\n",
      "    7.15826971e-090   9.58212236e-106]\n",
      " [  4.78074646e-131   9.43794178e-064   2.38622462e-064   1.20061532e-095\n",
      "    6.33952670e-134   3.72821184e-095   9.22575375e-105   6.03035607e-076\n",
      "    1.00000000e+000   5.00959951e-077]]\n",
      "pred_entropies shape  (330,)  and pred_entropies first five elements  [  1.82567302e-68   1.71921252e-61   5.05160562e-52   1.15508808e-94\n",
      "   6.56920123e-74]\n",
      "Length predicted labels 255, length true labels 255\n",
      "Iteration 3 ______________________________________________________________________\n",
      "Label Spreading model: 75 labeled & 255 unlabeled (330 total)\n",
      "             precision    recall  f1-score   support\n",
      "\n",
      "          0       1.00      1.00      1.00        22\n",
      "          1       0.82      1.00      0.90        18\n",
      "          2       1.00      0.96      0.98        27\n",
      "          3       0.96      1.00      0.98        23\n",
      "          4       1.00      0.91      0.95        23\n",
      "          5       0.93      1.00      0.96        27\n",
      "          6       1.00      0.97      0.99        36\n",
      "          7       1.00      1.00      1.00        28\n",
      "          8       0.95      0.95      0.95        21\n",
      "          9       0.96      0.87      0.91        30\n",
      "\n",
      "avg / total       0.97      0.96      0.96       255\n",
      "\n",
      "Confusion matrix\n",
      "[[22  0  0  0  0  0  0  0  0  0]\n",
      " [ 0 18  0  0  0  0  0  0  0  0]\n",
      " [ 0  0 26  1  0  0  0  0  0  0]\n",
      " [ 0  0  0 23  0  0  0  0  0  0]\n",
      " [ 0  1  0  0 21  0  0  0  1  0]\n",
      " [ 0  0  0  0  0 27  0  0  0  0]\n",
      " [ 0  1  0  0  0  0 35  0  0  0]\n",
      " [ 0  0  0  0  0  0  0 28  0  0]\n",
      " [ 0  0  0  0  0  0  0  0 20  1]\n",
      " [ 0  2  0  0  0  2  0  0  0 26]]\n",
      "255\n",
      "shape of lp model distributions:  (330, 10)\n",
      "first two rows of label_distributions:  [[  2.78001354e-153   5.72305415e-087   1.00000000e+000   1.13356702e-070\n",
      "    4.60812792e-131   4.18622078e-138   1.69448165e-123   3.66435002e-094\n",
      "    7.15826971e-090   9.58212236e-106]\n",
      " [  4.78074646e-131   9.44732425e-064   2.38622462e-064   1.20061532e-095\n",
      "    6.33952670e-134   3.72821184e-095   9.22575375e-105   6.03035607e-076\n",
      "    1.00000000e+000   5.00959951e-077]]\n",
      "pred_entropies shape  (330,)  and pred_entropies first five elements  [  1.82567302e-68   1.72056472e-61   5.05160562e-52   1.74692863e-79\n",
      "   2.95298828e-63]\n",
      "Length predicted labels 250, length true labels 250\n",
      "Iteration 4 ______________________________________________________________________\n",
      "Label Spreading model: 80 labeled & 250 unlabeled (330 total)\n",
      "             precision    recall  f1-score   support\n",
      "\n",
      "          0       1.00      1.00      1.00        22\n",
      "          1       0.85      0.94      0.89        18\n",
      "          2       1.00      0.96      0.98        27\n",
      "          3       0.96      1.00      0.98        23\n",
      "          4       0.96      1.00      0.98        22\n",
      "          5       0.96      1.00      0.98        27\n",
      "          6       1.00      0.97      0.99        36\n",
      "          7       1.00      1.00      1.00        28\n",
      "          8       1.00      1.00      1.00        20\n",
      "          9       1.00      0.89      0.94        27\n",
      "\n",
      "avg / total       0.98      0.98      0.98       250\n",
      "\n",
      "Confusion matrix\n",
      "[[22  0  0  0  0  0  0  0  0  0]\n",
      " [ 0 17  0  0  1  0  0  0  0  0]\n",
      " [ 0  0 26  1  0  0  0  0  0  0]\n",
      " [ 0  0  0 23  0  0  0  0  0  0]\n",
      " [ 0  0  0  0 22  0  0  0  0  0]\n",
      " [ 0  0  0  0  0 27  0  0  0  0]\n",
      " [ 0  1  0  0  0  0 35  0  0  0]\n",
      " [ 0  0  0  0  0  0  0 28  0  0]\n",
      " [ 0  0  0  0  0  0  0  0 20  0]\n",
      " [ 0  2  0  0  0  1  0  0  0 24]]\n",
      "250\n",
      "shape of lp model distributions:  (330, 10)\n",
      "first two rows of label_distributions:  [[  2.78001354e-153   5.72305415e-087   1.00000000e+000   1.13356702e-070\n",
      "    4.60812792e-131   4.18622078e-138   1.69448165e-123   3.66435002e-094\n",
      "    7.15826971e-090   9.58212236e-106]\n",
      " [  4.78074646e-131   9.44732425e-064   2.38622462e-064   1.20061532e-095\n",
      "    1.83836554e-119   3.72821184e-095   9.22575375e-105   6.03035607e-076\n",
      "    1.00000000e+000   5.00959951e-077]]\n",
      "pred_entropies shape  (330,)  and pred_entropies first five elements  [  1.82567302e-68   1.72056472e-61   5.05160562e-52   1.74692863e-79\n",
      "   2.95382948e-63]\n"
     ]
    },
    {
     "data": {
      "image/png": "[encoded data removed]",
      "text/plain": [
       "<matplotlib.figure.Figure at 0x1b9703cf5c0>"
      ]
     },
     "metadata": {},
     "output_type": "display_data"
    }
   ],
   "source": [
    "f = plt.figure()\n",
    "\n",
    "for i in range(max_iterations):\n",
    "    if len(unlabeled_indices) == 0:\n",
    "        print(\"No unlabeled items left to label.\")\n",
    "        break\n",
    "    y_train = np.copy(y)\n",
    "    y_train[unlabeled_indices] = -1\n",
    "\n",
    "    lp_model = label_propagation.LabelSpreading(gamma=0.25, max_iter=5)\n",
    "    lp_model.fit(X, y_train)\n",
    "\n",
    "    predicted_labels = lp_model.transduction_[unlabeled_indices]\n",
    "    true_labels = y[unlabeled_indices]\n",
    "    print('Length predicted labels {}, length true labels {}'.format(len(predicted_labels), len(true_labels)))\n",
    "    cm = confusion_matrix(true_labels, predicted_labels,\n",
    "                          labels=lp_model.classes_)\n",
    "\n",
    "    print(\"Iteration %i %s\" % (i, 70 * \"_\"))\n",
    "    print(\"Label Spreading model: %d labeled & %d unlabeled (%d total)\"\n",
    "          % (n_labeled_points, n_total_samples - n_labeled_points,\n",
    "             n_total_samples))\n",
    "\n",
    "    print(classification_report(true_labels, predicted_labels))\n",
    "\n",
    "    print(\"Confusion matrix\")\n",
    "    print(cm)\n",
    "    print(cm.sum())\n",
    "\n",
    "    # compute the entropies of transduced label distributions\n",
    "    print('shape of lp model distributions: ', lp_model.label_distributions_.shape)\n",
    "    print('first two rows of label_distributions: ', lp_model.label_distributions_[:2, :])\n",
    "    pred_entropies = stats.distributions.entropy(\n",
    "        lp_model.label_distributions_.T)\n",
    "    \n",
    "    print('pred_entropies shape ', pred_entropies.shape , ' and pred_entropies first five elements ', pred_entropies[:5])\n",
    "    # select up to 5 digit examples that the classifier is most uncertain about\n",
    "    uncertainty_index = np.argsort(pred_entropies)[::-1]\n",
    "    uncertainty_index = uncertainty_index[\n",
    "        np.in1d(uncertainty_index, unlabeled_indices)][:5]\n",
    "\n",
    "    # keep track of indices that we get labels for\n",
    "    delete_indices = np.array([])\n",
    "\n",
    "    # for more than 5 iterations, visualize the gain only on the first 5\n",
    "    if i < 5:\n",
    "        f.text(.05, (1 - (i + 1) * .183),\n",
    "               \"model %d\\n\\nfit with\\n%d labels\" %\n",
    "               ((i + 1), i * 5 + 10), size=10)\n",
    "    for index, image_index in enumerate(uncertainty_index):\n",
    "        image = images[image_index]\n",
    "\n",
    "        # for more than 5 iterations, visualize the gain only on the first 5\n",
    "        if i < 5:\n",
    "            sub = f.add_subplot(5, 5, index + 1 + (5 * i))\n",
    "            sub.imshow(image, cmap=plt.cm.gray_r, interpolation='none')\n",
    "            sub.set_title(\"predict: %i\\ntrue: %i\" % (\n",
    "                lp_model.transduction_[image_index], y[image_index]), size=10)\n",
    "            sub.axis('off')\n",
    "\n",
    "        # labeling 5 points, remote from labeled set\n",
    "        delete_index, = np.where(unlabeled_indices == image_index)\n",
    "        delete_indices = np.concatenate((delete_indices, delete_index))\n",
    "\n",
    "    unlabeled_indices = np.delete(unlabeled_indices, delete_indices)\n",
    "    n_labeled_points += len(uncertainty_index)\n",
    "\n",
    "f.suptitle(\"Active learning with Label Propagation.\\nRows show 5 most \"\n",
    "           \"uncertain labels to learn with the next model.\", y=1.15)\n",
    "plt.subplots_adjust(left=0.2, bottom=0.03, right=0.9, top=0.9, wspace=0.2,\n",
    "                    hspace=0.85)\n",
    "plt.show()"
   ]
  },
  {
   "cell_type": "code",
   "execution_count": 12,
   "metadata": {},
   "outputs": [
    {
     "data": {
      "text/plain": [
       "0.30463609734923813"
      ]
     },
     "execution_count": 12,
     "metadata": {},
     "output_type": "execute_result"
    }
   ],
   "source": [
    "stats.distributions.entropy([0.5, 5])"
   ]
  },
  {
   "cell_type": "code",
   "execution_count": null,
   "metadata": {
    "collapsed": true
   },
   "outputs": [],
   "source": []
  }
 ],
 "metadata": {
  "kernelspec": {
   "display_name": "Python [default]",
   "language": "python",
   "name": "python3"
  },
  "language_info": {
   "codemirror_mode": {
    "name": "ipython",
    "version": 3
   },
   "file_extension": ".py",
   "mimetype": "text/x-python",
   "name": "python",
   "nbconvert_exporter": "python",
   "pygments_lexer": "ipython3",
   "version": "3.6.2"
  }
 },
 "nbformat": 4,
 "nbformat_minor": 1
}
