{
 "cells": [
  {
   "cell_type": "code",
   "execution_count": 1,
   "metadata": {},
   "outputs": [
    {
     "name": "stdout",
     "output_type": "stream",
     "text": [
      "Populating the interactive namespace from numpy and matplotlib\n"
     ]
    }
   ],
   "source": [
    "%pylab inline"
   ]
  },
  {
   "cell_type": "code",
   "execution_count": 2,
   "metadata": {},
   "outputs": [
    {
     "name": "stdout",
     "output_type": "stream",
     "text": [
      "[1, 1, 2, 6, 24, 120, 720, 5040, 40320, 362880, 3628800, 39916800, 479001600, 6227020800, 87178291200, 1307674368000, 20922789888000, 355687428096000, 6402373705728000, 121645100408832000]\n"
     ]
    }
   ],
   "source": [
    "a = [1,2,3,4]\n",
    "\n",
    "def fact(n):\n",
    "    return 1 if n == 0 else n * fact(n -1)\n",
    "\n",
    "print([fact(x) for x in range(20)])"
   ]
  },
  {
   "cell_type": "code",
   "execution_count": 3,
   "metadata": {},
   "outputs": [
    {
     "name": "stdout",
     "output_type": "stream",
     "text": [
      "hello world\n"
     ]
    },
    {
     "data": {
      "text/plain": [
       "12.0"
      ]
     },
     "execution_count": 3,
     "metadata": {},
     "output_type": "execute_result"
    }
   ],
   "source": [
    "print( 'hello world')\n",
    "x = 12 * 2\n",
    "x / 2"
   ]
  },
  {
   "cell_type": "code",
   "execution_count": 4,
   "metadata": {},
   "outputs": [
    {
     "name": "stdout",
     "output_type": "stream",
     "text": [
      "0b10111\n",
      "23\n",
      "16\n"
     ]
    }
   ],
   "source": [
    "print(bin(23))\n",
    "print(int(0b10111))\n",
    "print(1<<4)"
   ]
  },
  {
   "cell_type": "code",
   "execution_count": 17,
   "metadata": {},
   "outputs": [
    {
     "name": "stdout",
     "output_type": "stream",
     "text": [
      "23 printed as binary number is 10111\n",
      "23 1 bit shifted to the left is 101110 is 46\n",
      "0b101110 is  46\n",
      "23 one bit shifted to the right as binary is 1011 and as digit is 11\n",
      "XOR:\n",
      "1011\n",
      "23 in binary 10111 \n",
      "11 in binary  1011 \n",
      "23 xor 11 binary 11100\n"
     ]
    }
   ],
   "source": [
    "# bit manipulation\n",
    "print( \"23 printed as binary number is {0:b}\".format(23))\n",
    "print( \"23 1 bit shifted to the left is {0:b} is {1:d}\".format(23<<1, 23<<1))\n",
    "print( '0b101110 is ', 0b101110)\n",
    "print('23 one bit shifted to the right as binary is {0:b} and as digit is {1:d}'.format(23>>1, 23>>1))\n",
    "print('XOR:')\n",
    "print( '{0:b}'.format(11))\n",
    "print(\"23 in binary {0:b} \\n11 in binary  {1:b} \\n23 xor 11 binary {2:b}\".format(23,11,23^11))\n"
   ]
  },
  {
   "cell_type": "code",
   "execution_count": 18,
   "metadata": {},
   "outputs": [
    {
     "data": {
      "text/plain": [
       "2582249878086908589655919172003011874329705792829223512830659356540647622016841194629645353280137831435903171972747493376"
      ]
     },
     "execution_count": 18,
     "metadata": {},
     "output_type": "execute_result"
    }
   ],
   "source": [
    "2 ** 400"
   ]
  },
  {
   "cell_type": "code",
   "execution_count": 19,
   "metadata": {},
   "outputs": [
    {
     "name": "stdout",
     "output_type": "stream",
     "text": [
      "(2+3j)\n",
      "(2+3j) 2.0 3.0\n",
      "(-5+12j)\n"
     ]
    }
   ],
   "source": [
    "#Complex numbers\n",
    "ac = 2 + 3j\n",
    "print(ac)\n",
    "print(ac, ac.real, ac.imag)\n",
    "print( ac * ac)"
   ]
  },
  {
   "cell_type": "code",
   "execution_count": 20,
   "metadata": {},
   "outputs": [
    {
     "name": "stdout",
     "output_type": "stream",
     "text": [
      "11\n",
      "llo world\n",
      "15\n",
      "11\n",
      "hello worldhello worldhello world\n",
      "True\n",
      "True\n"
     ]
    }
   ],
   "source": [
    "# Strings\n",
    "astr = 'hello world'\n",
    "print( len(astr))\n",
    "print( astr[2:])\n",
    "bstr = astr\n",
    "bstr += 'blah'\n",
    "print( len(bstr))\n",
    "print( len(astr))\n",
    "print( astr * 3)\n",
    "print( 'hello' < 'jello')\n",
    "print( 'l' in 'hello')"
   ]
  },
  {
   "cell_type": "code",
   "execution_count": 21,
   "metadata": {},
   "outputs": [
    {
     "name": "stdout",
     "output_type": "stream",
     "text": [
      "some longish string that we continue on next line and then next\n"
     ]
    }
   ],
   "source": [
    "astring ='some longish string \\\n",
    "that we continue on next line \\\n",
    "and then next'\n",
    "print(astring)"
   ]
  },
  {
   "cell_type": "code",
   "execution_count": 22,
   "metadata": {},
   "outputs": [
    {
     "name": "stdout",
     "output_type": "stream",
     "text": [
      "[99, 'bottles of beer', ['on', 'the', 'wall'], 199, 'bottles of beer', ['on', 'the', 'wall']]\n",
      "[99, 'bottles of beer', ['on', 'the', 'wall'], 99, 'bottles of beer', ['on', 'the', 'wall'], 99, 'bottles of beer', ['on', 'the', 'wall']]\n",
      "['on', 'the', 'wall']\n",
      "bottles of beer\n",
      "a is now:  ['c99', 'bottles of beer', ['on', 'the', 'wall']]  and c is now  ['c99', 'bottles of beer', ['on', 'the', 'wall']]\n"
     ]
    }
   ],
   "source": [
    "a = [99,'bottles of beer', ['on','the','wall']]\n",
    "b = [199,'bottles of beer', ['on','the','wall']]\n",
    "print( a + b)\n",
    "print( a * 3)\n",
    "print( a[2])\n",
    "print( a[-2])\n",
    "c = a\n",
    "c[0] = 'c99'\n",
    "print( 'a is now: ' ,a , ' and c is now ' , c)\n",
    "# a[1:]"
   ]
  },
  {
   "cell_type": "code",
   "execution_count": 23,
   "metadata": {},
   "outputs": [
    {
     "name": "stdout",
     "output_type": "stream",
     "text": [
      "4\n",
      "3\n"
     ]
    }
   ],
   "source": [
    "x=3 \n",
    "y=x\n",
    "y=4\n",
    "print(y)\n",
    "print(x)"
   ]
  },
  {
   "cell_type": "code",
   "execution_count": 24,
   "metadata": {},
   "outputs": [
    {
     "name": "stdout",
     "output_type": "stream",
     "text": [
      "[0, 1, 2, 3, 4]\n",
      "[0, 1, 2, 3, 4, 5]\n",
      "[0, 1, 2, 3, 4]\n",
      "[0, 1, 42, 2, 3, 4]\n",
      "[0, 1, 42, 3, 4]\n",
      "[4, 3, 42, 1, 0]\n",
      "[0, 1, 3, 4, 42]\n"
     ]
    }
   ],
   "source": [
    "a = list(range(5))\n",
    "print ( a )\n",
    "a.append(5)\n",
    "print( a )\n",
    "a.pop()\n",
    "print( a )\n",
    "a.insert(2,42)\n",
    "print( a )\n",
    "a.pop(3)\n",
    "print( a )\n",
    "a.reverse()\n",
    "print( a )\n",
    "a.sort()\n",
    "print( a )"
   ]
  },
  {
   "cell_type": "code",
   "execution_count": 25,
   "metadata": {},
   "outputs": [
    {
     "name": "stdout",
     "output_type": "stream",
     "text": [
      "eend\n",
      "water\n",
      "{'duck': 'eend'}\n"
     ]
    }
   ],
   "source": [
    "# dictionaries\n",
    "d = { 'duck' : 'eend', 'water' : 'water' }\n",
    "print( d['duck'] )\n",
    "print( d['water'] )\n",
    "del d['water']\n",
    "# print( d['back'] )\n",
    "# d['back'] = 'rug'\n",
    "print( d )"
   ]
  },
  {
   "cell_type": "code",
   "execution_count": 26,
   "metadata": {},
   "outputs": [
    {
     "name": "stdout",
     "output_type": "stream",
     "text": [
      "dict_keys(['duck'])\n",
      "dict_values(['eend'])\n",
      "dict_items([('duck', 'eend')])\n",
      "None\n"
     ]
    }
   ],
   "source": [
    "# dictionaries - more operations\n",
    "print( d.keys() )\n",
    "print( d.values() )\n",
    "print( d.items() )\n",
    "print( d.get('ducka'))"
   ]
  },
  {
   "cell_type": "code",
   "execution_count": 27,
   "metadata": {},
   "outputs": [
    {
     "name": "stdout",
     "output_type": "stream",
     "text": [
      "dict_keys(['name', 'age', ('hello', 'world'), 42, 'flag'])\n",
      "dict_values(['guido', 43, 1, 'yes', ['red', 'white', 'blue']])\n"
     ]
    }
   ],
   "source": [
    "# dictionary with all sorts of keys and values\n",
    "anyd = { 'name':'guido', 'age':43,('hello','world'):1,42 : 'yes', \n",
    "        'flag' : ['red','white','blue'] }\n",
    "print (anyd.keys())\n",
    "print (anyd.values())\n",
    "a = 10\n",
    "n = a + 5\n",
    "anyd[n] = 10\n",
    "anyd\n",
    "alist = [1,2,3]\n",
    "anyd['test'] = alist"
   ]
  },
  {
   "cell_type": "code",
   "execution_count": 30,
   "metadata": {},
   "outputs": [
    {
     "data": {
      "text/plain": [
       "4503447740865300691"
      ]
     },
     "execution_count": 30,
     "metadata": {},
     "output_type": "execute_result"
    }
   ],
   "source": [
    "hash('an arbitrarily long string to illustrate benefits of hashing')"
   ]
  },
  {
   "cell_type": "code",
   "execution_count": 31,
   "metadata": {},
   "outputs": [
    {
     "name": "stdout",
     "output_type": "stream",
     "text": [
      "lname\n",
      "1 2 3\n"
     ]
    }
   ],
   "source": [
    "# tuples\n",
    "akey = ('lname','fname')\n",
    "print( akey[0] )\n",
    "atuple = 1,2,3\n",
    "x,y,z = atuple\n",
    "print( x,y,z )\n",
    "# akey[0] = 'new value'"
   ]
  },
  {
   "cell_type": "code",
   "execution_count": 32,
   "metadata": {},
   "outputs": [
    {
     "name": "stdout",
     "output_type": "stream",
     "text": [
      "3 is not greater than 10\n",
      "hello world\n"
     ]
    }
   ],
   "source": [
    "friendly = 1\n",
    "if friendly :\n",
    "    greeting = 'hello world'\n",
    "    if 3 > 10 :\n",
    "        print('nope')\n",
    "    else :\n",
    "        print('3 is not greater than 10')\n",
    "else :\n",
    "    greeting = 12 * 12\n",
    "print ( greeting )"
   ]
  },
  {
   "cell_type": "code",
   "execution_count": 33,
   "metadata": {},
   "outputs": [
    {
     "name": "stdout",
     "output_type": "stream",
     "text": [
      "0\n",
      "bingo\n",
      "---\n",
      "---\n",
      "---\n",
      "3\n",
      "---\n",
      "---\n"
     ]
    }
   ],
   "source": [
    "for i in range(5):\n",
    "    if i % 3 == 0:\n",
    "        print( i )\n",
    "    if i % 5 == 0 :\n",
    "        print( 'bingo' )\n",
    "    print( '---' )"
   ]
  },
  {
   "cell_type": "code",
   "execution_count": 34,
   "metadata": {},
   "outputs": [
    {
     "data": {
      "text/plain": [
       "[0, 1, 2, 3, 4]"
      ]
     },
     "execution_count": 34,
     "metadata": {},
     "output_type": "execute_result"
    }
   ],
   "source": [
    "[x for x in range(5)]"
   ]
  },
  {
   "cell_type": "code",
   "execution_count": 21,
   "metadata": {},
   "outputs": [
    {
     "name": "stdout",
     "output_type": "stream",
     "text": [
      "find the greatest common divisor of two numbers\n",
      "128\n"
     ]
    }
   ],
   "source": [
    "def gcd(a,b):\n",
    "    \"\"\"find the greatest common divisor of two numbers\"\"\"\n",
    "    while a != 0:\n",
    "        a,b = b%a,a\n",
    "    return b\n",
    "print (gcd.__doc__ )\n",
    "print (gcd(2176,3072) )"
   ]
  },
  {
   "cell_type": "code",
   "execution_count": 22,
   "metadata": {},
   "outputs": [
    {
     "data": {
      "text/plain": [
       "'find the greatest common divisor of two numbers'"
      ]
     },
     "execution_count": 22,
     "metadata": {},
     "output_type": "execute_result"
    }
   ],
   "source": [
    "gcd.__doc__"
   ]
  },
  {
   "cell_type": "code",
   "execution_count": 23,
   "metadata": {
    "collapsed": true
   },
   "outputs": [],
   "source": [
    "class Stack:\n",
    "    \"\"\"Well known data structure\"\"\"\n",
    "    def __init__(self):     #constructor\n",
    "        self.items = []\n",
    " \n",
    "    def push( self, x ):\n",
    "        self.items.append(x)\n",
    "        \n",
    "    def pop(self):\n",
    "        x = self.items[-1]\n",
    "        del self.items[-1]\n",
    "        return x\n",
    "    \n",
    "    def empty(self):\n",
    "        return len(self.items) == 0\n"
   ]
  },
  {
   "cell_type": "code",
   "execution_count": 24,
   "metadata": {
    "collapsed": true
   },
   "outputs": [],
   "source": [
    "x = Stack()"
   ]
  },
  {
   "cell_type": "code",
   "execution_count": 25,
   "metadata": {},
   "outputs": [
    {
     "name": "stdout",
     "output_type": "stream",
     "text": [
      "True\n",
      "None\n",
      "False\n",
      "1\n",
      "[0, 1, 2, 3, 4, 5, 6, 7, 8, 9]\n"
     ]
    }
   ],
   "source": [
    "print(x.empty())\n",
    "print(x.push(1))\n",
    "print(x.empty())\n",
    "print(x.pop()\n",
    "[x.push(y) for y in range(10)]\n",
    "print(x.items)"
   ]
  },
  {
   "cell_type": "code",
   "execution_count": 26,
   "metadata": {
    "collapsed": true
   },
   "outputs": [],
   "source": [
    "class FancyStack(Stack):\n",
    "    \"\"\"stack with ability to inspect lower stack items\"\"\"\n",
    "    def peek(self, n):\n",
    "        \"\"\"peek(0) returns topmost item peek(-1) the one below that and so on\"\"\"\n",
    "        size = len(self.items)\n",
    "        assert 0 <=n < size\n",
    "        return self.items[size-1-n]"
   ]
  },
  {
   "cell_type": "code",
   "execution_count": 27,
   "metadata": {},
   "outputs": [
    {
     "data": {
      "text/plain": [
       "2"
      ]
     },
     "execution_count": 27,
     "metadata": {},
     "output_type": "execute_result"
    }
   ],
   "source": [
    "afs = FancyStack()\n",
    "[afs.push(x) for x in range(10)]\n",
    "afs.peek(7)"
   ]
  },
  {
   "cell_type": "code",
   "execution_count": 28,
   "metadata": {
    "collapsed": true
   },
   "outputs": [],
   "source": [
    "class LimitedStack(FancyStack):\n",
    "    def __init__(self, limit):\n",
    "        self.limit = limit\n",
    "        super().__init__()\n",
    "        \n",
    "    def push(self, x):\n",
    "        assert(len(self.items) < self.limit)\n",
    "        super().push(x)"
   ]
  },
  {
   "cell_type": "code",
   "execution_count": 29,
   "metadata": {
    "collapsed": true
   },
   "outputs": [],
   "source": [
    "als = LimitedStack(2)\n",
    "als.push(1)\n",
    "als.push(2)\n",
    "# als.push(3)"
   ]
  },
  {
   "cell_type": "code",
   "execution_count": 30,
   "metadata": {},
   "outputs": [
    {
     "data": {
      "text/plain": [
       "[1, 2]"
      ]
     },
     "execution_count": 30,
     "metadata": {},
     "output_type": "execute_result"
    }
   ],
   "source": [
    "als.items"
   ]
  },
  {
   "cell_type": "code",
   "execution_count": 31,
   "metadata": {
    "collapsed": true
   },
   "outputs": [],
   "source": [
    "class Connection:\n",
    "    verbose = 0 # class variable\n",
    "    def __init__(self,host):\n",
    "        self.host = host\n",
    "    def debug(self,v):\n",
    "        self.verbose = v\n",
    "    def connect(self):\n",
    "        if self.verbose:\n",
    "            print ('connecting to host ', self.host)"
   ]
  },
  {
   "cell_type": "code",
   "execution_count": 32,
   "metadata": {},
   "outputs": [
    {
     "name": "stdout",
     "output_type": "stream",
     "text": [
      "0\n",
      "1\n",
      "connecting to host  some host\n"
     ]
    }
   ],
   "source": [
    "ac = Connection('some host')\n",
    "print(ac.verbose)\n",
    "ac.connect()\n",
    "ac.debug(1)\n",
    "print(ac.verbose)\n",
    "ac.connect()"
   ]
  },
  {
   "cell_type": "code",
   "execution_count": 33,
   "metadata": {
    "collapsed": true
   },
   "outputs": [],
   "source": [
    "class VarDemo:\n",
    "    classlist = [1, 2, 3, 4, 5, 6, 7, 8, 9, 10]\n",
    "    def pop(self):\n",
    "        del self.classlist[-1]\n",
    "    def push(self,x):\n",
    "        self.classlist.append(x)"
   ]
  },
  {
   "cell_type": "code",
   "execution_count": 34,
   "metadata": {},
   "outputs": [
    {
     "name": "stdout",
     "output_type": "stream",
     "text": [
      "[1, 2, 3, 4, 5, 6, 7, 8, 9]\n"
     ]
    }
   ],
   "source": [
    "avd = VarDemo()\n",
    "avd.pop()\n",
    "print(avd.classlist)"
   ]
  },
  {
   "cell_type": "code",
   "execution_count": 35,
   "metadata": {},
   "outputs": [
    {
     "name": "stdout",
     "output_type": "stream",
     "text": [
      "[1, 2, 3, 4, 5, 6, 7, 8, 9]\n",
      "[1, 2, 3, 4, 5, 6, 7, 8, 9, 100]\n"
     ]
    }
   ],
   "source": [
    "bvd = VarDemo()\n",
    "print(bvd.classlist)\n",
    "bvd.push(100)\n",
    "print(avd.classlist)"
   ]
  },
  {
   "cell_type": "code",
   "execution_count": 36,
   "metadata": {},
   "outputs": [
    {
     "name": "stdout",
     "output_type": "stream",
     "text": [
      "<_sre.SRE_Match object; span=(0, 4), match='some'> some!some\n"
     ]
    }
   ],
   "source": [
    "import re\n",
    "matches = re.match(\"[a-z]+\", 'some!some')\n",
    "print( matches, matches.string)\n"
   ]
  },
  {
   "cell_type": "code",
   "execution_count": 37,
   "metadata": {},
   "outputs": [
    {
     "name": "stdout",
     "output_type": "stream",
     "text": [
      "<_sre.SRE_Match object; span=(0, 4), match='some'> some!some\n"
     ]
    }
   ],
   "source": [
    "import re as regex\n",
    "matches = regex.match(\"[a-z]+\", 'some!some')\n",
    "print( matches, matches.string)"
   ]
  },
  {
   "cell_type": "code",
   "execution_count": 38,
   "metadata": {},
   "outputs": [
    {
     "name": "stdout",
     "output_type": "stream",
     "text": [
      "<_sre.SRE_Match object; span=(0, 4), match='some'> some!some\n"
     ]
    }
   ],
   "source": [
    "from re import match as m\n",
    "matches = m(\"[a-z]+\", 'some!some')\n",
    "print( matches, matches.string)"
   ]
  },
  {
   "cell_type": "code",
   "execution_count": 39,
   "metadata": {},
   "outputs": [
    {
     "name": "stdout",
     "output_type": "stream",
     "text": [
      "can't divide by zero  float division by zero\n",
      "this will always get printed\n",
      "None\n"
     ]
    }
   ],
   "source": [
    "def foo(x):\n",
    "    return 1. / x\n",
    "\n",
    "def bar(x):\n",
    "    try:\n",
    "        return foo(x)\n",
    "    # except ZeroDivisionError, message and ZeroDivisionError as message\n",
    "    # the first one will work only with python2, 2nd one with both python 2 and 3\n",
    "    except ZeroDivisionError as message:\n",
    "        print( 'can\\'t divide by zero ', message)\n",
    "\n",
    "    finally:\n",
    "        print ('this will always get printed')\n",
    "# print( bar(3))\n",
    "print( bar(0)    )"
   ]
  },
  {
   "cell_type": "code",
   "execution_count": 40,
   "metadata": {},
   "outputs": [
    {
     "name": "stdout",
     "output_type": "stream",
     "text": [
      "7\n",
      "inside value error block \n",
      "closed\n"
     ]
    },
    {
     "ename": "Exception",
     "evalue": "Exception raised inside exception block",
     "output_type": "error",
     "traceback": [
      "\u001b[0;31m---------------------------------------------------------------------------\u001b[0m",
      "\u001b[0;31mValueError\u001b[0m                                Traceback (most recent call last)",
      "\u001b[0;32m<ipython-input-40-fcfc6fd17814>\u001b[0m in \u001b[0;36m<module>\u001b[0;34m()\u001b[0m\n\u001b[1;32m      4\u001b[0m     \u001b[0mprint\u001b[0m\u001b[1;33m(\u001b[0m \u001b[0ma\u001b[0m \u001b[1;33m+\u001b[0m \u001b[0mb\u001b[0m\u001b[1;33m)\u001b[0m\u001b[1;33m\u001b[0m\u001b[0m\n\u001b[0;32m----> 5\u001b[0;31m     \u001b[1;32mraise\u001b[0m \u001b[0mValueError\u001b[0m\u001b[1;33m(\u001b[0m\u001b[1;34m'raisnig an error so that we can get in the catch block'\u001b[0m\u001b[1;33m)\u001b[0m\u001b[1;33m\u001b[0m\u001b[0m\n\u001b[0m\u001b[1;32m      6\u001b[0m \u001b[1;33m\u001b[0m\u001b[0m\n",
      "\u001b[0;31mValueError\u001b[0m: raisnig an error so that we can get in the catch block",
      "\nDuring handling of the above exception, another exception occurred:\n",
      "\u001b[0;31mException\u001b[0m                                 Traceback (most recent call last)",
      "\u001b[0;32m<ipython-input-40-fcfc6fd17814>\u001b[0m in \u001b[0;36m<module>\u001b[0;34m()\u001b[0m\n\u001b[1;32m      7\u001b[0m \u001b[1;32mexcept\u001b[0m \u001b[0mValueError\u001b[0m \u001b[1;32mas\u001b[0m \u001b[0me\u001b[0m\u001b[1;33m:\u001b[0m\u001b[1;33m\u001b[0m\u001b[0m\n\u001b[1;32m      8\u001b[0m     \u001b[0mprint\u001b[0m\u001b[1;33m(\u001b[0m \u001b[1;34m'inside value error block '\u001b[0m\u001b[1;33m)\u001b[0m\u001b[1;33m\u001b[0m\u001b[0m\n\u001b[0;32m----> 9\u001b[0;31m     \u001b[1;32mraise\u001b[0m \u001b[0mException\u001b[0m\u001b[1;33m(\u001b[0m\u001b[1;34m'Exception raised inside exception block'\u001b[0m\u001b[1;33m)\u001b[0m\u001b[1;33m\u001b[0m\u001b[0m\n\u001b[0m\u001b[1;32m     10\u001b[0m \u001b[1;32mexcept\u001b[0m \u001b[0mException\u001b[0m \u001b[1;32mas\u001b[0m \u001b[0me\u001b[0m\u001b[1;33m:\u001b[0m\u001b[1;33m\u001b[0m\u001b[0m\n\u001b[1;32m     11\u001b[0m     \u001b[0mprint\u001b[0m\u001b[1;33m(\u001b[0m \u001b[1;34m'inside later exception block '\u001b[0m\u001b[1;33m,\u001b[0m \u001b[0me\u001b[0m\u001b[1;33m.\u001b[0m\u001b[0mmessage\u001b[0m\u001b[1;33m)\u001b[0m\u001b[1;33m\u001b[0m\u001b[0m\n",
      "\u001b[0;31mException\u001b[0m: Exception raised inside exception block"
     ]
    }
   ],
   "source": [
    "try:\n",
    "    a = 3\n",
    "    b = 4\n",
    "    print( a + b)\n",
    "    raise ValueError('raisnig an error so that we can get in the catch block')\n",
    "    \n",
    "except ValueError as e:\n",
    "    print( 'inside value error block ')\n",
    "    raise Exception('Exception raised inside exception block')\n",
    "except Exception as e:\n",
    "    print( 'inside later exception block ', e.message)\n",
    "finally:\n",
    "    print( 'closed')"
   ]
  },
  {
   "cell_type": "code",
   "execution_count": 41,
   "metadata": {
    "collapsed": true
   },
   "outputs": [],
   "source": [
    "class InvalidWithdrawal(Exception):\n",
    "    def __init__(self, balance, amount):\n",
    "        super().__init__(\"account doesn't have ${}\".format(amount))\n",
    "        self.amount = amount\n",
    "        self.balance = balance\n",
    "    def overage(self):\n",
    "        return self.amount - self.balance"
   ]
  },
  {
   "cell_type": "code",
   "execution_count": 42,
   "metadata": {
    "collapsed": true
   },
   "outputs": [],
   "source": [
    "import sys\n",
    "\n",
    "def withdraw(balance,amount):\n",
    "    try:\n",
    "        if balance > amount:\n",
    "            print( 'New balance is {}'.format(balance - amount))\n",
    "        if balance < amount :\n",
    "            raise InvalidWithdrawal( balance, amount )\n",
    "    except InvalidWithdrawal as e:\n",
    "        print ('exc info \\n', sys.exc_info())\n",
    "#         print (sys.last_traceback, sys.last_type, sys.last_value)\n",
    "        print ('Your balance is {} you cannot withdraw {}'.format(e.balance,e.amount))"
   ]
  },
  {
   "cell_type": "code",
   "execution_count": 43,
   "metadata": {},
   "outputs": [
    {
     "name": "stdout",
     "output_type": "stream",
     "text": [
      "New balance is 100\n",
      "exc info \n",
      " (<class '__main__.InvalidWithdrawal'>, InvalidWithdrawal(\"account doesn't have $200\",), <traceback object at 0x00000145D945C988>)\n",
      "Your balance is 100 you cannot withdraw 200\n"
     ]
    }
   ],
   "source": [
    "withdraw(200,100)\n",
    "withdraw(100,200)"
   ]
  },
  {
   "cell_type": "code",
   "execution_count": 87,
   "metadata": {
    "collapsed": true
   },
   "outputs": [],
   "source": [
    "shak = open('F:\\\\utf\\\\shakespeare.txt','r')"
   ]
  },
  {
   "cell_type": "code",
   "execution_count": 84,
   "metadata": {},
   "outputs": [
    {
     "name": "stdout",
     "output_type": "stream",
     "text": [
      "This is the 100th Etext file presented by Project Gutenberg, and\n",
      "\n",
      "is presented in cooperation with World Library, Inc., from their\n",
      "\n",
      "Library of the Future and Shakespeare CDROMS.  Project Gutenberg\n",
      "\n",
      "often releases Etexts that are NOT placed in the Public Domain!!\n",
      "\n",
      "Shakespeare\n",
      "\n",
      "*This Etext has certain copyright implications you should read!*\n",
      "\n",
      "<<THIS ELECTRONIC VERSION OF THE COMPLETE WORKS OF WILLIAM\n",
      "\n",
      "SHAKESPEARE IS COPYRIGHT 1990-1993 BY WORLD LIBRARY, INC., AND IS\n",
      "\n",
      "PROVIDED BY PROJECT GUTENBERG ETEXT OF ILLINOIS BENEDICTINE COLLEGE\n",
      "\n",
      "WITH PERMISSION.  ELECTRONIC AND MACHINE READABLE COPIES MAY BE\n",
      "\n"
     ]
    }
   ],
   "source": [
    "counter = 0\n",
    "for line in shak:\n",
    "    if line.strip() != '' and counter < 10:\n",
    "        print(line)\n",
    "        counter += 1\n",
    "    "
   ]
  },
  {
   "cell_type": "code",
   "execution_count": 85,
   "metadata": {},
   "outputs": [
    {
     "data": {
      "text/plain": [
       "False"
      ]
     },
     "execution_count": 85,
     "metadata": {},
     "output_type": "execute_result"
    }
   ],
   "source": [
    "shak.closed"
   ]
  },
  {
   "cell_type": "code",
   "execution_count": 86,
   "metadata": {
    "collapsed": true
   },
   "outputs": [],
   "source": [
    "shak.close()"
   ]
  },
  {
   "cell_type": "code",
   "execution_count": 88,
   "metadata": {
    "collapsed": true
   },
   "outputs": [],
   "source": [
    "shaklines = shak.readlines()"
   ]
  },
  {
   "cell_type": "code",
   "execution_count": 89,
   "metadata": {},
   "outputs": [
    {
     "data": {
      "text/plain": [
       "124456"
      ]
     },
     "execution_count": 89,
     "metadata": {},
     "output_type": "execute_result"
    }
   ],
   "source": [
    "len(shaklines)"
   ]
  },
  {
   "cell_type": "code",
   "execution_count": 90,
   "metadata": {},
   "outputs": [
    {
     "data": {
      "text/plain": [
       "9616"
      ]
     },
     "execution_count": 90,
     "metadata": {},
     "output_type": "execute_result"
    }
   ],
   "source": [
    "len([x for x in shaklines if x.strip() == ''])"
   ]
  },
  {
   "cell_type": "code",
   "execution_count": 91,
   "metadata": {
    "collapsed": true
   },
   "outputs": [],
   "source": [
    "emplines = 0\n",
    "for x in shaklines :\n",
    "    if x.strip() == '':\n",
    "        emplines += 1\n",
    "    "
   ]
  },
  {
   "cell_type": "markdown",
   "metadata": {},
   "source": [
    "# Arguments - default, variable and keyword arguments"
   ]
  },
  {
   "cell_type": "code",
   "execution_count": 92,
   "metadata": {},
   "outputs": [
    {
     "data": {
      "text/plain": [
       "44"
      ]
     },
     "execution_count": 92,
     "metadata": {},
     "output_type": "execute_result"
    }
   ],
   "source": [
    "from functools import reduce\n",
    "def add(*args):\n",
    "    return reduce( lambda x,y: x + y, args)\n",
    "add(2,3,4,5,6,7,8,9)"
   ]
  },
  {
   "cell_type": "code",
   "execution_count": 93,
   "metadata": {},
   "outputs": [
    {
     "data": {
      "text/plain": [
       "60"
      ]
     },
     "execution_count": 93,
     "metadata": {},
     "output_type": "execute_result"
    }
   ],
   "source": [
    "def add(*blah,**tlah):\n",
    "    sumOfNumbers = reduce( lambda x,y: x + y, blah)\n",
    "    for x,y in tlah.items():\n",
    "        if str(x) == 'mult':\n",
    "            sumOfNumbers *= tlah[x]\n",
    "    return sumOfNumbers\n",
    "add(3,4,5,mult=5)"
   ]
  },
  {
   "cell_type": "code",
   "execution_count": 94,
   "metadata": {},
   "outputs": [
    {
     "data": {
      "text/plain": [
       "68"
      ]
     },
     "execution_count": 94,
     "metadata": {},
     "output_type": "execute_result"
    }
   ],
   "source": [
    "def vsm(**kwargs):\n",
    "    return sum( kwargs[x] for x in kwargs)\n",
    "\n",
    "vsm(f=3, b = 45, d = 20)"
   ]
  },
  {
   "cell_type": "code",
   "execution_count": 95,
   "metadata": {},
   "outputs": [
    {
     "data": {
      "text/plain": [
       "60"
      ]
     },
     "execution_count": 95,
     "metadata": {},
     "output_type": "execute_result"
    }
   ],
   "source": [
    "def nadd(a,b,*args):\n",
    "    return ( a + b ) * reduce( lambda a,b : a + b, args)\n",
    "\n",
    "\n",
    "nadd(1,2,2,3,4,5,6)"
   ]
  },
  {
   "cell_type": "code",
   "execution_count": 96,
   "metadata": {
    "collapsed": true
   },
   "outputs": [],
   "source": [
    "def one_more_add( a,b,**kwargs):\n",
    "    pass"
   ]
  },
  {
   "cell_type": "code",
   "execution_count": 97,
   "metadata": {},
   "outputs": [
    {
     "data": {
      "text/plain": [
       "195"
      ]
     },
     "execution_count": 97,
     "metadata": {},
     "output_type": "execute_result"
    }
   ],
   "source": [
    "def one_more_add( a,b,*args,**kwargs):\n",
    "    return (a+b) * sum(args) * sum([kwargs[x] for x in kwargs])\n",
    "one_more_add(2,3,1,2,fn=2,sn=3,trdn=4,frthn=4)"
   ]
  },
  {
   "cell_type": "code",
   "execution_count": 98,
   "metadata": {},
   "outputs": [
    {
     "ename": "SyntaxError",
     "evalue": "non-default argument follows default argument (<ipython-input-98-3bd85366b741>, line 1)",
     "output_type": "error",
     "traceback": [
      "\u001b[0;36m  File \u001b[0;32m\"<ipython-input-98-3bd85366b741>\"\u001b[0;36m, line \u001b[0;32m1\u001b[0m\n\u001b[0;31m    def final_add_check_default(a=4,b,*args,**kwargs):\u001b[0m\n\u001b[0m                               ^\u001b[0m\n\u001b[0;31mSyntaxError\u001b[0m\u001b[0;31m:\u001b[0m non-default argument follows default argument\n"
     ]
    }
   ],
   "source": [
    "def final_add_check_default(a=4,b,*args,**kwargs):\n",
    "    return (a+b) * sum(args) * sum([kwargs[x] for x in kwargs])"
   ]
  },
  {
   "cell_type": "code",
   "execution_count": 99,
   "metadata": {},
   "outputs": [
    {
     "name": "stdout",
     "output_type": "stream",
     "text": [
      "a is  2  and b is  3  and args is  (5,)\n"
     ]
    },
    {
     "data": {
      "text/plain": [
       "175"
      ]
     },
     "execution_count": 99,
     "metadata": {},
     "output_type": "execute_result"
    }
   ],
   "source": [
    "def final_add_check_default(a,b=4,*args,**kwargs):\n",
    "    print ('a is ', a, ' and b is ', b , ' and args is ', args)\n",
    "    return (a+b) * sum(args) * sum([kwargs[x] for x in kwargs])\n",
    "final_add_check_default(2,3,5,fn=3,sn=4)"
   ]
  },
  {
   "cell_type": "code",
   "execution_count": 100,
   "metadata": {},
   "outputs": [
    {
     "name": "stdout",
     "output_type": "stream",
     "text": [
      "['-a', '-b', '-cfoo', '-d', 'bar', '-e', '-f']\n",
      "[('-a', ''), ('-b', ''), ('-c', 'foo'), ('-d', 'bar'), ('-e', ''), ('-f', '')]\n",
      "[]\n"
     ]
    }
   ],
   "source": [
    "import getopt\n",
    "\n",
    "args = '-a -b -cfoo -d bar -e -f'.split()\n",
    "print( args)\n",
    "optlist, args = getopt.getopt(args,'abc:d:ef')\n",
    "print( optlist)\n",
    "print( args)"
   ]
  },
  {
   "cell_type": "code",
   "execution_count": 101,
   "metadata": {},
   "outputs": [
    {
     "name": "stdout",
     "output_type": "stream",
     "text": [
      "['--condition=foo', '--testing', '--output-file', 'abc.def', '-x', '-d', 'a2']\n",
      "[('--condition', 'foo'), ('--testing', ''), ('--output-file', 'abc.def'), ('-x', ''), ('-d', '')]\n"
     ]
    }
   ],
   "source": [
    "s = '--condition=foo --testing --output-file abc.def -x -d a2'\n",
    "args = s.split()\n",
    "print( args )\n",
    "optlist,args = getopt.getopt(args,'xd',['condition=','output-file=', 'testing'])\n",
    "print( optlist )"
   ]
  },
  {
   "cell_type": "code",
   "execution_count": 102,
   "metadata": {
    "collapsed": true
   },
   "outputs": [],
   "source": [
    "def make_adder(n):\n",
    "    def adder(x) : return x +n\n",
    "    return adder"
   ]
  },
  {
   "cell_type": "code",
   "execution_count": 103,
   "metadata": {},
   "outputs": [
    {
     "data": {
      "text/plain": [
       "92"
      ]
     },
     "execution_count": 103,
     "metadata": {},
     "output_type": "execute_result"
    }
   ],
   "source": [
    "add2 = make_adder(2)\n",
    "add2(90)"
   ]
  },
  {
   "cell_type": "code",
   "execution_count": 104,
   "metadata": {},
   "outputs": [
    {
     "data": {
      "text/plain": [
       "False"
      ]
     },
     "execution_count": 104,
     "metadata": {},
     "output_type": "execute_result"
    }
   ],
   "source": [
    "1/2 == 0"
   ]
  },
  {
   "cell_type": "code",
   "execution_count": 105,
   "metadata": {},
   "outputs": [
    {
     "name": "stdout",
     "output_type": "stream",
     "text": [
      "10\n",
      "11\n"
     ]
    },
    {
     "ename": "StopIteration",
     "evalue": "",
     "output_type": "error",
     "traceback": [
      "\u001b[0;31m---------------------------------------------------------------------------\u001b[0m",
      "\u001b[0;31mStopIteration\u001b[0m                             Traceback (most recent call last)",
      "\u001b[0;32m<ipython-input-105-7a8e3212195b>\u001b[0m in \u001b[0;36m<module>\u001b[0;34m()\u001b[0m\n\u001b[1;32m      9\u001b[0m \u001b[0mprint\u001b[0m \u001b[1;33m(\u001b[0m \u001b[0mnext\u001b[0m\u001b[1;33m(\u001b[0m\u001b[0mg\u001b[0m\u001b[1;33m)\u001b[0m \u001b[1;33m)\u001b[0m\u001b[1;33m\u001b[0m\u001b[0m\n\u001b[1;32m     10\u001b[0m \u001b[0mprint\u001b[0m \u001b[1;33m(\u001b[0m \u001b[0mnext\u001b[0m\u001b[1;33m(\u001b[0m\u001b[0mg\u001b[0m\u001b[1;33m)\u001b[0m \u001b[1;33m)\u001b[0m\u001b[1;33m\u001b[0m\u001b[0m\n\u001b[0;32m---> 11\u001b[0;31m \u001b[0mnext\u001b[0m\u001b[1;33m(\u001b[0m\u001b[0mg\u001b[0m\u001b[1;33m)\u001b[0m\u001b[1;33m\u001b[0m\u001b[0m\n\u001b[0m",
      "\u001b[0;31mStopIteration\u001b[0m: "
     ]
    }
   ],
   "source": [
    "# generator is simply a function which returns an object on which we can call next\n",
    "# we can call next till the StopIteration error is raised \n",
    "# a normal function returns a single value\n",
    "# using yield creates a generator\n",
    "def mygen(n):\n",
    "    yield n\n",
    "    yield n + 1\n",
    "g = mygen(10)\n",
    "print ( next(g) )\n",
    "print ( next(g) )\n",
    "next(g)"
   ]
  },
  {
   "cell_type": "code",
   "execution_count": 106,
   "metadata": {
    "collapsed": true
   },
   "outputs": [],
   "source": [
    "# a generator returns a value when a yield is encountered\n",
    "# and remembers the state\n",
    "# next yield statement generates the next value\n",
    "# unlike a regular function which upon a return discards state"
   ]
  },
  {
   "cell_type": "code",
   "execution_count": 107,
   "metadata": {},
   "outputs": [
    {
     "name": "stdout",
     "output_type": "stream",
     "text": [
      "1\n",
      "2\n",
      "3\n"
     ]
    },
    {
     "ename": "StopIteration",
     "evalue": "",
     "output_type": "error",
     "traceback": [
      "\u001b[0;31m---------------------------------------------------------------------------\u001b[0m",
      "\u001b[0;31mStopIteration\u001b[0m                             Traceback (most recent call last)",
      "\u001b[0;32m<ipython-input-107-2618eada4269>\u001b[0m in \u001b[0;36m<module>\u001b[0;34m()\u001b[0m\n\u001b[1;32m      4\u001b[0m \u001b[0mprint\u001b[0m\u001b[1;33m(\u001b[0m\u001b[0mnext\u001b[0m\u001b[1;33m(\u001b[0m\u001b[0mg\u001b[0m\u001b[1;33m)\u001b[0m\u001b[1;33m)\u001b[0m\u001b[1;33m\u001b[0m\u001b[0m\n\u001b[1;32m      5\u001b[0m \u001b[0mprint\u001b[0m\u001b[1;33m(\u001b[0m\u001b[0mnext\u001b[0m\u001b[1;33m(\u001b[0m\u001b[0mg\u001b[0m\u001b[1;33m)\u001b[0m\u001b[1;33m)\u001b[0m\u001b[1;33m\u001b[0m\u001b[0m\n\u001b[0;32m----> 6\u001b[0;31m \u001b[0mprint\u001b[0m\u001b[1;33m(\u001b[0m\u001b[0mnext\u001b[0m\u001b[1;33m(\u001b[0m\u001b[0mg\u001b[0m\u001b[1;33m)\u001b[0m\u001b[1;33m)\u001b[0m\u001b[1;33m\u001b[0m\u001b[0m\n\u001b[0m",
      "\u001b[0;31mStopIteration\u001b[0m: "
     ]
    }
   ],
   "source": [
    "# generator expressions which are pretty much like list comprehensions\n",
    "g = ( n for n in range(1,4))\n",
    "print(next(g))\n",
    "print(next(g))\n",
    "print(next(g))\n",
    "print(next(g))"
   ]
  },
  {
   "cell_type": "code",
   "execution_count": 108,
   "metadata": {},
   "outputs": [
    {
     "name": "stdout",
     "output_type": "stream",
     "text": [
      "[(0, False), (1, False), (2, True), (3, True), (4, False), (5, True), (6, False), (7, True), (8, False), (9, False)]\n"
     ]
    }
   ],
   "source": [
    "def isprime(n):\n",
    "    if n == 0 or n == 1:\n",
    "        return False\n",
    "    if n == 2  :\n",
    "        return True\n",
    "    for nt in range(2,(int(math.sqrt(n)) + 1)):\n",
    "        if n % nt == 0:\n",
    "            return False\n",
    "    return True\n",
    "    \n",
    "print ( [(x,isprime(x)) for x in range(10)] )"
   ]
  },
  {
   "cell_type": "code",
   "execution_count": 109,
   "metadata": {
    "collapsed": true
   },
   "outputs": [],
   "source": [
    "def getprimes(n):\n",
    "    while True:\n",
    "        if isprime(n):\n",
    "            yield n\n",
    "        n = n + 1"
   ]
  },
  {
   "cell_type": "code",
   "execution_count": 110,
   "metadata": {
    "collapsed": true
   },
   "outputs": [],
   "source": [
    "primegen = getprimes(1000)"
   ]
  },
  {
   "cell_type": "code",
   "execution_count": 111,
   "metadata": {},
   "outputs": [
    {
     "name": "stdout",
     "output_type": "stream",
     "text": [
      "1009\n",
      "1013\n",
      "1019\n",
      "1021\n",
      "1031\n"
     ]
    }
   ],
   "source": [
    "for x in range(5):\n",
    "    np = next(primegen)\n",
    "    print(np)"
   ]
  },
  {
   "cell_type": "code",
   "execution_count": 112,
   "metadata": {},
   "outputs": [
    {
     "data": {
      "text/plain": [
       "[2, 3, 5, 7, 11, 13, 17, 19, 23, 29, 31, 37, 41, 43, 47, 53, 59, 61, 67, 71]"
      ]
     },
     "execution_count": 112,
     "metadata": {},
     "output_type": "execute_result"
    }
   ],
   "source": [
    "import itertools\n",
    "list(itertools.islice(getprimes(1),20))"
   ]
  },
  {
   "cell_type": "code",
   "execution_count": 113,
   "metadata": {
    "collapsed": true
   },
   "outputs": [],
   "source": [
    "cnt = itertools.count(10)"
   ]
  },
  {
   "cell_type": "code",
   "execution_count": 114,
   "metadata": {},
   "outputs": [
    {
     "data": {
      "text/plain": [
       "[10, 11, 12, 13, 14, 15, 16, 17, 18, 19]"
      ]
     },
     "execution_count": 114,
     "metadata": {},
     "output_type": "execute_result"
    }
   ],
   "source": [
    "list(itertools.islice(cnt,10))"
   ]
  },
  {
   "cell_type": "code",
   "execution_count": 115,
   "metadata": {},
   "outputs": [
    {
     "data": {
      "text/plain": [
       "[1, 3, 6, 10]"
      ]
     },
     "execution_count": 115,
     "metadata": {},
     "output_type": "execute_result"
    }
   ],
   "source": [
    "list( itertools.accumulate([1,2,3,4]))"
   ]
  },
  {
   "cell_type": "code",
   "execution_count": 116,
   "metadata": {},
   "outputs": [
    {
     "data": {
      "text/plain": [
       "['A', 'B', 'C', 'D', 'E', 'F']"
      ]
     },
     "execution_count": 116,
     "metadata": {},
     "output_type": "execute_result"
    }
   ],
   "source": [
    "list(itertools.chain('ABC','DEF'))"
   ]
  },
  {
   "cell_type": "code",
   "execution_count": 117,
   "metadata": {
    "collapsed": true
   },
   "outputs": [],
   "source": [
    "?itertools.product"
   ]
  },
  {
   "cell_type": "code",
   "execution_count": 118,
   "metadata": {},
   "outputs": [
    {
     "data": {
      "text/plain": [
       "[('c', 'a'), ('c', 'b'), ('d', 'a'), ('d', 'b'), ('e', 'a'), ('e', 'b')]"
      ]
     },
     "execution_count": 118,
     "metadata": {},
     "output_type": "execute_result"
    }
   ],
   "source": [
    "list(itertools.product('cde','ab'))"
   ]
  },
  {
   "cell_type": "code",
   "execution_count": 119,
   "metadata": {},
   "outputs": [
    {
     "data": {
      "text/plain": [
       "[(1, 2), (1, 3), (2, 3)]"
      ]
     },
     "execution_count": 119,
     "metadata": {},
     "output_type": "execute_result"
    }
   ],
   "source": [
    "list(itertools.combinations([1,2,3],2))"
   ]
  },
  {
   "cell_type": "code",
   "execution_count": 120,
   "metadata": {},
   "outputs": [
    {
     "data": {
      "text/plain": [
       "385"
      ]
     },
     "execution_count": 120,
     "metadata": {},
     "output_type": "execute_result"
    }
   ],
   "source": [
    "from functools import reduce\n",
    "m = lambda x : x * x\n",
    "r = lambda x,y : x + y\n",
    "def mapreduce(l):\n",
    "    return reduce( r, [ m(x) for x in l] )\n",
    "mapreduce(range(11))\n"
   ]
  }
 ],
 "metadata": {
  "anaconda-cloud": {},
  "kernelspec": {
   "display_name": "Python [default]",
   "language": "python",
   "name": "python3"
  },
  "language_info": {
   "codemirror_mode": {
    "name": "ipython",
    "version": 3
   },
   "file_extension": ".py",
   "mimetype": "text/x-python",
   "name": "python",
   "nbconvert_exporter": "python",
   "pygments_lexer": "ipython3",
   "version": "3.6.2"
  }
 },
 "nbformat": 4,
 "nbformat_minor": 1
}
