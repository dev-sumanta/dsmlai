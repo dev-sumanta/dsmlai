{
 "cells": [
  {
   "cell_type": "markdown",
   "metadata": {
    "slideshow": {
     "slide_type": "slide"
    }
   },
   "source": [
    "<h3><font color='blue'>===============================================</font></h3>\n",
    "<h2>Logistic Regression</h2>\n",
    "<br>\n",
    "<ul>\n",
    "<li>Supervised Learning algorithm</li>\n",
    "<li>We have to predict whether an example is an instance of a class or not</li>\n",
    "<li>We will use the sigmoid function whose range stays between 0 and 1</li>\n",
    "<li>We will understand the cost function for logistic regression as a sum of the costs for \n",
    "the two scenarios - when the example is positive - the 1 cost - and when it is not - the zero cost</li>\n",
    "<li>We will apply logistic regression to classify messages as ham or spam</li>\n",
    "<li>For doing that we will first figure out how to build our feature set</li>\n",
    "<li>We will look at how to vectorize sentences and build a dictionary corpus</li>\n",
    "<li>We will then have a wide feature set and every message will be an example, a vector which will have a \n",
    "positive value for some features and a blank, 0 for most</li>\n",
    "<li>We will investigate the scikit, python structures for efficient sparse vectors and matrices representation</li>\n",
    "<li>We will then apply logistic regression to build the spam classifier</li>\n",
    "</ul>\n",
    "<br>\n",
    "<h3><font color='blue'>===============================================</font></h3>"
   ]
  },
  {
   "cell_type": "code",
   "execution_count": 1,
   "metadata": {
    "slideshow": {
     "slide_type": "slide"
    }
   },
   "outputs": [
    {
     "name": "stdout",
     "output_type": "stream",
     "text": [
      "Populating the interactive namespace from numpy and matplotlib\n"
     ]
    }
   ],
   "source": [
    "# Lets load some of the libraries\n",
    "%pylab inline\n",
    "from scipy.special import expit, logit\n",
    "import scipy.sparse as sp\n",
    "from math import sqrt, log\n",
    "import numpy as np"
   ]
  },
  {
   "cell_type": "markdown",
   "metadata": {
    "slideshow": {
     "slide_type": "slide"
    }
   },
   "source": [
    "<h3><font color='blue'>===============================================</font></h3>\n",
    "<h2>Logistic Regression</h2>\n",
    "<h4>Our hypothesis should satisfy:</h4>\n",
    "\n",
    "<h4>$0≤h_θ(x)≤1$</h4>\n",
    "\n",
    "<h4>We will use the \"Sigmoid Function,\" also called the \"Logistic Function\":</h4>\n",
    "\n",
    "<h4>$h_θ(x)=g(θ^Tx)$</h4>\n",
    "<h4>$z=θ^Tx$</h4>\n",
    "<h4>$g(z)= \\dfrac {1}{1+e^{-z}}$</h4>\n",
    "<h4>The Sigmoid/Logistic function has a range of 0 to 1 for all values of x</h4>\n",
    "<h3><font color='blue'>===============================================</font></h3>\n"
   ]
  },
  {
   "cell_type": "code",
   "execution_count": 2,
   "metadata": {
    "slideshow": {
     "slide_type": "slide"
    }
   },
   "outputs": [
    {
     "data": {
      "image/png": "[encoded data removed]",
      "text/plain": [
       "<matplotlib.figure.Figure at 0x299ca350898>"
      ]
     },
     "metadata": {},
     "output_type": "display_data"
    }
   ],
   "source": [
    "# Lets draw the sigmoid function\n",
    "fig = figure()\n",
    "x = np.linspace(-10,10,5000)\n",
    "y =  1 / ( 1 + np.exp(-x))\n",
    "ax = plt.gca()\n",
    "plt.xlabel('X')\n",
    "plt.ylabel('Sigmoid(X)')\n",
    "plt.plot(x,y)\n",
    "ax.spines['right'].set_color('none')\n",
    "ax.spines['left'].set_position( ('data',0) )\n",
    "# ax.spines['top'].set_color('none')\n",
    "# ax.spines['bottom'].set_position( ('data',0.5) )\n",
    "fig.set_size_inches(6,6)"
   ]
  },
  {
   "cell_type": "markdown",
   "metadata": {
    "slideshow": {
     "slide_type": "slide"
    }
   },
   "source": [
    "<h3><font color='blue'>===============================================</font></h3>\n",
    "<h5>We start with our old hypothesis (linear regression), except that we want to restrict the range to 0 and 1. This is accomplished by plugging $θ^Tx$ into the Logistic Function</h5>\n",
    "\n",
    "<h5>$h_θ$  will give us the probability that our output is 1. For example, hθ(x)=0.7 gives us the probability of 70% that our output is 1</h5>\n",
    "\n",
    "<h4>$h_θ(x)=P(y=1|x ;θ)=1−P(y=0|x ;θ)$</h4>\n",
    "<h4>$P(y=0|x;θ)+P(y=1|x ;θ)=1$</h4>\n",
    "\n",
    "<h4>Decision boundary:</h4>\n",
    "<h4>It is the line that separates the area where y = 0 from where y = 1 and we consider probability less than 0.5 to equal the 0 case and greater to equal the 1 case</h4>\n",
    "\n",
    "<p>We can compress our cost function's two conditional cases into one case:\n",
    "<br><br>\n",
    "$Cost(h_θ(x),y)=−ylog(h_θ(x))−(1−y)log(1−h_θ(x))$\n",
    "<br><br>\n",
    "Notice that when y is equal to 1, then the second term ((1−y)log(1−hθ(x))) will be zero and will not affect the result. If y is equal to 0, then the first term (−ylog(hθ(x))) will be zero and will not affect the result</p>\n",
    "\n",
    "<h4>We can represent the cost function as:</h4>\n",
    "<h4>$J(θ)=-\\ \\dfrac {1}{m} \\displaystyle \\sum _{i=1}^m[y^{(i)}log(h_θ(x^{(i)}))+(1−y^{(i)})log(1−h_θ(x^{(i)}))]$</h4>\n",
    "\n",
    "A vectorized implementation is:\n",
    "\n",
    "<h4>$J(θ)=-\\ \\dfrac {1}{m} (log(g^{{(\\theta^TX)}})y+log(1−g^{(\\theta^TX)})(1−y))$</h4>\n",
    "<h3><font color='blue'>===============================================</font></h3>"
   ]
  },
  {
   "cell_type": "markdown",
   "metadata": {},
   "source": [
    "### Turning text into vectors\n",
    "### CountVectorizer"
   ]
  },
  {
   "cell_type": "code",
   "execution_count": 3,
   "metadata": {
    "collapsed": true,
    "slideshow": {
     "slide_type": "slide"
    }
   },
   "outputs": [],
   "source": [
    "# Lets import the text vectorizers\n",
    "from sklearn.feature_extraction.text import TfidfVectorizer, CountVectorizer,HashingVectorizer\n"
   ]
  },
  {
   "cell_type": "code",
   "execution_count": 4,
   "metadata": {
    "collapsed": true,
    "slideshow": {
     "slide_type": "fragment"
    }
   },
   "outputs": [],
   "source": [
    "# Lets build a corpus of arbitrary sentences and see the count vectorizer in operation\n",
    "corpus = [\n",
    "'a bag of words representation in a bag inside a bag',\n",
    "'what is the bag of words  representation',\n",
    "    'we are going to explore'\n",
    "]"
   ]
  },
  {
   "cell_type": "code",
   "execution_count": 5,
   "metadata": {
    "slideshow": {
     "slide_type": "fragment"
    }
   },
   "outputs": [
    {
     "name": "stdout",
     "output_type": "stream",
     "text": [
      "\n",
      "We see that it builds a sparse matrix\n",
      "\n",
      "type of ourdict <class 'scipy.sparse.csr.csr_matrix'>\n",
      "\n",
      "We check the dense representation to be an array of rows equal to the number of \n",
      "sentences in our corpus and columns equal to the total number of unique words \n",
      "and a 1 for the words that are in our sentence and a 0 for the rest\n",
      "\n",
      "(3, 14) [[0 3 0 0 1 1 0 1 1 0 0 0 0 1]\n",
      " [0 1 0 0 0 0 1 1 1 1 0 0 1 1]\n",
      " [1 0 1 1 0 0 0 0 0 0 1 1 0 0]]\n",
      "\n",
      "The sparse representation\n",
      "  (0, 5)\t1\n",
      "  (0, 4)\t1\n",
      "  (0, 8)\t1\n",
      "  (0, 13)\t1\n",
      "  (0, 7)\t1\n",
      "  (0, 1)\t3\n",
      "  (1, 9)\t1\n",
      "  (1, 6)\t1\n",
      "  (1, 12)\t1\n",
      "  (1, 8)\t1\n",
      "  (1, 13)\t1\n",
      "  (1, 7)\t1\n",
      "  (1, 1)\t1\n",
      "  (2, 2)\t1\n",
      "  (2, 10)\t1\n",
      "  (2, 3)\t1\n",
      "  (2, 0)\t1\n",
      "  (2, 11)\t1\n"
     ]
    }
   ],
   "source": [
    "# Lets intialize and fit a count vectorizer to our corpus\n",
    "vectorizer = CountVectorizer()\n",
    "ourdict = vectorizer.fit_transform(corpus)\n",
    "print(  '\\nWe see that it builds a sparse matrix\\n' )\n",
    "print(  \"type of ourdict \" + str(type(ourdict) ))\n",
    "print(  '\\nWe check the dense representation to be an array of rows equal to the number of ' )\n",
    "print(  'sentences in our corpus and columns equal to the total number of unique words ' )\n",
    "print(  'and a 1 for the words that are in our sentence and a 0 for the rest\\n' )\n",
    "print(  ourdict.todense().shape ,  ourdict.todense() )\n",
    "print(  '\\nThe sparse representation' )\n",
    "print(  ourdict )"
   ]
  },
  {
   "cell_type": "code",
   "execution_count": 6,
   "metadata": {
    "slideshow": {
     "slide_type": "fragment"
    }
   },
   "outputs": [
    {
     "name": "stdout",
     "output_type": "stream",
     "text": [
      "{'bag': 1, 'of': 7, 'words': 13, 'representation': 8, 'in': 4, 'inside': 5, 'what': 12, 'is': 6, 'the': 9, 'we': 11, 'are': 0, 'going': 3, 'to': 10, 'explore': 2} 14\n",
      "[('are', 0), ('bag', 1), ('explore', 2), ('going', 3), ('in', 4), ('inside', 5), ('is', 6), ('of', 7), ('representation', 8), ('the', 9), ('to', 10), ('we', 11), ('what', 12), ('words', 13)]\n"
     ]
    }
   ],
   "source": [
    "# The vocabulary built is a dictionary\n",
    "print ( vectorizer.vocabulary_, len(vectorizer.vocabulary_))\n",
    "print(sorted( vectorizer.vocabulary_.items(), key = lambda x : x[1]))"
   ]
  },
  {
   "cell_type": "code",
   "execution_count": 7,
   "metadata": {
    "slideshow": {
     "slide_type": "slide"
    }
   },
   "outputs": [
    {
     "data": {
      "text/plain": [
       "matrix([[0, 3, 0, 0, 1, 1, 0, 1, 1, 0, 0, 0, 0, 1],\n",
       "        [0, 1, 0, 0, 0, 0, 1, 1, 1, 1, 0, 0, 1, 1],\n",
       "        [1, 0, 1, 1, 0, 0, 0, 0, 0, 0, 1, 1, 0, 0]], dtype=int64)"
      ]
     },
     "execution_count": 7,
     "metadata": {},
     "output_type": "execute_result"
    }
   ],
   "source": [
    "# Lets compare the sentences based on the count of the number of words in the sentences\n",
    "counts = vectorizer.fit_transform(corpus)\n",
    "counts.todense()"
   ]
  },
  {
   "cell_type": "code",
   "execution_count": 8,
   "metadata": {
    "slideshow": {
     "slide_type": "fragment"
    }
   },
   "outputs": [
    {
     "name": "stdout",
     "output_type": "stream",
     "text": [
      "3.00\n",
      "4.36\n",
      "3.46\n",
      "0.00\n"
     ]
    }
   ],
   "source": [
    "# Lets see the distances between the pairs of sentences\n",
    "from sklearn.metrics.pairwise import euclidean_distances\n",
    "print('%.2f' %  euclidean_distances( counts[0], counts[1])  )\n",
    "print('%.2f' %  euclidean_distances( counts[0], counts[2])  )\n",
    "print('%.2f' % (euclidean_distances( counts[2], counts[1])  ))\n",
    "print('%.2f' % (euclidean_distances( counts[0], counts[0])  ))"
   ]
  },
  {
   "cell_type": "code",
   "execution_count": 9,
   "metadata": {},
   "outputs": [
    {
     "data": {
      "text/plain": [
       "['some', 'text', 'for', 'processing']"
      ]
     },
     "execution_count": 9,
     "metadata": {},
     "output_type": "execute_result"
    }
   ],
   "source": [
    "def tokenizer(text):\n",
    "    return [w for w in text.split()]\n",
    "tokenizer( 'some text for    processing' )"
   ]
  },
  {
   "cell_type": "markdown",
   "metadata": {
    "slideshow": {
     "slide_type": "slide"
    }
   },
   "source": [
    "<h3><font color='blue'>===============================================</font></h3>\n",
    "<h4>TfIDF representation</h4>\n",
    "<ul>\n",
    "<li>Tf - Term frequency - the number of times a word occurs in a sentence/document/text vector. More the number of times it occurs, more important it is. Two documents having similar term freuqency are likely to be more similar</li>\n",
    "<li>Idf - Inverse document frequency. Total number of documents / No of documents in which the word occurs. The rarer a word is, the more weight it should carry in pronouncing similarity of two documents - for our understanding here - the sentences are the documents and the array of sentences the corpus</li>\n",
    "<li>Tfidf - The product of Tf and Idf </li>\n",
    "</ul>\n",
    "</h4>\n",
    "<h3><font color='blue'>===============================================</font></h3>"
   ]
  },
  {
   "cell_type": "markdown",
   "metadata": {},
   "source": [
    "## Tf-idf  formula in scikit learn\n",
    "$idf(t,d)= log \\dfrac{1+n_d}{ 1 + df(d,t)}$<br><br>\n",
    "where $n_d$ = number of documents in the corpus<br><br>\n",
    "and df(d,t) = number of documetns in which the term t appears<br><br>\n",
    "$tf-idf(t,d)=tf(t,d) * (idf(t,d) + 1 )$"
   ]
  },
  {
   "cell_type": "code",
   "execution_count": 10,
   "metadata": {
    "collapsed": true,
    "slideshow": {
     "slide_type": "slide"
    }
   },
   "outputs": [],
   "source": [
    "# Lets build a dummy new corpus purposely repeating some words across documents to understand tfidf\n",
    "ncorpus = [\n",
    "    'simple bag words bag words bag words',\n",
    "    'another bag words',\n",
    "    'complex bag words',\n",
    "    'complex trick demo',\n",
    "    'new new trick demo'\n",
    "]"
   ]
  },
  {
   "cell_type": "code",
   "execution_count": 11,
   "metadata": {},
   "outputs": [
    {
     "name": "stdout",
     "output_type": "stream",
     "text": [
      "2.10\n",
      "4.22\n",
      "4.22\n"
     ]
    }
   ],
   "source": [
    "# Lets calculate the tfidfs for the first sentence\n",
    "# Term frequency - simple - 1, bag - 3, words -3 \n",
    "idfsimple = np.log( (1+5)/(1+1))\n",
    "tfidfsimple = 1 * ( idfsimple + 1 )\n",
    "print('{0:.2f}'.format(tfidfsimple))\n",
    "\n",
    "idfbag = np.log( (1+5) / ( 1 + 3 ) )\n",
    "tfidfbag = 3 * ( idfbag + 1 )\n",
    "print('{0:.2f}'.format(tfidfbag))\n",
    "\n",
    "idfwords = np.log( (1+5) / ( 1 + 3 ) )\n",
    "tfidfwords = 3 * ( idfwords + 1 )\n",
    "print('{0:.2f}'.format(tfidfwords))"
   ]
  },
  {
   "cell_type": "code",
   "execution_count": 12,
   "metadata": {
    "slideshow": {
     "slide_type": "fragment"
    }
   },
   "outputs": [
    {
     "name": "stdout",
     "output_type": "stream",
     "text": [
      "<class 'sklearn.feature_extraction.text.TfidfVectorizer'>\n"
     ]
    }
   ],
   "source": [
    "# Lets initialize a tfidfvectorizer - we will currently leave out normalization\n",
    "ntfidfvect = TfidfVectorizer(norm=False)\n",
    "print ( type(ntfidfvect) )"
   ]
  },
  {
   "cell_type": "code",
   "execution_count": 13,
   "metadata": {
    "slideshow": {
     "slide_type": "fragment"
    }
   },
   "outputs": [
    {
     "name": "stdout",
     "output_type": "stream",
     "text": [
      "\n",
      "The type of the result of a tfidf fit_transform operation and the sparse matrix produced\n",
      "\n",
      "<class 'scipy.sparse.csr.csr_matrix'> \n",
      "and the matrix itself\n",
      "   (0, 5)\t2.09861228867\n",
      "  (0, 1)\t4.21639532432\n",
      "  (0, 7)\t4.21639532432\n",
      "  (1, 1)\t1.40546510811\n",
      "  (1, 7)\t1.40546510811\n",
      "  (1, 0)\t2.09861228867\n",
      "  (2, 1)\t1.40546510811\n",
      "  (2, 7)\t1.40546510811\n",
      "  (2, 2)\t1.69314718056\n",
      "  (3, 2)\t1.69314718056\n",
      "  (3, 6)\t1.69314718056\n",
      "  (3, 3)\t1.69314718056\n",
      "  (4, 6)\t1.69314718056\n",
      "  (4, 3)\t1.69314718056\n",
      "  (4, 4)\t4.19722457734\n",
      "\n",
      "The vocabulary dictionary\n",
      "\n",
      "[('another', 0), ('bag', 1), ('complex', 2), ('demo', 3), ('new', 4), ('simple', 5), ('trick', 6), ('words', 7)]\n",
      "\n",
      "The shape of the dense matrix\n",
      " (5, 8) \n",
      "The dense matrix\n",
      " [[ 0.     4.216  0.     0.     0.     2.099  0.     4.216]\n",
      " [ 2.099  1.405  0.     0.     0.     0.     0.     1.405]\n",
      " [ 0.     1.405  1.693  0.     0.     0.     0.     1.405]\n",
      " [ 0.     0.     1.693  1.693  0.     0.     1.693  0.   ]\n",
      " [ 0.     0.     0.     1.693  4.197  0.     1.693  0.   ]]\n"
     ]
    }
   ],
   "source": [
    "# Lets get the output of a fit_transform operation which is a numpy matrx\n",
    "np.set_printoptions(precision=3)\n",
    "ntfidfmat = ntfidfvect.fit_transform(ncorpus)\n",
    "print(  '\\nThe type of the result of a tfidf fit_transform operation and \\\n",
    "the sparse matrix produced\\n' )\n",
    "print(  type( ntfidfmat),'\\nand the matrix itself\\n',ntfidfmat )\n",
    "print(  '\\nThe vocabulary dictionary\\n' )\n",
    "print( sorted( ntfidfvect.vocabulary_.items() , key = lambda x : x[1]))\n",
    "# Lets get the dens form of the matrix\n",
    "finmat = ntfidfmat.todense()\n",
    "# Lets see the shape and the dense matrix\n",
    "\n",
    "print  ('\\nThe shape of the dense matrix\\n', finmat.shape , \n",
    "        '\\nThe dense matrix\\n', finmat )\n",
    "# We can verify the tfidfs generated for the first sentence\n",
    "# are the same as the ones we calculated earlier"
   ]
  },
  {
   "cell_type": "code",
   "execution_count": 14,
   "metadata": {
    "slideshow": {
     "slide_type": "slide"
    }
   },
   "outputs": [
    {
     "name": "stdout",
     "output_type": "stream",
     "text": [
      "[[ 0.     0.667  0.     0.     0.     0.332  0.     0.667]\n",
      " [ 0.726  0.486  0.     0.     0.     0.     0.     0.486]\n",
      " [ 0.     0.538  0.648  0.     0.     0.     0.     0.538]\n",
      " [ 0.     0.     0.577  0.577  0.     0.     0.577  0.   ]\n",
      " [ 0.     0.     0.     0.35   0.869  0.     0.35   0.   ]]\n"
     ]
    }
   ],
   "source": [
    "# Lets also check out the normalized tfidf vectorization which is the default.\n",
    "# The computed scores # for each vector are divided by the l2 norm\n",
    "# of the vector\n",
    "np.set_printoptions(precision=3)\n",
    "normtfidfvect = TfidfVectorizer()\n",
    "normtfidfmat = normtfidfvect.fit_transform(ncorpus)\n",
    "print ( normtfidfmat.todense() )"
   ]
  },
  {
   "cell_type": "code",
   "execution_count": 15,
   "metadata": {},
   "outputs": [
    {
     "name": "stdout",
     "output_type": "stream",
     "text": [
      "6.321404321835433\n",
      "[[ 0.     0.667  0.     0.     0.     0.332  0.     0.667]]\n"
     ]
    }
   ],
   "source": [
    "# quickly verify the normalized calculations\n",
    "# find the l2 norm for the first vector square root of the sum of the squares\n",
    "# of the elements\n",
    "l2normfr= sqrt(sum( x*x.T for x in ntfidfmat.todense()[0]))\n",
    "print(l2normfr)\n",
    "# divide each element by the l2 norm\n",
    "print(ntfidfmat.todense()[0]/l2normfr)"
   ]
  },
  {
   "cell_type": "markdown",
   "metadata": {
    "slideshow": {
     "slide_type": "slide"
    }
   },
   "source": [
    " <h3><font color='blue'>===============================================</font></h3>\n",
    " <h4>Let us load the messages data</h4>\n",
    " <h3><font color='blue'>===============================================</font></h3>"
   ]
  },
  {
   "cell_type": "code",
   "execution_count": 16,
   "metadata": {
    "slideshow": {
     "slide_type": "fragment"
    }
   },
   "outputs": [
    {
     "name": "stdout",
     "output_type": "stream",
     "text": [
      "   label                                            message\n",
      "0      0  Go until jurong point, crazy.. Available only ...\n",
      "1      0                      Ok lar... Joking wif u oni...\n",
      "2      1  Free entry in 2 a wkly comp to win FA Cup fina...\n",
      "3      0  U dun say so early hor... U c already then say...\n",
      "4      0  Nah I don't think he goes to usf, he lives aro...\n",
      "No of ham messages 4827\n",
      "No of spam messages 747\n"
     ]
    }
   ],
   "source": [
    "import pandas as pd\n",
    "df = pd.read_csv('sms.csv')\n",
    "print( df.head())\n",
    "print( 'No of ham messages %d' %  df[df['label'] == 0]['label'].count())\n",
    "print( 'No of spam messages %d' % df[df['label'] ==1]['label'].count())"
   ]
  },
  {
   "cell_type": "code",
   "execution_count": 17,
   "metadata": {},
   "outputs": [
    {
     "name": "stdout",
     "output_type": "stream",
     "text": [
      "[nltk_data] Downloading package punkt to\n",
      "[nltk_data]     C:\\Users\\Samar\\AppData\\Roaming\\nltk_data...\n",
      "[nltk_data]   Package punkt is already up-to-date!\n",
      "[nltk_data] Downloading package stopwords to\n",
      "[nltk_data]     C:\\Users\\Samar\\AppData\\Roaming\\nltk_data...\n",
      "[nltk_data]   Package stopwords is already up-to-date!\n"
     ]
    },
    {
     "data": {
      "text/plain": [
       "True"
      ]
     },
     "execution_count": 17,
     "metadata": {},
     "output_type": "execute_result"
    }
   ],
   "source": [
    "import nltk\n",
    "import string\n",
    "from nltk.stem import PorterStemmer\n",
    "nltk.download('punkt')\n",
    "nltk.download('stopwords')"
   ]
  },
  {
   "cell_type": "code",
   "execution_count": 18,
   "metadata": {},
   "outputs": [
    {
     "data": {
      "text/plain": [
       "['some', 'demo', 'string', 'with', 'punctuation', 'cant']"
      ]
     },
     "execution_count": 18,
     "metadata": {},
     "output_type": "execute_result"
    }
   ],
   "source": [
    "astring = '''some ## $$  % demo, string, with : punctuation; can't'''\n",
    "''.join(x for x in astring if x not in string.punctuation).split()"
   ]
  },
  {
   "cell_type": "code",
   "execution_count": 19,
   "metadata": {},
   "outputs": [
    {
     "name": "stdout",
     "output_type": "stream",
     "text": [
      "Go until jurong point, crazy.. Available only in bugis n great world la e buffet... Cine there got amore wat...\n",
      "go jurong point crazy available bugis great world la buffet cine got amore wat\n",
      "go jurong point crazi avail bugi great world la buffet cine got amor wat\n"
     ]
    }
   ],
   "source": [
    "import re\n",
    "from nltk.corpus import stopwords\n",
    "def message_to_words(message,bln_stemmed):\n",
    "    letters_only = re.sub(\"[^a-zA-z]\", \" \",message)\n",
    "    letters_only = ''.join(x for x in letters_only \n",
    "                           if x not in string.punctuation)\n",
    "    words = letters_only.lower().split()\n",
    "    stops = set(stopwords.words('english'))\n",
    "    meaningful_words = [ w for w in words if w not in stops and len(w) > 1]\n",
    "    stemmer = PorterStemmer()\n",
    "    meaningful_words_stemmed = [ stemmer.stem(w) for w in meaningful_words]\n",
    "    return \" \".join(meaningful_words_stemmed) if bln_stemmed == True else \" \".join(meaningful_words)\n",
    "print(df['message'][0])\n",
    "print(message_to_words(df['message'][0],False))\n",
    "print(message_to_words(df['message'][0],True))"
   ]
  },
  {
   "cell_type": "code",
   "execution_count": 20,
   "metadata": {},
   "outputs": [
    {
     "name": "stdout",
     "output_type": "stream",
     "text": [
      "['i', 'me', 'my', 'myself', 'we', 'our', 'ours', 'ourselves', 'you', \"you're\", \"you've\", \"you'll\", \"you'd\", 'your', 'yours', 'yourself', 'yourselves', 'he', 'him', 'his', 'himself', 'she', \"she's\", 'her', 'hers', 'herself', 'it', \"it's\", 'its', 'itself', 'they', 'them', 'their', 'theirs', 'themselves', 'what', 'which', 'who', 'whom', 'this', 'that', \"that'll\", 'these', 'those', 'am', 'is', 'are', 'was', 'were', 'be', 'been', 'being', 'have', 'has', 'had', 'having', 'do', 'does', 'did', 'doing', 'a', 'an', 'the', 'and', 'but', 'if', 'or', 'because', 'as', 'until', 'while', 'of', 'at', 'by', 'for', 'with', 'about', 'against', 'between', 'into', 'through', 'during', 'before', 'after', 'above', 'below', 'to', 'from', 'up', 'down', 'in', 'out', 'on', 'off', 'over', 'under', 'again', 'further', 'then', 'once', 'here', 'there', 'when', 'where', 'why', 'how', 'all', 'any', 'both', 'each', 'few', 'more', 'most', 'other', 'some', 'such', 'no', 'nor', 'not', 'only', 'own', 'same', 'so', 'than', 'too', 'very', 's', 't', 'can', 'will', 'just', 'don', \"don't\", 'should', \"should've\", 'now', 'd', 'll', 'm', 'o', 're', 've', 'y', 'ain', 'aren', \"aren't\", 'couldn', \"couldn't\", 'didn', \"didn't\", 'doesn', \"doesn't\", 'hadn', \"hadn't\", 'hasn', \"hasn't\", 'haven', \"haven't\", 'isn', \"isn't\", 'ma', 'mightn', \"mightn't\", 'mustn', \"mustn't\", 'needn', \"needn't\", 'shan', \"shan't\", 'shouldn', \"shouldn't\", 'wasn', \"wasn't\", 'weren', \"weren't\", 'won', \"won't\", 'wouldn', \"wouldn't\"]\n"
     ]
    }
   ],
   "source": [
    "print(stopwords.words('english'))"
   ]
  },
  {
   "cell_type": "code",
   "execution_count": 21,
   "metadata": {},
   "outputs": [
    {
     "name": "stdout",
     "output_type": "stream",
     "text": [
      "5574\n",
      "5574\n",
      "5574\n"
     ]
    }
   ],
   "source": [
    "messages_cleaned = []\n",
    "messages_cleaned_and_stemmed = []\n",
    "no_of_messages = df['message'].size\n",
    "print(no_of_messages)\n",
    "for x in range(0,no_of_messages):\n",
    "    messages_cleaned.append(message_to_words(df['message'][x],False))\n",
    "    messages_cleaned_and_stemmed.append(message_to_words(df['message'][x],True))\n",
    "print(len(messages_cleaned))\n",
    "print(len(messages_cleaned_and_stemmed))"
   ]
  },
  {
   "cell_type": "code",
   "execution_count": 22,
   "metadata": {},
   "outputs": [
    {
     "name": "stdout",
     "output_type": "stream",
     "text": [
      "448526\n",
      "273101\n",
      "447\n",
      "252285\n",
      "412\n"
     ]
    }
   ],
   "source": [
    "# let us take a look at the total length and the largest length\n",
    "# of messages in the two sets we created\n",
    "print(sum(len(x) for x in df['message']))\n",
    "print( sum(len(x) for x in messages_cleaned))\n",
    "print(max( [len(x) for x in messages_cleaned ] ))\n",
    "print( sum(len(x) for x in messages_cleaned_and_stemmed))\n",
    "print(max( [len(x) for x in messages_cleaned_and_stemmed ] ))"
   ]
  },
  {
   "cell_type": "code",
   "execution_count": 23,
   "metadata": {},
   "outputs": [
    {
     "name": "stdout",
     "output_type": "stream",
     "text": [
      "love start attract feel need everi time around first thing come thought would start day end everi time dream love everi breath name life happen around life name would cri give happi take sorrow readi fight anyon love craziest thing love proov anyon girl beauti ladi whole planet alway sing prais love start make chicken curri end maki sambar life beauti get everi morn thank god day would like say lot tell later\n"
     ]
    },
    {
     "data": {
      "text/plain": [
       "412"
      ]
     },
     "execution_count": 23,
     "metadata": {},
     "output_type": "execute_result"
    }
   ],
   "source": [
    "# let us look at the longest sentence\n",
    "from functools import reduce\n",
    "longest_message = reduce(lambda x,y : x if len(x) > len(y)  else y,\n",
    "                         messages_cleaned_and_stemmed)\n",
    "print(longest_message)\n",
    "len(longest_message)"
   ]
  },
  {
   "cell_type": "code",
   "execution_count": 24,
   "metadata": {},
   "outputs": [
    {
     "name": "stdout",
     "output_type": "stream",
     "text": [
      "<class 'list'> 5574\n",
      "7618\n",
      "6291\n"
     ]
    }
   ],
   "source": [
    "# total number of words afte cleaning, stemming, tokenizing\n",
    "\n",
    "# print( set( [ y for x in messages_cleaned for y in x.split(' ')] ))\n",
    "print(type(messages_cleaned),len(messages_cleaned))\n",
    "\n",
    "print( len(set( [ y for x in messages_cleaned for y in x.split()] )) )\n",
    "# print( set( [ y for x in messages_cleaned_and_stemmed for y in x.split(' ')] ))\n",
    "print( len(set( [ y for x in messages_cleaned_and_stemmed for y in x.split()] )) )"
   ]
  },
  {
   "cell_type": "code",
   "execution_count": 25,
   "metadata": {},
   "outputs": [
    {
     "data": {
      "text/plain": [
       "['aa',\n",
       " 'aah',\n",
       " 'aaniye',\n",
       " 'aaooooright',\n",
       " 'aathi',\n",
       " 'ab',\n",
       " 'abbey',\n",
       " 'abdomen',\n",
       " 'abeg',\n",
       " 'abel']"
      ]
     },
     "execution_count": 25,
     "metadata": {},
     "output_type": "execute_result"
    }
   ],
   "source": [
    "# take a look at the tokens generated\n",
    "messages_cleaned_tokens = set( [ y for x in messages_cleaned \n",
    "                                for y in x.split()] )\n",
    "mctlist = sorted(messages_cleaned_tokens)\n",
    "mctlist[:10]"
   ]
  },
  {
   "cell_type": "markdown",
   "metadata": {
    "slideshow": {
     "slide_type": "slide"
    }
   },
   "source": [
    "<h3><font color='blue'>===============================================</font></h3>\n",
    "<h4>Let us vectorize the dataset build a term document matrix and apply logistic regression classifier</h4>\n",
    "<h3><font color='blue'>===============================================</font></h3>"
   ]
  },
  {
   "cell_type": "code",
   "execution_count": 26,
   "metadata": {},
   "outputs": [
    {
     "name": "stdout",
     "output_type": "stream",
     "text": [
      "(5574, 7618)\n"
     ]
    }
   ],
   "source": [
    "# before going for train, test split let us check if there\n",
    "# is agreement between numbere of tokens generated by the vectorizer\n",
    "# and what we found for messages_cleaned above\n",
    "allvectorier = TfidfVectorizer()\n",
    "X_all = allvectorier.fit_transform(messages_cleaned)\n",
    "print(X_all.shape)\n",
    "allvectvocab = sorted(allvectorier.vocabulary_)\n",
    "# [x for x in mctlist if x not in allvectvocab ]"
   ]
  },
  {
   "cell_type": "code",
   "execution_count": 27,
   "metadata": {},
   "outputs": [
    {
     "name": "stdout",
     "output_type": "stream",
     "text": [
      "\n",
      "The type of structure generated by vectorizer.fit_transformand the shape\n",
      " <class 'scipy.sparse.csr.csr_matrix'> (4180, 6500)\n",
      "\n",
      "The shape of the test set  (1394, 6500)\n",
      "\n",
      "The first training sample\n",
      "   (0, 2833)\t0.341345835914\n",
      "  (0, 5170)\t0.435676008944\n",
      "  (0, 5623)\t0.380311030443\n",
      "  (0, 5838)\t0.380311030443\n",
      "  (0, 2136)\t0.337611136851\n",
      "  (0, 982)\t0.435676008944\n",
      "  (0, 5251)\t0.317177570592\n",
      "\n",
      "The first test sample\n",
      "   (0, 5953)\t0.68452576594\n",
      "  (0, 5560)\t0.417444073538\n",
      "  (0, 3884)\t0.363774668929\n",
      "  (0, 840)\t0.474165489548\n",
      "\n",
      "The vectorizer vocabulary dictionary first one hundred elements\n",
      " [('aa', 0), ('aah', 1), ('aaooooright', 2), ('aathi', 3), ('abeg', 4), ('aberdeen', 5), ('abi', 6), ('ability', 7), ('abiola', 8), ('abj', 9), ('able', 10), ('aboutas', 11), ('absence', 12), ('absolutely', 13), ('abstract', 14), ('abt', 15), ('abta', 16), ('aburo', 17), ('abuse', 18), ('abusers', 19), ('ac', 20), ('academic', 21), ('acc', 22), ('accent', 23), ('accenture', 24), ('accept', 25), ('access', 26), ('accessible', 27), ('accident', 28), ('accidentally', 29), ('accommodation', 30), ('accommodationvouchers', 31), ('accomodations', 32), ('accordin', 33), ('accordingly', 34), ('account', 35), ('accounting', 36), ('accounts', 37), ('ache', 38), ('achieve', 39), ('acid', 40), ('acknowledgement', 41), ('acl', 42), ('aco', 43), ('across', 44), ('act', 45), ('acted', 46), ('actin', 47), ('acting', 48), ('action', 49), ('activ', 50), ('activate', 51), ('active', 52), ('activities', 53), ('actor', 54), ('actual', 55), ('actually', 56), ('ad', 57), ('adam', 58), ('add', 59), ('addamsfa', 60), ('added', 61), ('addie', 62), ('adding', 63), ('address', 64), ('adds', 65), ('adewale', 66), ('adjustable', 67), ('admin', 68), ('administrator', 69), ('admirer', 70), ('admission', 71), ('admit', 72), ('adore', 73), ('adoring', 74), ('adp', 75), ('adress', 76), ('adrian', 77), ('adrink', 78), ('ads', 79), ('adult', 80), ('advance', 81), ('adventure', 82), ('adventuring', 83), ('advice', 84), ('advise', 85), ('advising', 86), ('advisors', 87), ('ae', 88), ('aeronautics', 89), ('aeroplane', 90), ('afew', 91), ('affair', 92), ('affairs', 93), ('affection', 94), ('affectionate', 95), ('affections', 96), ('affidavit', 97), ('afford', 98), ('afghanistan', 99)]\n",
      "\n",
      "The size of the vectorizer vocabulary\n",
      " 6500\n"
     ]
    }
   ],
   "source": [
    "# Let us prepate the data for the classifier\n",
    "from sklearn.model_selection import train_test_split\n",
    "from sklearn.feature_extraction.text import TfidfVectorizer\n",
    "X_train_raw, X_test_raw, y_train, y_test = train_test_split(\n",
    "    messages_cleaned,df['label'],random_state=1000)\n",
    "# X_train_raw_clean = message_to_words(X_train_raw)\n",
    "# print(X_train_raw.shape,X_test_raw.shae)\n",
    "vectorizer = TfidfVectorizer()\n",
    "X_train = vectorizer.fit_transform(X_train_raw)\n",
    "X_test = vectorizer.transform(X_test_raw)\n",
    "print ( '\\nThe type of structure generated by vectorizer.fit_transform\\\n",
    "and the shape\\n',type(X_train), X_train.shape )\n",
    "print('\\nThe shape of the test set ', X_test.shape)\n",
    "print ( '\\nThe first training sample\\n',X_train[0] )\n",
    "print ( '\\nThe first test sample\\n', X_test[0] )\n",
    "print ( '\\nThe vectorizer vocabulary dictionary first one hundred elements\\n',\n",
    "     [x for x in sorted(vectorizer.vocabulary_.items())[:100]])\n",
    "print ( '\\nThe size of the vectorizer vocabulary\\n',\n",
    "       len(vectorizer.vocabulary_) )"
   ]
  },
  {
   "cell_type": "code",
   "execution_count": 28,
   "metadata": {
    "slideshow": {
     "slide_type": "fragment"
    }
   },
   "outputs": [
    {
     "name": "stdout",
     "output_type": "stream",
     "text": [
      "(4180, 6500)\n",
      "(1394, 6500)\n",
      "(4180,)\n",
      "(1394,)\n",
      "<class 'list'>\n"
     ]
    }
   ],
   "source": [
    "print ( X_train.shape  )\n",
    "print ( X_test.shape  )\n",
    "print ( y_train.shape  )\n",
    "print ( y_test.shape  )\n",
    "print ( type(X_test_raw)  )"
   ]
  },
  {
   "cell_type": "code",
   "execution_count": 29,
   "metadata": {},
   "outputs": [
    {
     "data": {
      "text/plain": [
       "[(0, 8), (1, 9), (2, 10), (3, 11)]"
      ]
     },
     "execution_count": 29,
     "metadata": {},
     "output_type": "execute_result"
    }
   ],
   "source": [
    "[x for x in enumerate(range(8,12))]"
   ]
  },
  {
   "cell_type": "code",
   "execution_count": 30,
   "metadata": {},
   "outputs": [
    {
     "data": {
      "text/plain": [
       "[(3, 1, 9), (2, 2, 10), (4, 3, 'a')]"
      ]
     },
     "execution_count": 30,
     "metadata": {},
     "output_type": "execute_result"
    }
   ],
   "source": [
    "al = [3,2,4]\n",
    "bl = [1,2,3]\n",
    "cl = [9,10,'a']\n",
    "[ x for x in zip(al,bl,cl)]"
   ]
  },
  {
   "cell_type": "code",
   "execution_count": 31,
   "metadata": {
    "slideshow": {
     "slide_type": "slide"
    }
   },
   "outputs": [
    {
     "name": "stdout",
     "output_type": "stream",
     "text": [
      "Message:  ok take care umma label:  0 prediction:  0 probability [ 0.977  0.023]\n",
      "Message:  wanna gym label:  0 prediction:  0 probability [ 0.915  0.085]\n",
      "Message:  st andre virgil cream label:  0 prediction:  0 probability [ 0.895  0.105]\n",
      "Message:  opinion jada kusruthi lovable silent spl character matured stylish simple pls reply label:  0 prediction:  0 probability [ 0.916  0.084]\n",
      "Message:  hey project started aha da label:  0 prediction:  0 probability [ 0.973  0.027]\n",
      "Total differing predictions  49\n"
     ]
    }
   ],
   "source": [
    "# Lets fit LogisticRegression and check messages, labels and predictions\n",
    "from sklearn.linear_model.logistic import LogisticRegression\n",
    "classifier = LogisticRegression(random_state=1)\n",
    "classifier.fit(X_train,y_train)\n",
    "predictions = classifier.predict(X_test)\n",
    "predict_prob = classifier.predict_proba(X_test)\n",
    "\n",
    "# let us take a look at the message, label, prediction and prediction \n",
    "# probability\n",
    "for i, prediction in enumerate(predictions[:5]):\n",
    "    print ( 'Message: ', X_test_raw[i],'label: ', y_test.iloc[i],\n",
    "           'prediction: ', predictions[i],'probability',predict_prob[i] ) \n",
    "\n",
    "# find the total number of inaccurate predictions\n",
    "print('Total differing predictions ',\n",
    "      len([x for x in zip(y_test,predictions) if x[0] != x[1]]))\n",
    "\n",
    "# Take a look at messages where spam has been classified right\n",
    "# print('\\nSpam classified right:\\n')\n",
    "# print('\\n'.join([ str(x) for x in \n",
    "#  zip(X_test_raw,y_test,predictions,predict_prob)\n",
    "#  if x[1] == x[2] and x[1] == 1][:3] ))\n",
    "\n",
    "# Take a look at messages where we have differences\n",
    "# print('\\nSpam classified wrong:\\n')\n",
    "# print([x for x in zip(X_test_raw,y_test,predictions,predict_prob)\n",
    "#  if x[1] != x[2]][:5])"
   ]
  },
  {
   "cell_type": "markdown",
   "metadata": {},
   "source": [
    "<h3><font color='blue'>=================================================================================</font></h3>\n",
    "<h2><font color='indigo'>Classification Metrics<br>\n",
    "$Precision=\\dfrac {TP}{TP+FP}$ , $Recall=\\dfrac {TP}{TP+FN}$<br>\n",
    "$F1=\\dfrac {2PR}{P+R}$<br><br>\n",
    "Sensitivity = True Positive Rate = Recall<br><br>\n",
    "Specificity = True Negative Rate = $ \\dfrac {TN}{TN+FP} $<br><br>\n",
    "False Positive Rate = 1 - Specificity = $ \\dfrac{FP}{TN+FP}$<br><br>\n",
    "ROC - Receiver Operating Characteristics - plots 1-specificity i.e FPR against sensitivity i.e TPR<br><br>\n",
    "Sample output from one of the runs</font></h2>\n",
    "<table cellspacing=\"0\" border=\"0\">\n",
    "\t<colgroup width=\"24\"></colgroup>\n",
    "\t<colgroup width=\"62\"></colgroup>\n",
    "\t<colgroup width=\"49\"></colgroup>\n",
    "\t<colgroup width=\"62\"></colgroup>\n",
    "\t<colgroup width=\"100\"></colgroup>\n",
    "\t<colgroup width=\"64\"></colgroup>\n",
    "\t<colgroup width=\"93\"></colgroup>\n",
    "\t<tr>\n",
    "\t\t<td height=\"26\" align=\"left\"><font size=4><br></font></td>\n",
    "\t\t<td align=\"right\" sdval=\"0\" sdnum=\"16393;\"><font size=4>0</font></td>\n",
    "\t\t<td align=\"right\" sdval=\"1\" sdnum=\"16393;\"><font size=4>1</font></td>\n",
    "\t\t<td align=\"left\"><font size=4><br></font></td>\n",
    "\t\t<td align=\"left\"><font size=4>precision</font></td>\n",
    "\t\t<td align=\"left\"><font size=4>recall</font></td>\n",
    "\t\t<td align=\"left\"><font size=4>f1-score</font></td>\n",
    "\t</tr>\n",
    "\t<tr>\n",
    "\t\t<td height=\"26\" align=\"right\" sdval=\"0\" sdnum=\"16393;\"><font size=4>0</font></td>\n",
    "\t\t<td align=\"right\" sdval=\"1194\" sdnum=\"16393;\"><font size=4>1194</font></td>\n",
    "\t\t<td align=\"right\" sdval=\"48\" sdnum=\"16393;\"><font size=4>48</font></td>\n",
    "\t\t<td align=\"right\" sdval=\"1242\" sdnum=\"16393;\"><font size=4>1242</font></td>\n",
    "\t\t<td align=\"right\" sdval=\"0.996661101836394\" sdnum=\"16393;0;0.00\"><font size=4>1.00</font></td>\n",
    "\t\t<td align=\"right\" sdval=\"0.961352657004831\" sdnum=\"16393;0;0.00\"><font size=4>0.96</font></td>\n",
    "\t\t<td align=\"right\" sdval=\"0.978688524590164\" sdnum=\"16393;0;0.00\"><font size=4>0.98</font></td>\n",
    "\t</tr>\n",
    "\t<tr>\n",
    "\t\t<td height=\"26\" align=\"right\" sdval=\"1\" sdnum=\"16393;\"><font size=4>1</font></td>\n",
    "\t\t<td align=\"right\" sdval=\"4\" sdnum=\"16393;\"><font size=4>4</font></td>\n",
    "\t\t<td align=\"right\" sdval=\"148\" sdnum=\"16393;\"><font size=4>148</font></td>\n",
    "\t\t<td align=\"right\" sdval=\"152\" sdnum=\"16393;\"><font size=4>152</font></td>\n",
    "\t\t<td align=\"right\" sdval=\"0.755102040816326\" sdnum=\"16393;0;0.00\"><font size=4>0.76</font></td>\n",
    "\t\t<td align=\"right\" sdval=\"0.973684210526316\" sdnum=\"16393;0;0.00\"><font size=4>0.97</font></td>\n",
    "\t\t<td align=\"right\" sdval=\"0.850574712643678\" sdnum=\"16393;0;0.00\"><font size=4>0.85</font></td>\n",
    "\t</tr>\n",
    "\t<tr>\n",
    "\t\t<td height=\"26\" align=\"left\"><font size=4><br></font></td>\n",
    "\t\t<td align=\"right\" sdval=\"1198\" sdnum=\"16393;\"><font size=4>1198</font></td>\n",
    "\t\t<td align=\"right\" sdval=\"196\" sdnum=\"16393;\"><font size=4>196</font></td>\n",
    "\t\t<td align=\"right\" sdval=\"1394\" sdnum=\"16393;\"><font size=4>1394</font></td>\n",
    "\t\t<td align=\"left\"><font size=4><br></font></td>\n",
    "\t\t<td align=\"left\"><font size=4><br></font></td>\n",
    "\t\t<td align=\"left\"><font size=4><br></font></td>\n",
    "\t</tr>\n",
    "</table>\n",
    "\n",
    "<h3><font color='blue'>=================================================================================</font></h3>"
   ]
  },
  {
   "cell_type": "code",
   "execution_count": 32,
   "metadata": {},
   "outputs": [
    {
     "name": "stdout",
     "output_type": "stream",
     "text": [
      "[[1212    3]\n",
      " [  46  133]]\n"
     ]
    },
    {
     "data": {
      "image/png": "[encoded data removed]",
      "text/plain": [
       "<matplotlib.figure.Figure at 0x299cdec16d8>"
      ]
     },
     "metadata": {},
     "output_type": "display_data"
    }
   ],
   "source": [
    "# Lets plot the confusion matrix\n",
    "from sklearn.metrics import confusion_matrix\n",
    "import matplotlib.pyplot as plt\n",
    "\n",
    "cmatrix = confusion_matrix(y_test, predictions)\n",
    "print(cmatrix)\n",
    "fig = figure()\n",
    "ax = gca()\n",
    "cax = ax.matshow(cmatrix)\n",
    "plt.title('Confusion matrix')\n",
    "fig.colorbar(cax)\n",
    "plt.ylabel('Predicted label')\n",
    "plt.xlabel('True label')\n",
    "fig.set_size_inches(12,8)"
   ]
  },
  {
   "cell_type": "markdown",
   "metadata": {
    "slideshow": {
     "slide_type": "slide"
    }
   },
   "source": [
    "<h3><font color='blue'>===============================================</font></h3>\n",
    "<h1>Overfitting - variance, Underfitting - bias and Regularization</h1>\n",
    "<h4>We may find that our model performs well on training data and not so well on test and new data</h4>\n",
    "<h4>In machine learning parlance this means that the model has been excessively specialized to account for all the variance in the data. Hence the model has high variance.</h4>\n",
    "<h4>To address variance we may penalize the learning parameters - by adding some penalty term for each of the parameter - what we are doing is effectively toning down the impact of the parameter</h4>\n",
    "<h4>Thus we may refine our cost function as:</h4>\n",
    "<h4>$J(θ)=−\\dfrac{1}{m}\\displaystyle \\sum _{i=1}^m \\; [y^{(i)} log(h_θ^{(x^{(i)})})+(1−y^{(i)}) log(1−h_θ^{(x^{(i)})})]+ \\dfrac {λ}{2m}\\displaystyle \\sum_{j=1}^nθ_j^2$</h4>\n",
    "<h4>Here the last term is the regularization penalization which is adding the square of the parameter coefficients</h4>\n",
    "<h4>In scikit this is the L2 regularization by default included in the LogisticRegression class</h4>\n",
    "<h4>The converse case where the model underfits the data in machine learning language is called bias</h4>\n",
    "<h4>Lets take a look at the actions we can take to redress the situation we are facing</h4>\n",
    "<table cellspacing=\"0\" border=\"0\">\n",
    "\t<colgroup width=\"133\"></colgroup>\n",
    "\t<colgroup width=\"222\"></colgroup>\n",
    "\t<colgroup width=\"326\"></colgroup>\n",
    "\t<tr>\n",
    "\t\t<td height=\"17\" align=\"left\" valign=top>Action</td>\n",
    "\t\t<td align=\"left\" valign=top>Effect</td>\n",
    "\t\t<td align=\"left\" valign=top>Logic</td>\n",
    "\t</tr>\n",
    "\t<tr>\n",
    "\t\t<td height=\"17\" align=\"left\" valign=top><br></td>\n",
    "\t\t<td align=\"left\" valign=top><br></td>\n",
    "\t\t<td align=\"left\" valign=top><br></td>\n",
    "\t</tr>\n",
    "\t<tr>\n",
    "\t\t<td height=\"17\" align=\"left\" valign=top>More features</td>\n",
    "\t\t<td align=\"left\" valign=top>Addresses High  Bias, Underfitting</td>\n",
    "\t\t<td align=\"left\" valign=top>More elaborate descriptions tell us more about objects</td>\n",
    "\t</tr>\n",
    "\t<tr>\n",
    "\t\t<td height=\"32\" align=\"left\" valign=top>Less features</td>\n",
    "\t\t<td align=\"left\" valign=top>Addresses High Variance, Overfitting</td>\n",
    "\t\t<td align=\"left\" valign=top>Converse of the more features case</td>\n",
    "\t</tr>\n",
    "\t<tr>\n",
    "\t\t<td height=\"47\" align=\"left\" valign=top>Add regularization penalty</td>\n",
    "\t\t<td align=\"left\" valign=top>Addresses High Variance, Overfitting </td>\n",
    "\t\t<td align=\"left\" valign=top>we are diluting the impact of parameters – setting it extremely high will negate the effect of parameters alltogether</td>\n",
    "\t</tr>\n",
    "\t<tr>\n",
    "\t\t<td height=\"32\" align=\"left\" valign=top>Reduce/remove regularization penalty</td>\n",
    "\t\t<td align=\"left\" valign=top>Addresses High  Bias, Underfitting</td>\n",
    "\t\t<td align=\"left\" valign=top>Converse of above – we want to qualify features with parameters to attain fitting</td>\n",
    "\t</tr>\n",
    "\t<tr>\n",
    "\t\t<td height=\"47\" align=\"left\" valign=top>More examples</td>\n",
    "\t\t<td align=\"left\" valign=top>Fixes high variance</td>\n",
    "\t\t<td align=\"left\" valign=top>The learning will be more evenly spread across a wider range of attributes – making it more representative</td>\n",
    "\t</tr>\n",
    "\t<tr>\n",
    "\t\t<td height=\"62\" align=\"left\" valign=top>Higher degree features</td>\n",
    "\t\t<td align=\"left\" valign=top>Fixes high bias</td>\n",
    "\t\t<td align=\"left\" valign=top>We are hairsplitting the data finer and finer – we may be able to demarcate non linear boundaries – however we will need to use it judiciously – we do not want to be saddled with a high variance situation</td>\n",
    "\t</tr>\n",
    "</table>\n",
    "<h3><font color='blue'>===============================================</font></h3>"
   ]
  },
  {
   "cell_type": "code",
   "execution_count": 47,
   "metadata": {},
   "outputs": [
    {
     "name": "stdout",
     "output_type": "stream",
     "text": [
      "['go jurong point crazy available bugis great world la buffet cine got amore wat', 'ok lar joking wif oni']\n"
     ]
    },
    {
     "data": {
      "text/html": [
       "<div>\n",
       "<style>\n",
       "    .dataframe thead tr:only-child th {\n",
       "        text-align: right;\n",
       "    }\n",
       "\n",
       "    .dataframe thead th {\n",
       "        text-align: left;\n",
       "    }\n",
       "\n",
       "    .dataframe tbody tr th {\n",
       "        vertical-align: top;\n",
       "    }\n",
       "</style>\n",
       "<table border=\"1\" class=\"dataframe\">\n",
       "  <thead>\n",
       "    <tr style=\"text-align: right;\">\n",
       "      <th></th>\n",
       "      <th>label</th>\n",
       "      <th>message</th>\n",
       "    </tr>\n",
       "  </thead>\n",
       "  <tbody>\n",
       "    <tr>\n",
       "      <th>0</th>\n",
       "      <td>0</td>\n",
       "      <td>Go until jurong point, crazy.. Available only ...</td>\n",
       "    </tr>\n",
       "    <tr>\n",
       "      <th>1</th>\n",
       "      <td>0</td>\n",
       "      <td>Ok lar... Joking wif u oni...</td>\n",
       "    </tr>\n",
       "  </tbody>\n",
       "</table>\n",
       "</div>"
      ],
      "text/plain": [
       "   label                                            message\n",
       "0      0  Go until jurong point, crazy.. Available only ...\n",
       "1      0                      Ok lar... Joking wif u oni..."
      ]
     },
     "execution_count": 47,
     "metadata": {},
     "output_type": "execute_result"
    }
   ],
   "source": [
    "# let us see some messages, transform them and use the classifier\n",
    "# to calculate probabilities\n",
    "print(messages_cleaned[:2])\n",
    "df[df.label == 0][:2]"
   ]
  },
  {
   "cell_type": "code",
   "execution_count": 48,
   "metadata": {},
   "outputs": [
    {
     "name": "stdout",
     "output_type": "stream",
     "text": [
      "  (0, 4218)\t0.459848697656\n",
      "  (0, 2900)\t0.572799681567\n",
      "  (0, 2262)\t0.265396974405\n",
      "  (0, 1217)\t0.443870095466\n",
      "  (0, 382)\t0.439298855438\n",
      "[[ 0.  0.  0. ...,  0.  0.  0.]]\n"
     ]
    },
    {
     "data": {
      "text/plain": [
       "array([[ 0.934,  0.066]])"
      ]
     },
     "execution_count": 48,
     "metadata": {},
     "output_type": "execute_result"
    }
   ],
   "source": [
    "\n",
    "tfmat = vectorizer.transform(\n",
    "    [message_to_words(' Go until jurong point, crazy.. Available only ...',\n",
    "                      False)])\n",
    "print( tfmat)\n",
    "print(tfmat.todense()[0])\n",
    "classifier.predict_proba(tfmat)"
   ]
  },
  {
   "cell_type": "code",
   "execution_count": 49,
   "metadata": {
    "slideshow": {
     "slide_type": "fragment"
    }
   },
   "outputs": [
    {
     "name": "stdout",
     "output_type": "stream",
     "text": [
      "[[-0.015 -0.056 -0.037 ..., -0.011  0.231  0.099]] <class 'numpy.ndarray'> (1, 6500)\n",
      "(1394, 6500) (1, 6500)\n",
      "\n",
      " Message: ok take care umma proba 0.023 classifier probabilities  [ 0.977  0.023] Label:  0 Predicted: 0\n",
      "\n",
      " Message: wanna gym proba 0.085 classifier probabilities  [ 0.915  0.085] Label:  0 Predicted: 0\n",
      "\n",
      " Message: st andre virgil cream proba 0.105 classifier probabilities  [ 0.895  0.105] Label:  0 Predicted: 0\n"
     ]
    }
   ],
   "source": [
    "# Lets apply the logistic regression formula to get the probability \n",
    "# for the test examples and see the labels and predictions\n",
    "print (classifier.coef_, type( classifier.coef_ ),classifier.coef_.shape)\n",
    "print (X_test.shape, X_test[0].shape)\n",
    "for x in range(3):\n",
    "    proba = '%.3f' % expit(X_test[x].dot(classifier.coef_.T)+classifier.intercept_)\n",
    "    print ( '\\n','Message:',X_test_raw[x], 'proba', proba, \n",
    "            'classifier probabilities ', predict_prob[x], 'Label: ',y_test.iloc[x],\n",
    "           'Predicted:', predictions[x] )\n",
    "\n"
   ]
  },
  {
   "cell_type": "code",
   "execution_count": 50,
   "metadata": {
    "slideshow": {
     "slide_type": "fragment"
    }
   },
   "outputs": [
    {
     "name": "stdout",
     "output_type": "stream",
     "text": [
      "0.952629522728 [ 0.957  0.955  0.949  0.958  0.945]\n"
     ]
    }
   ],
   "source": [
    "#k-fold cross validation\n",
    "# the sample is divided into k folds that is if sample is 100 and k folds are 5\n",
    "# we will divide into subsamples of 20 each\n",
    "# the subsamples will be created randomly \n",
    "# Lets check the scores running k fold cross validations\n",
    "\n",
    "from sklearn.model_selection import cross_val_score\n",
    "scores = cross_val_score( classifier, X_train, y_train, cv=5)\n",
    "print ( np.mean(scores),scores )"
   ]
  },
  {
   "cell_type": "code",
   "execution_count": 51,
   "metadata": {
    "slideshow": {
     "slide_type": "fragment"
    }
   },
   "outputs": [
    {
     "name": "stdout",
     "output_type": "stream",
     "text": [
      "0.982218866105 [ 0.964  0.975  0.986  1.     0.986]\n"
     ]
    }
   ],
   "source": [
    "# Lets check for precision\n",
    "precisions = cross_val_score( classifier, X_train, y_train, cv=5, scoring='precision')\n",
    "print ( np.mean(precisions),precisions )"
   ]
  },
  {
   "cell_type": "code",
   "execution_count": 52,
   "metadata": {
    "slideshow": {
     "slide_type": "fragment"
    }
   },
   "outputs": [
    {
     "name": "stdout",
     "output_type": "stream",
     "text": [
      "0.663670237541 [ 0.711  0.684  0.632  0.69   0.602]\n"
     ]
    }
   ],
   "source": [
    "# For recall\n",
    "recalls = cross_val_score( classifier, X_train, y_train, cv=5, scoring='recall')\n",
    "print ( np.mean(recalls),recalls )"
   ]
  },
  {
   "cell_type": "code",
   "execution_count": 53,
   "metadata": {
    "slideshow": {
     "slide_type": "fragment"
    }
   },
   "outputs": [
    {
     "name": "stdout",
     "output_type": "stream",
     "text": [
      "0.791273135882 [ 0.818  0.804  0.77   0.817  0.747]\n"
     ]
    }
   ],
   "source": [
    "# For f1\n",
    "f1s = cross_val_score( classifier, X_train, y_train, cv=5,scoring='f1')\n",
    "print ( np.mean(f1s),f1s )"
   ]
  },
  {
   "cell_type": "markdown",
   "metadata": {
    "slideshow": {
     "slide_type": "slide"
    }
   },
   "source": [
    "<h3><font color='blue'>===============================================</font></h3>\n",
    "<h4>The ROC - Receiver operating characteristics curve plots the true positive rate also known as sensitivity, recall - against 1 - specifity rate, the false positive rate</h4>\n",
    "<h4>Sensiivity/Recall/True positive rate - indicates how the specifier performs on a true value</h4>\n",
    "<h4>Specificity tells us how the classifier fares when it sees negative values - higher it is, more accurate the classifier is in recognizing negative values</h4>\n",
    "<h4>Specificity = TN/(FP + TN ) and 1 - Specifcity gives us FP/(FP + TN) - the false positive rate</h4>\n",
    "<h4>Ideally we want the false positive rate to be zero and the true positive rate to be one</h4>\n",
    "<h4>We want the plot of the TPR against FPR to be hugging the top left corner</h4>\n",
    "<h4>Another metric AUC which lies between 0 and 1 indicates the efficiency of the classifier with 1 suggesting a perfect classifier</h4>\n",
    "<h4>We classify on a binary basis taking 0.5 as the default threshold. The ROC curve shows us the trade-offs that will be made when we wish to increase the recall by changing the threshold - we can see the corresponding levels of  loss of specificity that will have to be included</h4>\n",
    "<h4>We should get the intuition behind the point cited above - if instead of using 0.5 we lower the threshold to 0.4 - we are classifying more of 0s as 1s - hence the false positive rate will increase along with the recall</h4>\n",
    "<h4>We should get the reverse bit also - where if we want to increase the specificity - i.e reduce the false positive rate we may have the recall also coming down as we will be classifying examples as 0s more agressively by raising the threshold beyond 0.5</h4>\n",
    "<h3><font color='blue'>===============================================</font></h3>"
   ]
  },
  {
   "cell_type": "code",
   "execution_count": 54,
   "metadata": {
    "slideshow": {
     "slide_type": "slide"
    }
   },
   "outputs": [
    {
     "data": {
      "image/png": "[encoded data removed]",
      "text/plain": [
       "<matplotlib.figure.Figure at 0x299ce073f28>"
      ]
     },
     "metadata": {},
     "output_type": "display_data"
    }
   ],
   "source": [
    "from sklearn.metrics import roc_curve, auc\n",
    "fpr, recall, thlds = roc_curve( y_test, classifier.predict_proba(X_test)[:,1])\n",
    "# print('False positive rate ',fpr[15:18],fpr[-3:])\n",
    "# print(recall[15:18],recall[-3:])\n",
    "# print(thlds[15:18],thlds[-3:])\n",
    "roc_auc = auc(fpr,recall)\n",
    "fig = figure()\n",
    "plt.title('Reciever operating charecteristic')\n",
    "plt.plot(fpr,recall,'b',label='AUC = %0.2f' % roc_auc )\n",
    "plt.legend(loc = 'lower right')\n",
    "plt.plot([0,1],[0,1],'r--')\n",
    "plt.xlim([0.0,1.0])\n",
    "plt.ylim([0.0,1.0])\n",
    "plt.yticks(np.arange(0.0,1.0,0.05))\n",
    "plt.ylabel('Recall')\n",
    "plt.xlabel('Fall-out')\n",
    "fig.set_size_inches(12,10)"
   ]
  },
  {
   "cell_type": "code",
   "execution_count": 55,
   "metadata": {},
   "outputs": [
    {
     "data": {
      "text/plain": [
       "[(0.7039106145251397, 0.0024691358024691358, 0.54849583081161746),\n",
       " (0.71508379888268159, 0.0024691358024691358, 0.53821056417277302),\n",
       " (0.74860335195530725, 0.0024691358024691358, 0.4928811949108779),\n",
       " (0.74860335195530725, 0.0032921810699588477, 0.48726971768072735),\n",
       " (0.76536312849162014, 0.0032921810699588477, 0.4667327926331965),\n",
       " (0.77653631284916202, 0.0032921810699588477, 0.45583176988988805),\n",
       " (0.7988826815642458, 0.0032921810699588477, 0.42745551812795912),\n",
       " (0.81005586592178769, 0.0032921810699588477, 0.42158725692120502),\n",
       " (0.83240223463687146, 0.0032921810699588477, 0.37875206087729635),\n",
       " (0.83240223463687146, 0.00411522633744856, 0.3747732986127752),\n",
       " (0.84357541899441346, 0.00411522633744856, 0.35653573848732389),\n",
       " (0.84357541899441346, 0.00823045267489712, 0.30880565476739968),\n",
       " (0.84916201117318435, 0.00823045267489712, 0.28431428423740662),\n",
       " (0.84916201117318435, 0.010699588477366255, 0.26960834222115515),\n",
       " (0.85474860335195535, 0.010699588477366255, 0.26822918766116871),\n",
       " (0.85474860335195535, 0.011522633744855968, 0.26668810288586697),\n",
       " (0.86033519553072624, 0.011522633744855968, 0.26386643852323011),\n",
       " (0.86033519553072624, 0.012345679012345678, 0.26123686497947657),\n",
       " (0.87150837988826813, 0.012345679012345678, 0.26045526146513287),\n",
       " (0.87150837988826813, 0.01646090534979424, 0.23273570329548673),\n",
       " (0.87709497206703912, 0.01646090534979424, 0.2312962515760566),\n",
       " (0.87709497206703912, 0.018930041152263374, 0.22025460979444692),\n",
       " (0.8938547486033519, 0.018930041152263374, 0.21273799325212336),\n",
       " (0.8938547486033519, 0.019753086419753086, 0.21199357670092073),\n",
       " (0.8994413407821229, 0.019753086419753086, 0.21007883293332114),\n",
       " (0.8994413407821229, 0.024691358024691357, 0.18137235298775134),\n",
       " (0.9050279329608939, 0.024691358024691357, 0.18076740220311396),\n",
       " (0.9050279329608939, 0.026337448559670781, 0.17869680135955887),\n",
       " (0.91061452513966479, 0.026337448559670781, 0.17730091489637848),\n",
       " (0.91061452513966479, 0.027983539094650206, 0.17661998806206425),\n",
       " (0.92178770949720668, 0.027983539094650206, 0.17255481505165784),\n",
       " (0.92178770949720668, 0.028806584362139918, 0.16955616662877279),\n",
       " (0.93296089385474856, 0.028806584362139918, 0.16346276488419045),\n",
       " (0.93296089385474856, 0.032098765432098768, 0.1571842780240276),\n",
       " (0.93854748603351956, 0.032098765432098768, 0.1555913452954332),\n",
       " (0.93854748603351956, 0.03292181069958848, 0.15512455634578026),\n",
       " (0.94413407821229045, 0.03292181069958848, 0.15451377291562673),\n",
       " (0.94413407821229045, 0.051028806584362138, 0.12867321876569077),\n",
       " (0.95530726256983245, 0.051028806584362138, 0.1216693196422924),\n",
       " (0.95530726256983245, 0.072427983539094645, 0.10463732352207729),\n",
       " (0.96089385474860334, 0.072427983539094645, 0.10378221144782673),\n",
       " (0.96089385474860334, 0.080658436213991769, 0.10089334284834173),\n",
       " (0.96648044692737434, 0.080658436213991769, 0.10044213450875766),\n",
       " (0.96648044692737434, 0.13251028806584361, 0.08127126096604366),\n",
       " (0.97206703910614523, 0.13251028806584361, 0.080971407546241506),\n",
       " (0.97206703910614523, 0.1440329218106996, 0.077602431719442949),\n",
       " (0.97765363128491622, 0.1440329218106996, 0.077522041826802182),\n",
       " (0.97765363128491622, 0.14650205761316873, 0.077060172561241591),\n",
       " (0.97765363128491622, 0.14814814814814814, 0.077014328484999686),\n",
       " (0.97765363128491622, 0.14979423868312758, 0.076849716684396538),\n",
       " (0.97765363128491622, 0.15226337448559671, 0.076753694575345408),\n",
       " (0.97765363128491622, 0.15555555555555556, 0.076257454347678721),\n",
       " (0.98324022346368711, 0.15555555555555556, 0.076182664848380668),\n",
       " (0.98324022346368711, 0.16378600823045267, 0.074543747983539049),\n",
       " (0.98882681564245811, 0.16378600823045267, 0.074444545624162473),\n",
       " (0.98882681564245811, 0.18271604938271604, 0.069394491258287602),\n",
       " (0.98882681564245811, 0.194238683127572, 0.069320719466596334),\n",
       " (0.98882681564245811, 0.21152263374485597, 0.067326481692709148),\n",
       " (0.994413407821229, 0.21152263374485597, 0.067307295951663709),\n",
       " (0.994413407821229, 0.21316872427983538, 0.06716042738943076),\n",
       " (0.994413407821229, 0.22551440329218106, 0.065999091378967922),\n",
       " (0.994413407821229, 0.2271604938271605, 0.065990516312682823),\n",
       " (0.994413407821229, 0.29300411522633746, 0.059136891856223534),\n",
       " (0.994413407821229, 0.2946502057613169, 0.058936098383621863),\n",
       " (0.994413407821229, 0.33168724279835393, 0.055758827081461973),\n",
       " (0.994413407821229, 0.33333333333333331, 0.055702223324229784),\n",
       " (0.994413407821229, 0.34897119341563787, 0.055055389610416942),\n",
       " (0.994413407821229, 0.35061728395061731, 0.05502379346874231),\n",
       " (0.994413407821229, 0.35390946502057613, 0.054921169365761913),\n",
       " (0.994413407821229, 0.35555555555555557, 0.054848584731456561),\n",
       " (0.994413407821229, 0.43786008230452678, 0.049454697825822354),\n",
       " (0.994413407821229, 0.43950617283950616, 0.049412889273098073),\n",
       " (0.994413407821229, 0.44444444444444442, 0.049077043484232731),\n",
       " (0.994413407821229, 0.44609053497942386, 0.049005512365516049),\n",
       " (0.994413407821229, 0.46748971193415639, 0.047927739814971379),\n",
       " (0.994413407821229, 0.46913580246913578, 0.047849761746584042),\n",
       " (0.994413407821229, 0.51111111111111107, 0.045389876635906386),\n",
       " (0.994413407821229, 0.51275720164609051, 0.045307452833529167),\n",
       " (0.994413407821229, 0.52016460905349793, 0.044690789109338484),\n",
       " (1.0, 0.52016460905349793, 0.044631469713896331),\n",
       " (1.0, 0.53168724279835389, 0.043953013443747149),\n",
       " (1.0, 0.53333333333333333, 0.043952800707291212),\n",
       " (1.0, 0.58683127572016458, 0.040999965823817368),\n",
       " (1.0, 0.59259259259259256, 0.040952400337717208),\n",
       " (1.0, 0.60493827160493829, 0.040133445892134606),\n",
       " (1.0, 0.60658436213991773, 0.040092202359460649),\n",
       " (1.0, 0.61316872427983538, 0.03967284150191068),\n",
       " (1.0, 0.61481481481481481, 0.039672149316842042),\n",
       " (1.0, 0.6230452674897119, 0.039485782895937134),\n",
       " (1.0, 0.62469135802469133, 0.039478041224418219),\n",
       " (1.0, 0.64197530864197527, 0.038792210127875641),\n",
       " (1.0, 0.64362139917695471, 0.038732614756405145),\n",
       " (1.0, 0.68888888888888888, 0.035956752071034881),\n",
       " (1.0, 0.69053497942386832, 0.035945051336076977),\n",
       " (1.0, 0.69135802469135799, 0.03592185743214283),\n",
       " (1.0, 0.69300411522633742, 0.035865283561401042),\n",
       " (1.0, 0.77942386831275723, 0.031498663880165645),\n",
       " (1.0, 0.78106995884773667, 0.031422746233952609),\n",
       " (1.0, 0.78930041152263375, 0.030977260531275662),\n",
       " (1.0, 0.79176954732510285, 0.030967316286147732),\n",
       " (1.0, 0.81893004115226342, 0.029479506511881755),\n",
       " (1.0, 0.82057613168724275, 0.029409587674112801),\n",
       " (1.0, 0.92757201646090537, 0.021727769500539243),\n",
       " (1.0, 0.92921810699588481, 0.021651463427159422),\n",
       " (1.0, 0.95967078189300414, 0.017756980002100856),\n",
       " (1.0, 0.96131687242798358, 0.017666966174988984),\n",
       " (1.0, 0.9843621399176955, 0.011825478481267779),\n",
       " (1.0, 0.99012345679012348, 0.011399854261064893),\n",
       " (1.0, 1.0, 0.005865923359050707)]"
      ]
     },
     "execution_count": 55,
     "metadata": {},
     "output_type": "execute_result"
    }
   ],
   "source": [
    "# rcurve = roc_curve( y_test, classifier.predict_proba(X_test)[:,1])\n",
    "# rcurve\n",
    "# ?filter\n",
    "list(filter(lambda x : x[0] >= 0.7,zip(recall,fpr,thlds)))"
   ]
  },
  {
   "cell_type": "code",
   "execution_count": 56,
   "metadata": {},
   "outputs": [
    {
     "name": "stdout",
     "output_type": "stream",
     "text": [
      "Counter({(0, 0): 1211, (1, 1): 139, (1, 0): 40, (0, 1): 4})\n"
     ]
    },
    {
     "data": {
      "text/plain": [
       "0.776536312849162"
      ]
     },
     "execution_count": 56,
     "metadata": {},
     "output_type": "execute_result"
    }
   ],
   "source": [
    "from collections import Counter\n",
    "results = [1 if x[1]  > 0.45 else  0 for x in predict_prob]\n",
    "print(Counter(zip(y_test,results)))\n",
    "139/179"
   ]
  },
  {
   "cell_type": "code",
   "execution_count": 57,
   "metadata": {
    "slideshow": {
     "slide_type": "slide"
    }
   },
   "outputs": [
    {
     "name": "stdout",
     "output_type": "stream",
     "text": [
      "Fitting 3 folds for each of 192 candidates, totalling 576 fits\n"
     ]
    },
    {
     "name": "stderr",
     "output_type": "stream",
     "text": [
      "[Parallel(n_jobs=4)]: Done  42 tasks      | elapsed:   17.9s\n",
      "[Parallel(n_jobs=4)]: Done 192 tasks      | elapsed:   30.7s\n",
      "[Parallel(n_jobs=4)]: Done 442 tasks      | elapsed:   50.6s\n"
     ]
    },
    {
     "name": "stdout",
     "output_type": "stream",
     "text": [
      "Best score: 0.851\n"
     ]
    },
    {
     "name": "stderr",
     "output_type": "stream",
     "text": [
      "[Parallel(n_jobs=4)]: Done 576 out of 576 | elapsed:  1.4min finished\n"
     ]
    }
   ],
   "source": [
    "# Lets use grid search to find the best combination of parameters\n",
    "import pandas as pd\n",
    "from sklearn.feature_extraction.text import TfidfVectorizer\n",
    "from sklearn.linear_model.logistic import LogisticRegression\n",
    "from sklearn.model_selection import GridSearchCV\n",
    "from sklearn.pipeline import Pipeline\n",
    "from sklearn.model_selection import train_test_split\n",
    "from sklearn.metrics import precision_score, recall_score, accuracy_score\n",
    "\n",
    "pipeline = Pipeline([\n",
    "        ('vect', TfidfVectorizer()),\n",
    "        ('clf', LogisticRegression())\n",
    "    ])\n",
    "\n",
    "parameters = {\n",
    "    'vect__max_df' : (0.25, 0.50, 0.75),\n",
    "    'vect__max_features' : (2500, 5000, 10000, None),\n",
    "    'vect__norm' : ('l1', 'l2'),\n",
    "    'clf__penalty' : ('l1', 'l2'),\n",
    "    'clf__C' : (0.01, 0.1, 1,10)\n",
    "}\n",
    "grid_search = GridSearchCV(pipeline, parameters, verbose=1,\n",
    "                           scoring='recall', cv=3,n_jobs=4)\n",
    "\n",
    "df = pd.read_csv('sms.csv')\n",
    "\n",
    "X_grid, y_grid =messages_cleaned, df['label']\n",
    "X_train_grid, X_test_grid, y_train_grid, y_test_grid = train_test_split(X_grid, y_grid)\n",
    "grid_search.fit(X_train_grid, y_train_grid)\n",
    "\n",
    "print ('Best score: %0.3f' % grid_search.best_score_)"
   ]
  },
  {
   "cell_type": "code",
   "execution_count": 58,
   "metadata": {
    "slideshow": {
     "slide_type": "fragment"
    }
   },
   "outputs": [
    {
     "name": "stdout",
     "output_type": "stream",
     "text": [
      "Best parameters set:\n",
      "\tclf__C: 10\n",
      "\tclf__penalty: 'l2'\n",
      "\tvect__max_df: 0.25\n",
      "\tvect__max_features: 2500\n",
      "\tvect__norm: 'l2'\n",
      "Accuracy:  0.979913916786\n",
      "Precision:  0.976608187135\n",
      "Recall:  0.874345549738\n"
     ]
    }
   ],
   "source": [
    "# Lets check the results\n",
    "print( 'Best parameters set:' )\n",
    "best_parameters = grid_search.best_estimator_.get_params()\n",
    "for param_name in sorted( parameters.keys()):\n",
    "    print( '\\t%s: %r' %( param_name, best_parameters[param_name]) )\n",
    "predictions_grid = grid_search.predict(X_test_grid)\n",
    "print( 'Accuracy: ', accuracy_score( y_test_grid, predictions_grid ) )\n",
    "print( 'Precision: ', precision_score( y_test_grid, predictions_grid ) )\n",
    "print( 'Recall: ', recall_score( y_test_grid, predictions_grid ) )"
   ]
  },
  {
   "cell_type": "code",
   "execution_count": 59,
   "metadata": {
    "collapsed": true
   },
   "outputs": [],
   "source": [
    "# let us get the best estimator found by grid seach\n",
    "clfg = grid_search.best_estimator_\n"
   ]
  },
  {
   "cell_type": "code",
   "execution_count": 61,
   "metadata": {},
   "outputs": [
    {
     "name": "stdout",
     "output_type": "stream",
     "text": [
      "[[1071  144]\n",
      " [ 152   27]]\n",
      "             precision    recall  f1-score   support\n",
      "\n",
      "          0       0.98      1.00      0.99      1203\n",
      "          1       0.98      0.87      0.92       191\n",
      "\n",
      "avg / total       0.98      0.98      0.98      1394\n",
      "\n",
      "0.979913916786\n"
     ]
    }
   ],
   "source": [
    "# let us see how the best classifier performs\n",
    "from sklearn.metrics import classification_report\n",
    "grid_clf = clfg.fit(X_train_grid,y_train_grid)\n",
    "clf_grid_predictions = grid_clf.predict(X_test_grid)\n",
    "print(confusion_matrix(y_test, grid_clf.predict(X_test_grid)))\n",
    "print(classification_report(y_test_grid,clf_grid_predictions))\n",
    "print(accuracy_score(y_test_grid,clf_grid_predictions))"
   ]
  },
  {
   "cell_type": "code",
   "execution_count": 63,
   "metadata": {},
   "outputs": [
    {
     "name": "stdout",
     "output_type": "stream",
     "text": [
      "[('vect', TfidfVectorizer(analyzer='word', binary=False, decode_error='strict',\n",
      "        dtype=<class 'numpy.int64'>, encoding='utf-8', input='content',\n",
      "        lowercase=True, max_df=0.25, max_features=2500, min_df=1,\n",
      "        ngram_range=(1, 1), norm='l2', preprocessor=None, smooth_idf=True,\n",
      "        stop_words=None, strip_accents=None, sublinear_tf=False,\n",
      "        token_pattern='(?u)\\\\b\\\\w\\\\w+\\\\b', tokenizer=None, use_idf=True,\n",
      "        vocabulary=None)), ('clf', LogisticRegression(C=10, class_weight=None, dual=False, fit_intercept=True,\n",
      "          intercept_scaling=1, max_iter=100, multi_class='ovr', n_jobs=1,\n",
      "          penalty='l2', random_state=None, solver='liblinear', tol=0.0001,\n",
      "          verbose=0, warm_start=False))]\n",
      "<class 'sklearn.feature_extraction.text.TfidfVectorizer'>\n",
      "['blah, 8.6452', 'bloo, 8.6452', 'crab, 8.6452', 'dsn, 8.6452', 'footprints, 8.6452', 'grl, 8.6452', 'horo, 8.6452', 'indians, 8.6452', 'interflora, 8.6452', 'jo, 8.6452', 'kiosk, 8.6452', 'lotr, 8.6452', 'lucozade, 8.6452', 'lucy, 8.6452', 'lyf, 8.6452', 'lyfu, 8.6452', 'meow, 8.6452', 'missin, 8.6452', 'mumtaz, 8.6452', 'nahi, 8.6452', 'natalie, 8.6452', 'ofice, 8.6452', 'os, 8.6452', 'pages, 8.6452', 'pg, 8.6452', 'picsfree, 8.6452', 'politicians, 8.6452', 'prof, 8.6452', 'rally, 8.6452', 'rhythm, 8.6452', 'santa, 8.6452', 'sathya, 8.6452', 'shahjahan, 8.6452', 'shu, 8.6452', 'ubi, 8.6452', 'addicted, 8.2397', 'blank, 8.2397', 'boston, 8.2397', 'bottle, 8.2397', 'callertune, 8.2397', 'changes, 8.2397', 'claire, 8.2397', 'cleared, 8.2397', 'coins, 8.2397', 'contents, 8.2397', 'embarassed, 8.2397', 'evry, 8.2397', 'exe, 8.2397', 'expensive, 8.2397', 'followed, 8.2397']\n"
     ]
    }
   ],
   "source": [
    "# let us see the top features for the vectorizer\n",
    "# we can call the steps on grid search to see the steps making up the pipeline\n",
    "print(grid_clf.steps)\n",
    "# The first step was the vectorizer and from the tuple the second value is the\n",
    "# actual vecctorizer\n",
    "grid_vect = grid_clf.steps[0][1]\n",
    "print(type(grid_vect))\n",
    "\n",
    "# let us see hte top features for the vectorizer\n",
    "print ([ '{0}, {1:1.4f}'.format(x[0],x[1]) \n",
    "        for x in  sorted( zip(grid_vect.get_feature_names(), grid_vect.idf_), \n",
    "        key = lambda x : -x[1])[:50]])\n"
   ]
  },
  {
   "cell_type": "markdown",
   "metadata": {
    "slideshow": {
     "slide_type": "slide"
    }
   },
   "source": [
    "<h3><font color='blue'>===============================================</font></h3>\n",
    "<h1>Naive Bayes</h1>\n",
    "\n",
    "<h4>The probability of a bumper harvest post a good monsoon is greater than the probability of one at the beginning of the next sowing season</h4>\n",
    "\n",
    "<h3>Bayes Theorem</h3>\n",
    "\n",
    "<h4>$P ( A | B ) = \\dfrac {P ( B | A ) P ( A )} {P ( B )} = \\dfrac {P ( A \\cap B )} {P( B )}$</h4>\n",
    "\n",
    "<h4>In plain english:</h4>\n",
    "<h4>$Posterior = \\dfrac { prior \\; x \\; likelihood } {evidence}$</h4>\n",
    "<h4>Classical spam example - lets say we have 100 messages out of which 20 of them are spam and out of the 10 messages that have the word free 8 have been characterized in the data preparation stage as spam. Then we have to find out what is the probability a message is spam if it includes the owrd free</h4>\n",
    "<h4>So we have to find out P(spam|free) which will be equal to $\\dfrac {P(free|spam) * P(spam)} {P(free)}$</h4>\n",
    "<h4>i.e ( 8/20 X 20/100 ) / ( 10 / 100 ) - 80%</h4>\n",
    "<h4>This is the conditional probability. Assuming independence we may have concuded that the probability is 8/20 - 40% only</h4>\n",
    "<h4>If we want to find out probability of spam adding more conditionalities - say free - yes, grocery - no, offer - yes etc - we have to compute for various combinations</h4>\n",
    "<h4>$P ( Spam | W 1 \\cap ¬ W 2 \\cap ¬ W 3 \\cap W 4 ) = \\dfrac{ P ( W 1 \\cap ¬ W 2 \\cap ¬ W 3 \\cap W 4 \\; | \\;spam ) P ( spam ) } { P ( W1 \\cap  ¬ W 2 \\cap ¬ W 3 \\cap W 4 )}$</h4> \n",
    "<h4>This is computationally infeasible</h4>\n",
    "<h4>Naive Bayes makes the class conditional independence assumption that the conditional probabilites are independent if all the events are conditioned on the same class  and the formula becomes</h4>\n",
    "<h4>$P ( Spam | W 1 \\cap ¬ W 2 \\cap ¬ W 3 \\cap W 4 ) = \\dfrac\n",
    "{ P ( W 1 | spam ) P ( ¬ W 2 | spam ) P ( ¬ W 3 | spam ) P ( W 4 | spam ) P ( spam ) }\n",
    "{ P ( W 1 ) P ( ¬ W 2 ) P ( ¬ W 3 ) P ( W 4 ) }$</h4>\n",
    "<h4>Which is simpler and feasible to compute</h4>\n",
    "<h3><font color='blue'>===============================================</font></h3>"
   ]
  },
  {
   "cell_type": "markdown",
   "metadata": {
    "slideshow": {
     "slide_type": "slide"
    }
   },
   "source": [
    "<h3><font color='blue'>===============================================</font></h3>\n",
    "<ul>\n",
    "<li>We will follow the scikit learn steps</li>\n",
    "<li>Initialize the classifier</li>\n",
    "<li>Prepare the data - train, test splits</li>\n",
    "<li>Fit the model</li>\n",
    "<li>Make predictions</li>\n",
    "<li>Measure performance</li>\n",
    "<li>Run cross vaildation, grid search to boost model efficiency</li>\n",
    "</ul>\n",
    "\n",
    "<h3><font color='blue'>===============================================</font></h3>"
   ]
  },
  {
   "cell_type": "code",
   "execution_count": 64,
   "metadata": {},
   "outputs": [
    {
     "name": "stderr",
     "output_type": "stream",
     "text": [
      "C:\\ProgramData\\Anaconda3\\lib\\site-packages\\sklearn\\cross_validation.py:41: DeprecationWarning: This module was deprecated in version 0.18 in favor of the model_selection module into which all the refactored classes and functions are moved. Also note that the interface of the new CV iterators are different from that of this module. This module will be removed in 0.20.\n",
      "  \"This module will be removed in 0.20.\", DeprecationWarning)\n"
     ]
    },
    {
     "name": "stdout",
     "output_type": "stream",
     "text": [
      "The predictions from naive bayes  [0 0 0 ..., 1 0 0]\n",
      "The accuracy score from naive bayes 0.967718794835\n",
      "The cross validated recall scores - the mean :  0.718240044556  and the scores  [ 0.758  0.714  0.683]\n",
      "0.748175749107\n"
     ]
    }
   ],
   "source": [
    "import pandas as pd\n",
    "from sklearn.feature_extraction.text import  TfidfVectorizer, CountVectorizer\n",
    "from sklearn.cross_validation import cross_val_score\n",
    "from sklearn.cross_validation import train_test_split\n",
    "from sklearn.naive_bayes import MultinomialNB\n",
    "from sklearn.pipeline import Pipeline\n",
    "from sklearn.metrics import accuracy_score\n",
    "\n",
    "df = pd.read_csv('sms.csv')\n",
    "pipeline = Pipeline([\n",
    "        ( 'vect', TfidfVectorizer()),\n",
    "        ('clf', MultinomialNB())\n",
    "    ])\n",
    "\n",
    "X_train_NB, X_test_NB, y_train_NB, y_test_NB = train_test_split(messages_cleaned_and_stemmed,df['label'],\n",
    "                                                               random_state=1000)\n",
    "nbvectorizer = TfidfVectorizer()\n",
    "X_train_MNB = nbvectorizer.fit_transform(X_train_NB)\n",
    "X_test_MNB = nbvectorizer.transform(X_test_NB)\n",
    "nbclassifier = MultinomialNB()\n",
    "nbclassifier.fit(X_train_MNB.toarray(),y_train_NB)\n",
    "predictions_MNB = nbclassifier.predict(X_test_MNB.toarray())\n",
    "print ('The predictions from naive bayes ', predictions_MNB )\n",
    "print ( 'The accuracy score from naive bayes', accuracy_score(y_test_NB,predictions_MNB) )\n",
    "nb_scores = cross_val_score(nbclassifier,X_train_MNB.toarray(),y_train_NB,cv = 3,scoring='recall')\n",
    "print ( 'The cross validated recall scores - the mean : ', np.mean(nb_scores),' and the scores ', nb_scores )\n",
    "# here we will need the raw documents and not the transformed ones as we have\n",
    "# the vectorizer in the pipeline\n",
    "print (np.mean(cross_val_score(pipeline,X_train_NB,y_train_NB,cv=5,scoring='recall')))"
   ]
  },
  {
   "cell_type": "code",
   "execution_count": 65,
   "metadata": {},
   "outputs": [
    {
     "name": "stdout",
     "output_type": "stream",
     "text": [
      "X_train_MNB shape is  (4180, 5401)  and y_train shape is  (4180,)\n",
      "yshape  after concatenation (4180, 2)\n",
      "smoothed_cc shape  (2, 1)  smoothed_cc_reshaped shape  (2, 1)\n",
      "feature log prob shape  (2, 5401)  and the first element [[-9.259 -8.881 -8.935 ..., -9.3   -9.566 -9.566]]\n",
      "feature log prob from the classifier shape  (2, 5401) and the first element  [-9.259 -8.881 -8.935 ..., -9.3   -9.566 -9.566]\n",
      "\n",
      "The log probabilities and the predictions as per argmax\n",
      "\n",
      "[(array([-0.007, -4.925]), 0), (array([-0.059, -2.859]), 0), (array([-0.223, -1.609]), 0), (array([-0.056, -2.906]), 0), (array([-0.008, -4.849]), 0), (array([ -4.145e-03,  -5.488e+00]), 0), (array([-0.044, -3.148]), 0), (array([-0.933, -0.5  ]), 1), (array([-0.008, -4.864]), 0), (array([-0.146, -1.996]), 0)]\n",
      "The class log priros we have got - [-0.146 -1.996]  and the ones for the classifier - [-0.146 -1.996]\n",
      "[(0, 0), (0, 0), (0, 0), (0, 0), (0, 0), (0, 0), (0, 0), (1, 1), (0, 0), (0, 0)]\n"
     ]
    }
   ],
   "source": [
    "np.unique(y_train_NB)\n",
    "# The classes which are there in our data set\n",
    "Y = np.unique(y_train_NB)\n",
    "print('X_train_MNB shape is ', X_train_MNB.shape,  ' and y_train shape is ', y_train_NB.shape)\n",
    "Y = y_train_NB.values.reshape(y_train_NB.shape[0],1)\n",
    "Y = np.concatenate((1-Y, Y),axis=1)\n",
    "print('y shape  after concatenation' , Y.shape)\n",
    "n_features = X_train_MNB.shape[1]\n",
    "n_effective_classes = Y.shape[1]\n",
    "# we need to create the feature count for each of the classes\n",
    "# so we do a dot product of the Y matrix and the train set design matrix\n",
    "# we will have a feature count for each of the classes where each of the words\n",
    "# will be feature for the vector\n",
    "feature_count = (Y.T).dot(X_train_MNB.todense())\n",
    "\n",
    "# add the alpha smoothing laplace adjustment a 1 across\n",
    "smoothed_fc = feature_count + 1\n",
    "\n",
    "# print('smoothed fc shape ',smoothed_fc.shape)\n",
    "smoothed_cc = smoothed_fc.sum(axis=1)\n",
    "print('smoothed_cc shape ', smoothed_cc.shape, ' smoothed_cc_reshaped shape ',\n",
    "     smoothed_cc.reshape(-1, 1).shape)\n",
    "# we estimate probabilities for each feature for each class \n",
    "# as its score divided by the total for the class\n",
    "# we use log probabilities and subtract the log of the sum of the vector\n",
    "# for the division operation\n",
    "feature_log_prob = np.log(smoothed_fc) - np.log(smoothed_cc.reshape(-1,1))\n",
    "print('feature log prob shape ' , feature_log_prob.shape , ' and the first element',\n",
    "      feature_log_prob[0])\n",
    "print('feature log prob from the classifier shape ', nbclassifier.feature_log_prob_.shape,'\\\n",
    "and the first element ', nbclassifier.feature_log_prob_[0])\n",
    "print('\\nThe log probabilities and the predictions as per argmax\\n')\n",
    "print([x for x in zip(nbclassifier.predict_log_proba(X_test_MNB)[:10],\n",
    "                     nbclassifier.predict(X_test_MNB)[:10])])\n",
    "# Let us get the predictions ourselves\n",
    "# Get the joint probability for the test set using feature_log_prob\n",
    "# Xtest joint log likelihood\n",
    "Xtest_jll = X_test_MNB.dot(feature_log_prob.T)\n",
    "# Let us get the prior log probabilities for the classes using the training set\n",
    "class_log_prior = np.log(np.bincount(y_train_NB)) - np.log(np.bincount(y_train_NB).sum())\n",
    "print('The class log priros we have got -', class_log_prior, \n",
    "      ' and the ones for the classifier -', nbclassifier.class_log_prior_)\n",
    "predictions_calc = Xtest_jll + class_log_prior\n",
    "\n",
    "print([x for x in zip (predictions_MNB[:10],\n",
    "                       np.array(np.argmax(predictions_calc,axis=1)[:10]).flatten()) ] )\n",
    "# nbclassifier.\n",
    "# nbclassifier.feature_log_prob_.dot(X_test_MNB.todense().T)[:5]"
   ]
  },
  {
   "cell_type": "code",
   "execution_count": 66,
   "metadata": {},
   "outputs": [
    {
     "data": {
      "image/png": "[encoded data removed]",
      "text/plain": [
       "<matplotlib.figure.Figure at 0x299ce12b128>"
      ]
     },
     "metadata": {},
     "output_type": "display_data"
    }
   ],
   "source": [
    "nbpredicts = nbclassifier.predict_proba(X_test_MNB)[:,1]\n",
    "fpr_nb,recall_nb,th_nb = roc_curve(y_test_NB,nbpredicts)\n",
    "auc_nb = auc(fpr_nb,recall_nb)\n",
    "fig = figure()\n",
    "plt.plot(fpr_nb,recall_nb,'g',label='AUC %0.2f' % auc_nb )\n",
    "plt.legend(loc='lower right')\n",
    "plt.plot([0,1],[0,1],'r--')\n",
    "plt.xlim(0.0,1.0)\n",
    "plt.ylim(0.0,1.0)\n",
    "plt.xlabel('FPR')\n",
    "plt.ylabel('TPR')\n",
    "\n",
    "fig.set_size_inches(12,10)"
   ]
  }
 ],
 "metadata": {
  "anaconda-cloud": {},
  "kernelspec": {
   "display_name": "Python [default]",
   "language": "python",
   "name": "python3"
  },
  "language_info": {
   "codemirror_mode": {
    "name": "ipython",
    "version": 3
   },
   "file_extension": ".py",
   "mimetype": "text/x-python",
   "name": "python",
   "nbconvert_exporter": "python",
   "pygments_lexer": "ipython3",
   "version": "3.6.2"
  }
 },
 "nbformat": 4,
 "nbformat_minor": 1
}
