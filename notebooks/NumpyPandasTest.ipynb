{
 "cells": [
  {
   "cell_type": "code",
   "execution_count": 1,
   "metadata": {},
   "outputs": [
    {
     "name": "stdout",
     "output_type": "stream",
     "text": [
      "Populating the interactive namespace from numpy and matplotlib\n"
     ]
    }
   ],
   "source": [
    "%pylab inline\n",
    "import numpy as np\n",
    "import pandas as pd"
   ]
  },
  {
   "cell_type": "code",
   "execution_count": 2,
   "metadata": {
    "collapsed": true
   },
   "outputs": [],
   "source": [
    "def testFunc(func,msg):\n",
    "    try:\n",
    "        func()\n",
    "    except AssertionError as e:\n",
    "        print ('fail', e )\n",
    "    else:\n",
    "        print ( msg )"
   ]
  },
  {
   "cell_type": "code",
   "execution_count": 3,
   "metadata": {
    "collapsed": true
   },
   "outputs": [
    {
     "ename": "SyntaxError",
     "evalue": "invalid syntax (<ipython-input-3-e97998b1bc7c>, line 3)",
     "output_type": "error",
     "traceback": [
      "\u001b[0;36m  File \u001b[0;32m\"<ipython-input-3-e97998b1bc7c>\"\u001b[0;36m, line \u001b[0;32m3\u001b[0m\n\u001b[0;31m    nparr =\u001b[0m\n\u001b[0m            ^\u001b[0m\n\u001b[0;31mSyntaxError\u001b[0m\u001b[0;31m:\u001b[0m invalid syntax\n"
     ]
    }
   ],
   "source": [
    "np.random.seed(100)\n",
    "# TODO -  Initialize nparr to be an array of 4 rows, 6 columns of random integers beween 10 and 1000\n",
    "nparr = \n",
    "#TODO - Set nparrmin and nparrmax to the least and max values in nparr\n",
    "nparrmin =  \n",
    "nparrmax =  \n",
    "# TODO - Find the averages for each of the six columns. You should get an array of shape (6,)\n",
    "nparravgcols =  \n",
    "nparravgcolsshape = \n",
    "# TODO - Find the standard deviation for each of the four rows. You should get an array of shape (4,)\n",
    "nparrstdevrows = \n",
    "nparrstdevrowsshape = \n",
    "\n",
    "def test_arrayshape():\n",
    "    assert nparr.shape == (4,6), \"Please check - you have to create  a 2D array of size 4x6\" \n",
    "def test_arraysminmax():\n",
    "    assert nparrmin == 63 and nparrmax == 958, 'The array min, max are not correct - ' \\\n",
    "    ' please try again'\n",
    "def test_array_colaverages():\n",
    "    assert nparravgcolsshape == (6,) and nparravgcols.sum() == 3872.75, '' \\\n",
    "    'You should get an array of shape (6,) and ' \\\n",
    "    'those six numbers should add up to 3872.75'\n",
    "def test_array_rowstds():\n",
    "    assert nparrstdevrowsshape == (4,) and abs(1068.62356 - nparrstdevrows.sum() ) <= 0.0001, '' \\\n",
    "    'Needed an array of shape(4, ) and the standard deviation of those four numbers ' \\\n",
    "    'should be 1068.6235691'\n",
    "testFunc( test_arrayshape,'Array of right dimebsnion created')\n",
    "testFunc(test_arraysminmax,'The array min and max are right')\n",
    "testFunc(test_array_colaverages,'Correct averages along axis zero')\n",
    "testFunc(test_array_rowstds,'Rows standard deviations computed correctly')"
   ]
  },
  {
   "cell_type": "code",
   "execution_count": 5,
   "metadata": {
    "collapsed": true
   },
   "outputs": [
    {
     "ename": "SyntaxError",
     "evalue": "invalid syntax (<ipython-input-5-d5ae6c34f07c>, line 5)",
     "output_type": "error",
     "traceback": [
      "\u001b[0;36m  File \u001b[0;32m\"<ipython-input-5-d5ae6c34f07c>\"\u001b[0;36m, line \u001b[0;32m5\u001b[0m\n\u001b[0;31m    rowarr =\u001b[0m\n\u001b[0m             ^\u001b[0m\n\u001b[0;31mSyntaxError\u001b[0m\u001b[0;31m:\u001b[0m invalid syntax\n"
     ]
    }
   ],
   "source": [
    "# Carry out row wise and column wise multiplications\n",
    "# We set a seed \n",
    "np.random.seed(100)\n",
    "#TODO - initialize an array of random integers between 0 and 10 to carry out rowwise multiplication\n",
    "rowarr = \n",
    "nparrmultrowarr = \n",
    "print(nparrmultrowarr)\n",
    "#TODO - initialize an array of random integers between 0 and 100 and subtract column wise from  nparr\n",
    "colarr = \n",
    "nparr_less_colarr = \n",
    "print ( nparr_less_colarr.sum() )\n",
    "\n",
    "def test_rowwise_multiply():\n",
    "    assert nparrmultrowarr.sum() == 93826, 'You can initialize an array of shape 6 or of (1,6) and multiply the two ' \\\n",
    "    'the elements of the row will sum to 93826'\n",
    "\n",
    "def test_colwise_subtraction():\n",
    "    assert nparr_less_colarr.sum() == 13967, 'You need to initialize an array of appropriate shape ' \\\n",
    "    ' remember when the first dimension shape matches and the second dimension is 1 column wise ' \\\n",
    "    ' operations will be executed '\n",
    "\n",
    "testFunc(test_rowwise_multiply,'Row wise multiplication is correct')\n",
    "testFunc(test_colwise_subtraction,'Column wise substraction succesful')"
   ]
  },
  {
   "cell_type": "code",
   "execution_count": 14,
   "metadata": {
    "collapsed": true
   },
   "outputs": [
    {
     "name": "stdout",
     "output_type": "stream",
     "text": [
      "matrix dot product computed correctly\n"
     ]
    }
   ],
   "source": [
    "np.random.seed(100)\n",
    "# Prepend a column of ones to nparr\n",
    "nparrwones = \n",
    "# Initialize an array of shape 7 x 1  of random integers between 0 and 10\n",
    "thetaarr = \n",
    "dot_matrix_nparr_thetaarr = \n",
    "\n",
    "\n",
    "def test_dot_matrix_product():\n",
    "    assert dot_matrix_nparr_thetaarr.tolist() == [[19092.0], [19866.0], [17552.0], [18207.0]], 'check - '\\\n",
    "    'you should get the array of 4 x 1 which should be ' \\\n",
    "    'array([[ 19092.], [ 19866.],[ 17552.], [ 18207.]])'\n",
    "\n",
    "testFunc(test_dot_matrix_product,'matrix dot product computed correctly')"
   ]
  },
  {
   "cell_type": "code",
   "execution_count": 15,
   "metadata": {
    "collapsed": true
   },
   "outputs": [
    {
     "name": "stdout",
     "output_type": "stream",
     "text": [
      "fail Check columns - use the columns argument\n",
      "fail Sum of sencod row is incorrect\n",
      "fail Check that you have used correct indices, first two elements of c0 are  8 and 24 - sum -32, 2nd element of 2nd column - 89 less 4th of 2nd column - 20 = 69 - 32 x 69 should give  us 2208 \n",
      "Dot product is correct\n"
     ]
    }
   ],
   "source": [
    "np.random.seed(100)\n",
    "# Initialze a pandas dot frame - it should have rows indexed 'r0', 'r1', 'r2' , 'r3'\n",
    "# and columns 'c0','c1'\n",
    "# The dataframe should have integers between 10 and 100\n",
    "# c0 should have four integers between 0 and 50\n",
    "# c1 should have four integers betwen 10 and 100\n",
    "apd = \n",
    "apd_indices =  \n",
    "apd_columns = \n",
    "# set fc to the name of the first column\n",
    "fc = 'c0'\n",
    "# sum the first column\n",
    "apd_fc_sum = \n",
    "# set fr to the second row \n",
    "fr = 'r1'\n",
    "apd_fr_sum =  \n",
    "# Lets check our understanding of indexing\n",
    "# Add the first two elements of the first column and multiply the sum by the difference of the 4th element\n",
    "# of the second column from the second element of the second column\n",
    "apd_comp_sum =  \n",
    "\n",
    "# initialize a second data frame named sp3 which should be of shape 2 x 3\n",
    "spd = \n",
    "# dot matrix multiply apd and spd - hint you may have to use np.array wrapper around apd\n",
    "apd_dot_spd = \n",
    "\n",
    "def test_df_indices_and_columns() :\n",
    "    assert apd_indices.tolist() == ['r0', 'r1', 'r2', 'r3'], 'Check indices - they are analogous to rows ' \\\n",
    "    'while declarng a datafram they are specified in the index argument'\n",
    "    assert apd_columns.tolist() == ['c2', 'c1'], 'Check columns - use the columns argument'\n",
    "    \n",
    "def test_df_col_row_sums():\n",
    "    assert apd_fc_sum == 74, 'Sum of first column is incorrect'\n",
    "    assert apd_fr_sum == 113, 'Sum of sencod row is incorrect'\n",
    "    \n",
    "def test_df_comp_sum() :\n",
    "    assert apd_comp_sum == 2208 , 'Check that you have used correct indices, first two elements of c0 are ' \\\n",
    "    ' 8 and 24 - sum -32, 2nd element of 2nd column - 89 less 4th of 2nd column - 20 = 69 - 32 x 69 should give ' \\\n",
    "    ' us 2208 '\n",
    "\n",
    "def test_df_dot_product():\n",
    "    assert apd_dot_spd.tolist() == [[5893, 6818, 10290], [6973, 7122, 11074], [3356, 3984, 5978], [4726, 3348, 5782]], '' \\\n",
    "    'Check initializations and try again'\n",
    "    \n",
    "testFunc(test_df_indices_and_columns ,'DataFrame rows and columns initialized correctly')\n",
    "testFunc( test_df_col_row_sums, 'Dataframe column row referred and summed correctly')\n",
    "testFunc( test_df_comp_sum, 'Elements referred correctly')\n",
    "testFunc( test_df_dot_product, 'Dot product is correct')\n"
   ]
  }
 ],
 "metadata": {
  "anaconda-cloud": {},
  "kernelspec": {
   "display_name": "Python 3",
   "language": "python",
   "name": "python3"
  },
  "language_info": {
   "codemirror_mode": {
    "name": "ipython",
    "version": 3
   },
   "file_extension": ".py",
   "mimetype": "text/x-python",
   "name": "python",
   "nbconvert_exporter": "python",
   "pygments_lexer": "ipython3",
   "version": "3.6.1"
  }
 },
 "nbformat": 4,
 "nbformat_minor": 1
}
